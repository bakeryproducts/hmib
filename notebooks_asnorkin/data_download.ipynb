{
 "cells": [
  {
   "cell_type": "code",
   "execution_count": 17,
   "id": "6e11810e",
   "metadata": {},
   "outputs": [],
   "source": [
    "import os.path as osp\n",
    "from io import BytesIO, StringIO\n",
    "\n",
    "import pandas as pd\n",
    "import requests as rq\n",
    "from bs4 import BeautifulSoup\n",
    "from PIL import Image\n",
    "from tqdm import tqdm\n",
    "\n",
    "\n",
    "OUTPUT_DIR = \"../input/extra/hpa/images/\"\n",
    "\n",
    "\n",
    "def url(ens, gene, organ):\n",
    "    return f\"https://www.proteinatlas.org/{ens}-{gene}/tissue/{organ}\""
   ]
  },
  {
   "cell_type": "code",
   "execution_count": 18,
   "id": "216b9c96",
   "metadata": {},
   "outputs": [
    {
     "data": {
      "text/html": [
       "<div>\n",
       "<style scoped>\n",
       "    .dataframe tbody tr th:only-of-type {\n",
       "        vertical-align: middle;\n",
       "    }\n",
       "\n",
       "    .dataframe tbody tr th {\n",
       "        vertical-align: top;\n",
       "    }\n",
       "\n",
       "    .dataframe thead th {\n",
       "        text-align: right;\n",
       "    }\n",
       "</style>\n",
       "<table border=\"1\" class=\"dataframe\">\n",
       "  <thead>\n",
       "    <tr style=\"text-align: right;\">\n",
       "      <th></th>\n",
       "      <th>Ensembl</th>\n",
       "      <th>Gene</th>\n",
       "    </tr>\n",
       "  </thead>\n",
       "  <tbody>\n",
       "    <tr>\n",
       "      <th>0</th>\n",
       "      <td>ENSG00000121410</td>\n",
       "      <td>A1BG</td>\n",
       "    </tr>\n",
       "    <tr>\n",
       "      <th>1</th>\n",
       "      <td>ENSG00000148584</td>\n",
       "      <td>A1CF</td>\n",
       "    </tr>\n",
       "    <tr>\n",
       "      <th>2</th>\n",
       "      <td>ENSG00000175899</td>\n",
       "      <td>A2M</td>\n",
       "    </tr>\n",
       "    <tr>\n",
       "      <th>3</th>\n",
       "      <td>ENSG00000166535</td>\n",
       "      <td>A2ML1</td>\n",
       "    </tr>\n",
       "    <tr>\n",
       "      <th>4</th>\n",
       "      <td>ENSG00000184389</td>\n",
       "      <td>A3GALT2</td>\n",
       "    </tr>\n",
       "  </tbody>\n",
       "</table>\n",
       "</div>"
      ],
      "text/plain": [
       "           Ensembl     Gene\n",
       "0  ENSG00000121410     A1BG\n",
       "1  ENSG00000148584     A1CF\n",
       "2  ENSG00000175899      A2M\n",
       "3  ENSG00000166535    A2ML1\n",
       "4  ENSG00000184389  A3GALT2"
      ]
     },
     "execution_count": 18,
     "metadata": {},
     "output_type": "execute_result"
    }
   ],
   "source": [
    "r = rq.get(\"https://www.proteinatlas.org/api/search_download.php?search=&columns=g&compress=no&format=tsv\")\n",
    "string = StringIO(r.text)\n",
    "df = pd.read_csv(string, sep=\"\\t\")\n",
    "df.head()"
   ]
  },
  {
   "cell_type": "code",
   "execution_count": 28,
   "id": "9d7b2892",
   "metadata": {},
   "outputs": [],
   "source": [
    "from pathlib import Path\n",
    "\n",
    "exist_ens_gene = set()\n",
    "for path in Path(osp.join(OUTPUT_DIR, \"lung\")).rglob(\"*MANUAL.json\"):\n",
    "    ens, gene = osp.basename(path).split(\"|\")[0].split(\"_\")[1:3]\n",
    "    exist_ens_gene.add((ens, gene))"
   ]
  },
  {
   "cell_type": "code",
   "execution_count": 30,
   "id": "a85ac4da",
   "metadata": {},
   "outputs": [
    {
     "name": "stderr",
     "output_type": "stream",
     "text": [
      "  154 imgs saved: 100%|███████████████████████| 200/200 [10:33<00:00,  3.17s/it]\n"
     ]
    }
   ],
   "source": [
    "organs = ['lung']  #, 'spleen', 'kidney', 'colon']\n",
    "\n",
    "metadata = []\n",
    "\n",
    "pbar = tqdm(df.sample(200).index)\n",
    "\n",
    "img_idx = 0\n",
    "for idx in pbar:\n",
    "    ens = df.loc[idx, \"Ensembl\"]\n",
    "    gene = df.loc[idx, \"Gene\"]\n",
    "    if (ens, gene) in exist_ens_gene:\n",
    "        continue\n",
    "    \n",
    "    for organ in organs:\n",
    "        response = rq.get(url(ens, gene, organ))\n",
    "        images = BeautifulSoup(response.text, 'html.parser').findAll('img')\n",
    "        links = ['https:' + img['src'].replace('_medium', '') for img in images if img['src'].startswith('//images.proteinatlas.org')]\n",
    "        \n",
    "        for link in links:\n",
    "            img_name = f\"{organ}_{ens}_{gene}.jpg\"\n",
    "            img_file = osp.join(OUTPUT_DIR, organ, img_name)\n",
    "            img_idx += 1\n",
    "            if osp.exists(img_file):\n",
    "                continue\n",
    "            \n",
    "            r = rq.get(link)\n",
    "            Image.open(BytesIO(r.content)).save(img_file)\n",
    "            metadata.append([img_name, organ])\n",
    "\n",
    "            pbar.set_description(f\"{len(metadata):>5d} imgs saved\")\n",
    "            pbar.refresh()\n"
   ]
  },
  {
   "cell_type": "code",
   "execution_count": null,
   "id": "296f614a",
   "metadata": {},
   "outputs": [],
   "source": []
  }
 ],
 "metadata": {
  "kernelspec": {
   "display_name": "hubmap_env",
   "language": "python",
   "name": "hubmap_env"
  },
  "language_info": {
   "codemirror_mode": {
    "name": "ipython",
    "version": 3
   },
   "file_extension": ".py",
   "mimetype": "text/x-python",
   "name": "python",
   "nbconvert_exporter": "python",
   "pygments_lexer": "ipython3",
   "version": "3.9.12"
  }
 },
 "nbformat": 4,
 "nbformat_minor": 5
}
