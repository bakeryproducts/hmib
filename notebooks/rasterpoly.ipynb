{
 "cells": [
  {
   "cell_type": "code",
   "execution_count": null,
   "id": "a31360ce-3b19-430c-9992-228ddc899087",
   "metadata": {
    "tags": []
   },
   "outputs": [],
   "source": [
    "import rasterio\n",
    "from rasterio import  features\n",
    "from PIL import Image\n",
    "from pathlib import Path\n",
    "import numpy as np\n",
    "from shapely import geometry\n",
    "import datetime\n",
    "import json\n",
    "\n",
    "import matplotlib.pyplot as plt\n",
    "%matplotlib inline"
   ]
  },
  {
   "cell_type": "code",
   "execution_count": null,
   "id": "de942ee1-3481-411e-9a6b-b0372ac50f6f",
   "metadata": {},
   "outputs": [],
   "source": []
  },
  {
   "cell_type": "code",
   "execution_count": null,
   "id": "607866da-c86c-428e-b3af-43c958ac11fd",
   "metadata": {
    "tags": []
   },
   "outputs": [],
   "source": [
    "def mask_to_poly(mask, tolerance):\n",
    "    mask = np.array(mask) * 255\n",
    "    mask = features.sieve(mask, 25)\n",
    "    pp = []\n",
    "    for r,v in features.shapes(mask, mask>0):\n",
    "        cds = r['coordinates']\n",
    "        #print(v, len(cds))\n",
    "        if len(cds) > 1:\n",
    "            raise Exception\n",
    "        if v>0:\n",
    "            poly = np.array(cds)[0]\n",
    "            shp = geometry.Polygon(poly)\n",
    "            poly_s = shp.simplify(tolerance=tolerance)\n",
    "            if shp.area > 1:\n",
    "                poly = np.array(poly_s.exterior.xy).T\n",
    "                pp.append(poly)\n",
    "    return pp\n",
    "\n",
    "def create_ann(src, dst, polys):                                                         \n",
    "    fixed_polys = []                                                                 \n",
    "    for i, poly in enumerate(polys):               \n",
    "        if isinstance(poly, np.ndarray):\n",
    "            poly = poly.tolist()\n",
    "        poly = dict(geometry=dict(coordinates=[poly]))                     \n",
    "        fixed_polys.append(poly)\n",
    "\n",
    "    timestamp = '{:%Y_%b_%d_%H_%M_%S}'.format(datetime.datetime.now())               \n",
    "    fn = dst / (src.stem + \"|\" + timestamp + '.json')\n",
    "    print(f'Saving annotations at {fn}')                                       \n",
    "\n",
    "    with open(str(fn), 'w') as f:                                              \n",
    "        json.dump(fixed_polys, f, indent=4)"
   ]
  },
  {
   "cell_type": "code",
   "execution_count": null,
   "id": "2097c33a-45ad-469e-964f-58d5f7f2480b",
   "metadata": {
    "tags": []
   },
   "outputs": [],
   "source": [
    "src = Path('../input/preprocessed/rle_1024/masks/10044.png')\n",
    "dst = src.parent.parent / 'polys'\n",
    "dst.mkdir(exist_ok=True)\n",
    "\n",
    "mask = Image.open(str(src))\n",
    "Image.fromarray(np.array(mask)*255).resize((128,128))"
   ]
  },
  {
   "cell_type": "code",
   "execution_count": null,
   "id": "fc289a0c-822e-410d-be57-976ba0f8846d",
   "metadata": {
    "tags": []
   },
   "outputs": [],
   "source": [
    "polys = mask_to_poly(mask, 2)"
   ]
  },
  {
   "cell_type": "code",
   "execution_count": null,
   "id": "1c1c3ab6-9ade-48fd-9e67-1e25da5e4a97",
   "metadata": {
    "tags": []
   },
   "outputs": [],
   "source": [
    "p = polys[0]"
   ]
  },
  {
   "cell_type": "code",
   "execution_count": null,
   "id": "59c9af17-87b7-460e-8285-b9a6b33e8868",
   "metadata": {
    "tags": []
   },
   "outputs": [],
   "source": [
    "[len(p) for p in polys]"
   ]
  },
  {
   "cell_type": "code",
   "execution_count": null,
   "id": "75255f1f-370e-48b0-a499-cb6b5605d3ac",
   "metadata": {},
   "outputs": [],
   "source": []
  },
  {
   "cell_type": "code",
   "execution_count": null,
   "id": "9b9c8dfa-6039-4c02-9265-7717d476acc9",
   "metadata": {},
   "outputs": [],
   "source": []
  },
  {
   "cell_type": "code",
   "execution_count": null,
   "id": "049df8fd-78e8-437f-b621-82729824f284",
   "metadata": {},
   "outputs": [],
   "source": []
  },
  {
   "cell_type": "code",
   "execution_count": null,
   "id": "d3877c08-7434-40f3-ae2c-0ef91f70fda2",
   "metadata": {
    "tags": []
   },
   "outputs": [],
   "source": [
    "create_ann(src, dst, polys)"
   ]
  },
  {
   "cell_type": "code",
   "execution_count": null,
   "id": "2af0de6c-8226-4883-8eba-dfa027e55d53",
   "metadata": {},
   "outputs": [],
   "source": []
  },
  {
   "cell_type": "code",
   "execution_count": null,
   "id": "43db5d73-3413-4502-ad7c-758a12a4c8ef",
   "metadata": {},
   "outputs": [],
   "source": []
  },
  {
   "cell_type": "code",
   "execution_count": null,
   "id": "c9324a62-5764-459a-8eb1-7faa30f500fe",
   "metadata": {
    "tags": []
   },
   "outputs": [],
   "source": [
    "plt.imshow(mask > 0)"
   ]
  },
  {
   "cell_type": "code",
   "execution_count": null,
   "id": "c170b47e-aae3-4609-8bab-e152979b0d48",
   "metadata": {
    "tags": []
   },
   "outputs": [],
   "source": []
  },
  {
   "cell_type": "code",
   "execution_count": null,
   "id": "10855cfd-7252-415e-bb60-d55483b38a79",
   "metadata": {
    "tags": []
   },
   "outputs": [],
   "source": []
  },
  {
   "cell_type": "code",
   "execution_count": null,
   "id": "0ee4c040-d7fa-4b0b-9195-b8a7ad61d2ec",
   "metadata": {
    "tags": []
   },
   "outputs": [],
   "source": []
  },
  {
   "cell_type": "code",
   "execution_count": null,
   "id": "3fe46c54-2df5-49be-9056-1a67cc22c09e",
   "metadata": {
    "tags": []
   },
   "outputs": [],
   "source": [
    "uni = None\n",
    "for p in pp:\n",
    "    \n",
    "    if uni is not None:\n",
    "        uni = uni.union(p)\n",
    "    else:\n",
    "        uni = p"
   ]
  },
  {
   "cell_type": "code",
   "execution_count": null,
   "id": "02ceac34-718e-4342-a93a-28306898815d",
   "metadata": {
    "tags": []
   },
   "outputs": [],
   "source": [
    "uni"
   ]
  },
  {
   "cell_type": "code",
   "execution_count": null,
   "id": "9c6329da-788d-4754-b471-70bc10e9f50a",
   "metadata": {},
   "outputs": [],
   "source": []
  },
  {
   "cell_type": "code",
   "execution_count": null,
   "id": "3b57ffc6-d270-4f19-b5a9-00342c8ed140",
   "metadata": {},
   "outputs": [],
   "source": []
  },
  {
   "cell_type": "code",
   "execution_count": null,
   "id": "c3cd5a70-64bc-4ac3-8cf7-b5a6882f7b2a",
   "metadata": {},
   "outputs": [],
   "source": []
  },
  {
   "cell_type": "code",
   "execution_count": null,
   "id": "64d976a2-2d07-4ddd-b01d-826b8501b1eb",
   "metadata": {},
   "outputs": [],
   "source": []
  },
  {
   "cell_type": "code",
   "execution_count": null,
   "id": "a98cefcb-fe07-4348-b216-8f9ea0294035",
   "metadata": {},
   "outputs": [],
   "source": []
  },
  {
   "cell_type": "code",
   "execution_count": null,
   "id": "aab0af6b-830e-46d8-b431-807d36a0b6c3",
   "metadata": {},
   "outputs": [],
   "source": []
  },
  {
   "cell_type": "code",
   "execution_count": null,
   "id": "46945854-1120-4435-8ac6-e51282259b00",
   "metadata": {},
   "outputs": [],
   "source": []
  },
  {
   "cell_type": "code",
   "execution_count": null,
   "id": "2278b124-b72b-4e90-893f-f5462e29a46f",
   "metadata": {},
   "outputs": [],
   "source": []
  },
  {
   "cell_type": "code",
   "execution_count": null,
   "id": "6e6cac38-d577-483b-9a83-3643bfa2c49c",
   "metadata": {},
   "outputs": [],
   "source": []
  },
  {
   "cell_type": "code",
   "execution_count": null,
   "id": "adff130d-28e9-46c3-b050-6ed5fcb7e41c",
   "metadata": {},
   "outputs": [],
   "source": []
  }
 ],
 "metadata": {
  "kernelspec": {
   "display_name": "Python 3 (ipykernel)",
   "language": "python",
   "name": "python3"
  },
  "language_info": {
   "codemirror_mode": {
    "name": "ipython",
    "version": 3
   },
   "file_extension": ".py",
   "mimetype": "text/x-python",
   "name": "python",
   "nbconvert_exporter": "python",
   "pygments_lexer": "ipython3",
   "version": "3.8.10"
  }
 },
 "nbformat": 4,
 "nbformat_minor": 5
}
