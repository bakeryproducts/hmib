{
 "cells": [
  {
   "cell_type": "code",
   "execution_count": null,
   "id": "5611e439-de38-4899-8b2d-6760c46645f3",
   "metadata": {
    "tags": []
   },
   "outputs": [],
   "source": [
    "%load_ext autoreload\n",
    "%autoreload 2"
   ]
  },
  {
   "cell_type": "code",
   "execution_count": null,
   "id": "c7a2546a-8bc2-4127-8a4e-d5caf807d1fe",
   "metadata": {
    "tags": []
   },
   "outputs": [],
   "source": [
    "import sys\n",
    "import os\n",
    "os.chdir('..')\n",
    "sys.path.append('src')"
   ]
  },
  {
   "cell_type": "code",
   "execution_count": null,
   "id": "380c5335-9005-45d3-b395-e980f23da5a4",
   "metadata": {
    "tags": []
   },
   "outputs": [],
   "source": [
    "from pathlib import Path\n",
    "import random\n",
    "\n",
    "from nvidia.dali import pipeline_def, Pipeline\n",
    "import nvidia.dali.fn as fn\n",
    "import nvidia.dali.types as types\n",
    "from nvidia.dali.plugin.pytorch import DALIGenericIterator"
   ]
  },
  {
   "cell_type": "code",
   "execution_count": null,
   "id": "04c5d352-d4fe-4bdc-b40c-9d3fe32503f3",
   "metadata": {
    "tags": []
   },
   "outputs": [],
   "source": [
    "from PIL import Image\n",
    "import matplotlib.pyplot as plt\n",
    "%matplotlib widget \n"
   ]
  },
  {
   "cell_type": "code",
   "execution_count": null,
   "id": "ef9ad122-d35d-4ef8-9c29-37b90bd77436",
   "metadata": {},
   "outputs": [],
   "source": [
    "\n",
    "import nvidia.dali.ops as ops"
   ]
  },
  {
   "cell_type": "code",
   "execution_count": null,
   "id": "634fe379-9495-44ef-8377-51ca7977085d",
   "metadata": {
    "tags": []
   },
   "outputs": [],
   "source": [
    "u = ops.random.Uniform(seed=3)"
   ]
  },
  {
   "cell_type": "code",
   "execution_count": null,
   "id": "0e50d605-14fb-465a-9e96-4d4743b3336f",
   "metadata": {},
   "outputs": [],
   "source": []
  },
  {
   "cell_type": "code",
   "execution_count": null,
   "id": "3acb1823-e6e1-4ab9-a657-d5393120fae6",
   "metadata": {},
   "outputs": [],
   "source": []
  },
  {
   "cell_type": "code",
   "execution_count": null,
   "id": "5603e64c-1c5e-4ffa-976e-e87524b4ca71",
   "metadata": {},
   "outputs": [],
   "source": [
    "# @pipeline_def\n",
    "# def simple_pipeline():\n",
    "#     jpegs_images, _= fn.readers.file(files=images_files, seed=1234, name=\"main_reader\", num_shards=world_size, shard_id=global_rank)\n",
    "#     jpegs_masks, _= fn.readers.file(files=masks_files, seed=1234, num_shards=world_size, shard_id=global_rank\n",
    "#     images= fn.decoders.image(jpegs_images, device='mixed')\n",
    "#     masks= fn.decoders.image(jpegs_masks, device='mixed')\n",
    "#     return images, masks\n",
    "\n",
    "# pipe = simple_pipeline(batch_size=max_batch_size, num_threads=1, device_id=0)\n",
    "# iter = DALIGenericIterator([pipe], ['data', 'label'], reader_name='main_reader')"
   ]
  },
  {
   "cell_type": "code",
   "execution_count": null,
   "id": "30f47269-9c92-4d92-aff2-218b5eaa5198",
   "metadata": {
    "tags": []
   },
   "outputs": [],
   "source": [
    "root = Path('input/preprocessed/png1024/')\n",
    "imgs = list((root / 'images').rglob('*'))\n",
    "masks = list((root / 'masks').rglob('*'))\n",
    "len(imgs), len(masks)"
   ]
  },
  {
   "cell_type": "code",
   "execution_count": null,
   "id": "f756b275-9b2d-4d90-aabb-7394850947f0",
   "metadata": {
    "tags": []
   },
   "outputs": [],
   "source": [
    "def random_flip(images, probability, seed):\n",
    "    flip = fn.random.coin_flip(probability=1-probability, seed=seed)\n",
    "    return fn.flip(images, horizontal=flip)\n",
    "\n",
    "@pipeline_def\n",
    "def segmentation_pipe(input_files, crop_size):\n",
    "    image_files, mask_files = input_files\n",
    "    seed = random.randint(1, 0x7fffffff)  # get a common seed\n",
    "    \n",
    "    enc_images, _ = fn.readers.file(files=image_files, seed=seed)\n",
    "    enc_masks, _ = fn.readers.file(files=mask_files, seed=seed)\n",
    "    images = fn.decoders.image(enc_images, device=\"mixed\")\n",
    "    masks = fn.decoders.image(enc_masks, device=\"mixed\")\n",
    "    #return images, masks\n",
    "                                                                                                                                  \n",
    "    crop = ops.Crop(crop=crop_size, output_dtype=types.FLOAT)                                                                                                       \n",
    "    uniform = ops.random.Uniform(range=(0.0, 1.0), seed=seed)\n",
    "    \n",
    "    images = crop(images, crop_pos_x=uniform(), crop_pos_y=uniform(), seed=seed)                                                                                    \n",
    "    masks = crop(masks, crop_pos_x=uniform(), crop_pos_y=uniform(), seed=seed) \n",
    "    \n",
    "    # area_min = area_max = 256/1024\n",
    "    # images = fn.random_resized_crop(\n",
    "    #     images,\n",
    "    #     size=crop_size,\n",
    "    #     random_area=[area_min, area_max],\n",
    "    #     random_aspect_ratio=[0.9, 1.1],\n",
    "    #     seed=seed)  # the seed\n",
    "    # masks = fn.random_resized_crop(\n",
    "    #     masks,\n",
    "    #     size=crop_size,\n",
    "    #     interp_type = types.INTERP_NN,\n",
    "    #     random_area=[area_min, area_max],\n",
    "    #     random_aspect_ratio=[0.9, 1.1],\n",
    "    #     seed=seed)  # same seed\n",
    "    \n",
    "    # image_patches = random_flip(image_patches, .5, seed)\n",
    "    # image_patches = random_flip(image_patches, .5, seed)\n",
    "    \n",
    "    return images, masks"
   ]
  },
  {
   "cell_type": "code",
   "execution_count": null,
   "id": "c85345d6-5504-4bfa-9125-c8cb193c5e6b",
   "metadata": {
    "tags": []
   },
   "outputs": [],
   "source": [
    "p = segmentation_pipe((imgs, masks), crop_size=256, batch_size=4, num_threads=4, device_id=0,)"
   ]
  },
  {
   "cell_type": "code",
   "execution_count": null,
   "id": "1f2a799c-87c8-4808-8448-0281b747a296",
   "metadata": {
    "tags": []
   },
   "outputs": [],
   "source": [
    "train_data = DALIGenericIterator(p, ['img_data', 'ann_data'], auto_reset=True, size=len(imgs))"
   ]
  },
  {
   "cell_type": "code",
   "execution_count": null,
   "id": "2d232a02-103a-476b-8a96-28a810a27f22",
   "metadata": {
    "tags": []
   },
   "outputs": [],
   "source": [
    "len(train_data)"
   ]
  },
  {
   "cell_type": "code",
   "execution_count": null,
   "id": "e8ac8ff9-49aa-47c1-bc6a-7e3c8cd4e451",
   "metadata": {
    "tags": []
   },
   "outputs": [],
   "source": [
    "for j, i in enumerate(train_data):\n",
    "    if j % 50 == 0:\n",
    "        print(j, i[0]['img_data'].shape)"
   ]
  },
  {
   "cell_type": "code",
   "execution_count": null,
   "id": "7acdfc53-6ab1-4f0c-bfef-e0caed3cae15",
   "metadata": {},
   "outputs": [],
   "source": []
  },
  {
   "cell_type": "code",
   "execution_count": null,
   "id": "9ffe6f5f-27e9-448c-9d09-cd3647b1cd66",
   "metadata": {},
   "outputs": [],
   "source": []
  },
  {
   "cell_type": "code",
   "execution_count": null,
   "id": "bee44461-6be3-4641-b453-66fee0951ee3",
   "metadata": {
    "tags": []
   },
   "outputs": [],
   "source": [
    "import torch"
   ]
  },
  {
   "cell_type": "code",
   "execution_count": null,
   "id": "54a629f6-ab5d-4647-bf98-cfe605a85ea1",
   "metadata": {
    "tags": []
   },
   "outputs": [],
   "source": [
    "train_data.reset()"
   ]
  },
  {
   "cell_type": "code",
   "execution_count": null,
   "id": "f06ca649-ab61-4f06-8593-c6ac2f7952f1",
   "metadata": {
    "tags": []
   },
   "outputs": [],
   "source": [
    "t = next(train_data)"
   ]
  },
  {
   "cell_type": "code",
   "execution_count": null,
   "id": "70870843-2136-4487-b10d-707e55ea2fa1",
   "metadata": {
    "tags": []
   },
   "outputs": [],
   "source": [
    "dl = torch.utils.data.DataLoader(train_data, 1, )"
   ]
  },
  {
   "cell_type": "code",
   "execution_count": null,
   "id": "9510a4ba-5900-4e1f-9f40-f064575c7cf2",
   "metadata": {
    "tags": []
   },
   "outputs": [],
   "source": [
    "for x in dl:\n",
    "    break"
   ]
  },
  {
   "cell_type": "code",
   "execution_count": null,
   "id": "ede24e69-2a76-4ef8-9e0b-1571e5e810b9",
   "metadata": {
    "tags": []
   },
   "outputs": [],
   "source": [
    "x.shape"
   ]
  },
  {
   "cell_type": "code",
   "execution_count": null,
   "id": "f796394d-2883-4e92-8fb5-da8074e0608f",
   "metadata": {},
   "outputs": [],
   "source": []
  },
  {
   "cell_type": "code",
   "execution_count": null,
   "id": "f997e875-aed4-446a-b134-fa0777595207",
   "metadata": {},
   "outputs": [],
   "source": []
  },
  {
   "cell_type": "code",
   "execution_count": null,
   "id": "e4d31a1c-bde0-4dad-9017-89f5f5f08cf5",
   "metadata": {
    "tags": []
   },
   "outputs": [],
   "source": []
  },
  {
   "cell_type": "code",
   "execution_count": null,
   "id": "154c89fa-f95e-46af-855f-c8f02d0a6fc9",
   "metadata": {},
   "outputs": [],
   "source": []
  },
  {
   "cell_type": "code",
   "execution_count": null,
   "id": "33d541b3-2281-4ae6-ae27-d9dcab61812c",
   "metadata": {},
   "outputs": [],
   "source": []
  },
  {
   "cell_type": "code",
   "execution_count": null,
   "id": "606d5481-fb28-4dc6-8fb2-1d8a86e97ddb",
   "metadata": {
    "tags": []
   },
   "outputs": [],
   "source": [
    "for i in train_data:\n",
    "    break\n",
    "len(i)\n",
    "\n",
    "xb = i[0]['img_data']\n",
    "yb = i[0]['ann_data']\n",
    "xb.shape, yb.shape\n",
    "\n",
    "x = xb[0]\n",
    "y = yb[0]*255\n",
    "x[...,0] = y[...,0]\n",
    "\n",
    "plt.figure()\n",
    "plt.imshow(x.cpu())"
   ]
  },
  {
   "cell_type": "code",
   "execution_count": null,
   "id": "1c64d5cd-3b01-4085-9041-0322e6871bef",
   "metadata": {
    "tags": []
   },
   "outputs": [],
   "source": [
    "plt.figure()\n",
    "plt.imshow(xb[0].cpu())"
   ]
  },
  {
   "cell_type": "code",
   "execution_count": null,
   "id": "1bae4ba1-c9ef-4742-affd-4f2ace769638",
   "metadata": {},
   "outputs": [],
   "source": []
  },
  {
   "cell_type": "code",
   "execution_count": null,
   "id": "4740e943-d6b6-4327-9a94-fcf3ef0281e3",
   "metadata": {},
   "outputs": [],
   "source": []
  },
  {
   "cell_type": "code",
   "execution_count": null,
   "id": "29f5e2fc-3b65-4c72-8706-ba9700ab8d41",
   "metadata": {},
   "outputs": [],
   "source": []
  },
  {
   "cell_type": "code",
   "execution_count": null,
   "id": "57254566-937c-4d4b-a5b4-9a31069064fc",
   "metadata": {},
   "outputs": [],
   "source": []
  },
  {
   "cell_type": "code",
   "execution_count": null,
   "id": "78de553d-28af-4925-818c-bcba5e748f62",
   "metadata": {
    "tags": []
   },
   "outputs": [],
   "source": [
    "\n",
    "\n",
    "# for i, data in enumerate(train_data):\n",
    "#     x, y = data[0]['data'], data[0]['label']\n",
    "#     pred = model(x)\n",
    "#     loss = loss_func(pred, y)\n",
    "#     backward(loss, model)"
   ]
  },
  {
   "cell_type": "code",
   "execution_count": null,
   "id": "fda42e13-3c4b-4fb8-ae8b-33df1f242b6e",
   "metadata": {},
   "outputs": [],
   "source": []
  },
  {
   "cell_type": "code",
   "execution_count": null,
   "id": "573800a6-77b7-47ea-8dad-5e7039bb5104",
   "metadata": {},
   "outputs": [],
   "source": []
  },
  {
   "cell_type": "code",
   "execution_count": null,
   "id": "8e576fd0-a38f-4088-96cf-208d1445edc3",
   "metadata": {},
   "outputs": [],
   "source": []
  },
  {
   "cell_type": "code",
   "execution_count": null,
   "id": "30212867-4b02-4abb-afc6-c5b1e403005b",
   "metadata": {},
   "outputs": [],
   "source": []
  },
  {
   "cell_type": "code",
   "execution_count": null,
   "id": "f1b3a433-f72a-44df-b8c7-0e24eb5abf64",
   "metadata": {},
   "outputs": [],
   "source": []
  }
 ],
 "metadata": {
  "kernelspec": {
   "display_name": "Python 3 (ipykernel)",
   "language": "python",
   "name": "python3"
  },
  "language_info": {
   "codemirror_mode": {
    "name": "ipython",
    "version": 3
   },
   "file_extension": ".py",
   "mimetype": "text/x-python",
   "name": "python",
   "nbconvert_exporter": "python",
   "pygments_lexer": "ipython3",
   "version": "3.7.11"
  }
 },
 "nbformat": 4,
 "nbformat_minor": 5
}
