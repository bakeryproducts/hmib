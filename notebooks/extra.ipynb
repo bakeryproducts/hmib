{
 "cells": [
  {
   "cell_type": "code",
   "execution_count": null,
   "id": "60f7cd03-1a0b-44a3-87a8-ac89474b3459",
   "metadata": {
    "tags": []
   },
   "outputs": [],
   "source": [
    "%load_ext autoreload\n",
    "%autoreload 2"
   ]
  },
  {
   "cell_type": "code",
   "execution_count": null,
   "id": "0d0c5cbb-0ea1-4594-aea7-762a8675ce50",
   "metadata": {
    "tags": []
   },
   "outputs": [],
   "source": [
    "import sys\n",
    "import os\n",
    "os.chdir('..')\n",
    "sys.path.append('src')"
   ]
  },
  {
   "cell_type": "code",
   "execution_count": null,
   "id": "b4559652-ba27-462c-92da-5ab10a0a6653",
   "metadata": {
    "tags": []
   },
   "outputs": [],
   "source": [
    "import rasterio\n",
    "import torch\n",
    "import numpy as np\n",
    "from pathlib import Path\n",
    "import pandas as pd\n",
    "import torchvision\n",
    "from dataclasses import dataclass\n",
    "from omegaconf import OmegaConf\n",
    "from tqdm import tqdm\n",
    "import cv2\n",
    "from PIL import Image\n",
    "\n",
    "import matplotlib.pyplot as plt\n",
    "%matplotlib widget "
   ]
  },
  {
   "cell_type": "code",
   "execution_count": null,
   "id": "8e2a7985-d3c1-4f44-969e-81714720f868",
   "metadata": {
    "tags": []
   },
   "outputs": [],
   "source": [
    "import json\n",
    "\n",
    "import slideio\n",
    "from matplotlib.widgets import PolygonSelector"
   ]
  },
  {
   "cell_type": "code",
   "execution_count": null,
   "id": "dffc30b3-c041-437c-a6ee-7bb6584d18c4",
   "metadata": {
    "tags": []
   },
   "outputs": [],
   "source": [
    "# df = pd.read_csv('input/hmib/train.csv')\n",
    "# cfg = OmegaConf.load('src/configs/u.yaml')"
   ]
  },
  {
   "cell_type": "markdown",
   "id": "9877f932-909f-4c5c-9323-118f3217c959",
   "metadata": {
    "jp-MarkdownHeadingCollapsed": true,
    "tags": []
   },
   "source": [
    "# GTEX"
   ]
  },
  {
   "cell_type": "code",
   "execution_count": null,
   "id": "2cc37393-9771-4119-99b5-2b7e665659e0",
   "metadata": {
    "tags": []
   },
   "outputs": [],
   "source": [
    "df = pd.read_csv('input/extra/gtex/GTExPortal.csv')"
   ]
  },
  {
   "cell_type": "code",
   "execution_count": null,
   "id": "a7abf20e-9196-489a-b3d9-c63b563afd67",
   "metadata": {
    "tags": []
   },
   "outputs": [],
   "source": [
    "df.head()"
   ]
  },
  {
   "cell_type": "code",
   "execution_count": null,
   "id": "5f6b0daf-b40b-4b19-bf38-aab2788c2cc1",
   "metadata": {
    "tags": []
   },
   "outputs": [],
   "source": [
    "#The large intestine has four parts: cecum, colon, rectum, and anal canal.\n",
    "\n",
    "tissues = ['Spleen', 'Lung', 'Kidney - Cortex', 'Prostate', 'Colon - Transverse', 'Colon - Sigmoid ']"
   ]
  },
  {
   "cell_type": "code",
   "execution_count": null,
   "id": "f525dcc3-bcc6-474f-a61d-104740ba5c6e",
   "metadata": {
    "tags": []
   },
   "outputs": [],
   "source": [
    "#df.Tissue.value_counts()"
   ]
  },
  {
   "cell_type": "code",
   "execution_count": null,
   "id": "d1583b5f-0c24-4190-9d44-b4a7022defb6",
   "metadata": {
    "tags": []
   },
   "outputs": [],
   "source": [
    "# for t in tissues:\n",
    "#     sdf = df[df.Tissue == t]\n",
    "#     break"
   ]
  },
  {
   "cell_type": "code",
   "execution_count": null,
   "id": "f9da5fb5-baf4-47cd-b5f0-2ea9b5b4175c",
   "metadata": {
    "tags": []
   },
   "outputs": [],
   "source": [
    "sdf = df[df.Tissue == tissues[1]]"
   ]
  },
  {
   "cell_type": "code",
   "execution_count": null,
   "id": "32998370-4090-42a1-a1b3-6a75ca8a7f46",
   "metadata": {
    "tags": []
   },
   "outputs": [],
   "source": [
    "columns = df.columns"
   ]
  },
  {
   "cell_type": "code",
   "execution_count": null,
   "id": "8eba1002-df76-42d7-875f-92b5002a5f1d",
   "metadata": {
    "tags": []
   },
   "outputs": [],
   "source": [
    "for c in columns:\n",
    "    print(c, len(sdf[c].value_counts()))"
   ]
  },
  {
   "cell_type": "code",
   "execution_count": null,
   "id": "143a7fca-f994-4878-945a-4d6f27a65050",
   "metadata": {
    "tags": []
   },
   "outputs": [],
   "source": [
    "sdf['Sex'].value_counts()"
   ]
  },
  {
   "cell_type": "code",
   "execution_count": null,
   "id": "f0df877d-7d11-41cd-ac6f-37c7be63c628",
   "metadata": {
    "tags": []
   },
   "outputs": [],
   "source": [
    "sdf['Age Bracket'].value_counts()"
   ]
  },
  {
   "cell_type": "code",
   "execution_count": null,
   "id": "ffb7beb0-8231-4a1c-a7d4-3317f6a56de6",
   "metadata": {
    "tags": []
   },
   "outputs": [],
   "source": [
    "sdf['Hardy Scale'].value_counts()"
   ]
  },
  {
   "cell_type": "code",
   "execution_count": null,
   "id": "bf6fe4d6-4115-49ac-a2ca-af2cc517b16a",
   "metadata": {
    "tags": []
   },
   "outputs": [],
   "source": [
    "sdf['Pathology Categories'].value_counts() # no_abnormalities"
   ]
  },
  {
   "cell_type": "code",
   "execution_count": null,
   "id": "a4253292-309f-43ff-bccd-2a8383cb28ea",
   "metadata": {
    "tags": []
   },
   "outputs": [],
   "source": [
    "sdf['Pathology Notes'].value_counts()"
   ]
  },
  {
   "cell_type": "code",
   "execution_count": null,
   "id": "9392920e-fa1e-41eb-a3cb-510a72eeaebd",
   "metadata": {},
   "outputs": [],
   "source": []
  },
  {
   "cell_type": "code",
   "execution_count": null,
   "id": "445dc032-c51e-48e4-99cd-c5175dccbbb5",
   "metadata": {},
   "outputs": [],
   "source": []
  },
  {
   "cell_type": "code",
   "execution_count": null,
   "id": "86bff28b-48ba-4c68-a085-0a7b82cf468c",
   "metadata": {},
   "outputs": [],
   "source": []
  },
  {
   "cell_type": "code",
   "execution_count": null,
   "id": "a1376129-e795-47e3-8d65-1434ad295224",
   "metadata": {},
   "outputs": [],
   "source": []
  },
  {
   "cell_type": "code",
   "execution_count": null,
   "id": "eec057fd-6924-4c0f-9f4d-97e49c727af5",
   "metadata": {
    "tags": []
   },
   "outputs": [],
   "source": [
    "for v in sdf['Pathology Notes']:\n",
    "    if not isinstance(v, str):\n",
    "        print('not string: ', v)\n",
    "        continue\n",
    "    words = v.split(' ')\n",
    "    for i, word in enumerate(words):\n",
    "        if word == 'alveolar':\n",
    "            print(v)"
   ]
  },
  {
   "cell_type": "code",
   "execution_count": null,
   "id": "5fa8fc30-aad6-4438-beb2-2bb97e77c274",
   "metadata": {
    "tags": []
   },
   "outputs": [],
   "source": [
    "#t = sdf[sdf['Pathology Notes'] == '2 pieces, no abnormalities'].sample(10) # spleen\n",
    "#t = sdf[sdf['Pathology Notes'] == '1 piece'].sample(10) # lung\n",
    "t = sdf[sdf['Pathology Notes'] == '2 pieces'].sample(10) # prostate"
   ]
  },
  {
   "cell_type": "code",
   "execution_count": null,
   "id": "880c4e10-a643-413b-8a63-bacd62223685",
   "metadata": {
    "tags": []
   },
   "outputs": [],
   "source": [
    "t"
   ]
  },
  {
   "cell_type": "code",
   "execution_count": null,
   "id": "ca0ba3db-e0cb-4a95-9c34-8304ae88bea6",
   "metadata": {
    "tags": []
   },
   "outputs": [],
   "source": [
    "t.to_csv('input/extra/gtex/prostate/prostate.csv')"
   ]
  },
  {
   "cell_type": "code",
   "execution_count": null,
   "id": "f40a7a60-c872-4905-8d15-67e8d7eb881c",
   "metadata": {
    "tags": []
   },
   "outputs": [],
   "source": [
    "def gen_urls(df, url='https://brd.nci.nih.gov/brd/imagedownload/'):\n",
    "    names = df['Tissue Sample ID']\n",
    "    urls = []\n",
    "    for name in names:\n",
    "        urls.append(url + name)\n",
    "    return urls"
   ]
  },
  {
   "cell_type": "code",
   "execution_count": null,
   "id": "b98ed7bd-3c8e-4401-a4fd-3aa883d8a14d",
   "metadata": {
    "tags": []
   },
   "outputs": [],
   "source": [
    "with open('input/extra/gtex/prostate/urls.txt', 'w') as f:\n",
    "    for url in gen_urls(t): \n",
    "        f.write(url + '\\n')"
   ]
  },
  {
   "cell_type": "markdown",
   "id": "99c97126-ffd4-422d-b2e3-17c00c050a24",
   "metadata": {
    "jp-MarkdownHeadingCollapsed": true,
    "tags": []
   },
   "source": [
    "# Viewwer"
   ]
  },
  {
   "cell_type": "code",
   "execution_count": null,
   "id": "d2faee87-0d64-4563-a355-8ddcf9f0ad09",
   "metadata": {
    "tags": []
   },
   "outputs": [],
   "source": []
  },
  {
   "cell_type": "code",
   "execution_count": null,
   "id": "9d3eae0e-4b5b-4387-b1cb-2f285aff3f9c",
   "metadata": {
    "tags": []
   },
   "outputs": [],
   "source": [
    "def read_svs(p, targetscale=None):\n",
    "    slide = slideio.open_slide(p, 'SVS')\n",
    "    scene = slide.get_scene(0)\n",
    "    shape, _, resolution = scene.rect, scene.num_channels, scene.resolution\n",
    "    _,_,h,w = shape\n",
    "    print('IMG resolution is ', resolution)\n",
    "    size = 2000 if targetscale is None else int(h * (targetscale / resolution[0] * 1e6))\n",
    "    image = scene.read_block(size=(size,0))\n",
    "    scaley = h / 1000\n",
    "    scalex = w / 1000\n",
    "    return image, scaley, scalex, resolution"
   ]
  },
  {
   "cell_type": "code",
   "execution_count": null,
   "id": "57e90bd0-aeee-469d-9c3b-8369cf23fcc5",
   "metadata": {},
   "outputs": [],
   "source": []
  },
  {
   "cell_type": "code",
   "execution_count": null,
   "id": "7a839d82-08e9-49c5-b221-cc26ce2e1346",
   "metadata": {
    "tags": []
   },
   "outputs": [],
   "source": [
    "# slide = slideio.open_slide(image_path, 'SVS')\n",
    "# num_scenes = slide.num_scenes\n",
    "# scene = slide.get_scene(0)\n",
    "# print(num_scenes, scene.name, scene.rect, scene.num_channels)\n",
    "\n",
    "# raw_string = slide.raw_metadata\n",
    "# raw_string.split(\"|\")"
   ]
  },
  {
   "cell_type": "code",
   "execution_count": null,
   "id": "a47573dd-d0ce-455b-8976-583efd4bf626",
   "metadata": {
    "tags": []
   },
   "outputs": [],
   "source": [
    "# image = scene.read_block((0, 15000, 20000, 20000), size=(500,0))\n",
    "#image = scene.read_block(size=(1000,0))"
   ]
  },
  {
   "cell_type": "code",
   "execution_count": null,
   "id": "c0a813d3-6314-47a0-8e96-43dec7a41a38",
   "metadata": {
    "tags": []
   },
   "outputs": [],
   "source": [
    "# plt.figure()\n",
    "# plt.imshow(image)"
   ]
  },
  {
   "cell_type": "code",
   "execution_count": null,
   "id": "c18f571e-4cab-49de-bd10-73bdad146418",
   "metadata": {
    "tags": []
   },
   "outputs": [],
   "source": [
    "ff = Path('input/extra/gtex/spleen/').glob('*.svs')\n",
    "ff = list(ff)\n",
    "ff = iter(ff)"
   ]
  },
  {
   "cell_type": "code",
   "execution_count": null,
   "id": "0c03c82b-07a0-492f-babc-62cc7ad8f497",
   "metadata": {
    "tags": []
   },
   "outputs": [],
   "source": [
    "image_path = next(ff)\n",
    "image, scaley, scalex, resolution = read_svs(str(image_path))"
   ]
  },
  {
   "cell_type": "code",
   "execution_count": null,
   "id": "9d4fff25-5e23-4590-a804-9a1e9f1f7069",
   "metadata": {
    "tags": []
   },
   "outputs": [],
   "source": [
    "image.shape, image.max()"
   ]
  },
  {
   "cell_type": "code",
   "execution_count": null,
   "id": "56f1f3f3-f873-4526-9e11-2320c47bb374",
   "metadata": {
    "tags": []
   },
   "outputs": [],
   "source": [
    "mask = image.mean(2)"
   ]
  },
  {
   "cell_type": "code",
   "execution_count": null,
   "id": "74e16cb6-5f58-409e-a20c-2e53986261e9",
   "metadata": {
    "tags": []
   },
   "outputs": [],
   "source": [
    "# plt.figure()\n",
    "# plt.hist(mask.flatten(), bins=50);"
   ]
  },
  {
   "cell_type": "code",
   "execution_count": null,
   "id": "d3e51eab-7112-42c5-a2d9-98279076874a",
   "metadata": {
    "tags": []
   },
   "outputs": [],
   "source": [
    "timage = image.copy()\n",
    "timage[mask>240] = 0"
   ]
  },
  {
   "cell_type": "code",
   "execution_count": null,
   "id": "4e523218-fd07-4e24-a233-ef014e30a03d",
   "metadata": {
    "tags": []
   },
   "outputs": [],
   "source": [
    "mask.shape"
   ]
  },
  {
   "cell_type": "code",
   "execution_count": null,
   "id": "9a1dd0d2-2ff6-425d-95af-d9c83f3aa963",
   "metadata": {
    "tags": []
   },
   "outputs": [],
   "source": [
    "rmask = cv2.resize((mask>240).astype(np.uint8), np.array(mask.shape[::-1])//10)"
   ]
  },
  {
   "cell_type": "code",
   "execution_count": null,
   "id": "148a48c1-8ee6-4e60-b003-9b4714c8abee",
   "metadata": {
    "tags": []
   },
   "outputs": [],
   "source": [
    "slide = slideio.open_slide(str(image_path), 'SVS')\n",
    "scene = slide.get_scene(0)\n",
    "size = 10000 \n",
    "image = scene.read_block(size=(size,0))"
   ]
  },
  {
   "cell_type": "code",
   "execution_count": null,
   "id": "f2729a8f-b9eb-49bd-8476-d990e839ffa8",
   "metadata": {
    "tags": []
   },
   "outputs": [],
   "source": [
    "scene.size"
   ]
  },
  {
   "cell_type": "code",
   "execution_count": null,
   "id": "a1f9cfbe-9cff-40b2-a00f-be64beadaba3",
   "metadata": {
    "tags": []
   },
   "outputs": [],
   "source": [
    "scene.read_block((0,0,256,256)).shape"
   ]
  },
  {
   "cell_type": "code",
   "execution_count": null,
   "id": "e4059f50-344d-4aca-a35e-bdd9d605c9c3",
   "metadata": {
    "tags": []
   },
   "outputs": [],
   "source": [
    "fig2, ax2 = plt.subplots()\n",
    "#fig2.show()\n",
    "ax2.imshow(image)\n",
    "# selector2 = PolygonSelector(ax2, lambda *args: None)"
   ]
  },
  {
   "cell_type": "code",
   "execution_count": null,
   "id": "af1613f2-3931-4445-99c4-429a0e1f68d9",
   "metadata": {
    "tags": []
   },
   "outputs": [],
   "source": [
    "# poly = np.array(selector2.verts)\n",
    "# poly[:,0] *= scalex\n",
    "# poly[:, 1]*= scaley\n",
    "\n",
    "# dst = Path('input/extra/gtex/polys/')/image_path.parent.name / image_path.with_suffix('.json').name\n",
    "# dst.parent.mkdir(exist_ok=True, parents=True)\n",
    "# with open(dst, 'w') as f:\n",
    "#     json.dump(poly.astype(int).tolist(), f)"
   ]
  },
  {
   "cell_type": "markdown",
   "id": "f9cd95f5-a14f-4d74-ae03-fa2d90ad854f",
   "metadata": {
    "jp-MarkdownHeadingCollapsed": true,
    "tags": []
   },
   "source": [
    "# CUtting"
   ]
  },
  {
   "cell_type": "code",
   "execution_count": null,
   "id": "b28a92a0-24ed-4bf7-b703-58fb2c996216",
   "metadata": {
    "tags": []
   },
   "outputs": [],
   "source": [
    "def start_points(size, split_size, overlap=0):\n",
    "    points = [0]\n",
    "    stride = int(split_size * (1-overlap))\n",
    "    counter = 1\n",
    "    while True:\n",
    "        pt = stride * counter\n",
    "        if pt + split_size >= size:\n",
    "            points.append(size - split_size)\n",
    "            break\n",
    "        else:\n",
    "            points.append(pt)\n",
    "        counter += 1\n",
    "    return points\n",
    "\n",
    "def splitter(img, crop_w, crop_h, overlap=0):    \n",
    "    img_h, img_w, *_ = img.shape\n",
    "    X_points = start_points(img_w, crop_w, overlap)\n",
    "    Y_points = start_points(img_h, crop_h, overlap)\n",
    "    \n",
    "    for i in Y_points:\n",
    "        for j in X_points:\n",
    "            split = img[i:i+crop_h, j:j+crop_w]\n",
    "            #cv2.imwrite('{}_{}.{}'.format(name, count, frmt), split)\n",
    "            yield split, i, j, crop_h, crop_w\n",
    "            \n",
    "imaging_measurements = {\n",
    "    'hpa': {\n",
    "        'pixel_size': {\n",
    "            'kidney': 0.4,\n",
    "            'prostate': 0.4,\n",
    "            'largeintestine': 0.4,\n",
    "            'spleen': 0.4,\n",
    "            'lung': 0.4\n",
    "        },\n",
    "        'tissue_thickness': {\n",
    "            'kidney': 4,\n",
    "            'prostate': 4,\n",
    "            'largeintestine': 4,\n",
    "            'spleen': 4,\n",
    "            'lung': 4\n",
    "        }\n",
    "    },\n",
    "    'hubmap': {\n",
    "        'pixel_size': {\n",
    "            'kidney': 0.5,\n",
    "            'prostate': 6.263,\n",
    "            'largeintestine': 0.229,\n",
    "            'spleen': 0.4945,\n",
    "            'lung': 0.7562\n",
    "        },\n",
    "        'tissue_thickness': {\n",
    "        'kidney': 10,\n",
    "            'prostate': 5,\n",
    "            'largeintestine': 8,\n",
    "            'spleen': 4,\n",
    "            'lung': 5\n",
    "        }\n",
    "    }\n",
    "}\n",
    "\n",
    "def read_svs(p, scale, targetscale=None):\n",
    "    slide = slideio.open_slide(p, 'SVS')\n",
    "    scene = slide.get_scene(0)\n",
    "    shape, _, resolution = scene.rect, scene.num_channels, scene.resolution\n",
    "    _,_,h,w = shape\n",
    "    print('IMG resolution is ', resolution)\n",
    "    size = 1000 if targetscale is None else int(h * (targetscale / scale / (resolution[0] * 1e6)))\n",
    "    image = scene.read_block(size=(size,0))\n",
    "    scaley = h / 1000\n",
    "    scalex = w / 1000\n",
    "    return image, scaley, scalex, resolution\n",
    "\n",
    "def read_tiff(p, scale, **kwargs):\n",
    "    f = rasterio.open(p)\n",
    "    a = f.read().transpose(1,2,0)\n",
    "    if scale != 1:\n",
    "        a = cv2.resize(a, (0,0), fx=1/scale, fy=1/scale)\n",
    "    return a\n",
    "\n",
    "def read_jpeg(p, scale):\n",
    "    i = cv2.imread(str(p))\n",
    "    i = cv2.cvtColor(i, cv2.COLOR_RGB2BGR)\n",
    "    if scale != 1:\n",
    "        i = cv2.resize(i, (0,0), fx=1/scale, fy=1/scale)\n",
    "    return i"
   ]
  },
  {
   "cell_type": "code",
   "execution_count": null,
   "id": "2353f951-c104-4a3a-be17-cfdd3552985a",
   "metadata": {
    "tags": []
   },
   "outputs": [],
   "source": [
    "# source = imaging_measurements['hpa']['pixel_size']\n",
    "# target = imaging_measurements['hubmap']['pixel_size']\n",
    "# extra = resolution[0] * 1e6\n",
    "# source, extra"
   ]
  },
  {
   "cell_type": "code",
   "execution_count": null,
   "id": "9f92eee9-4823-4a3e-8078-6bbddef24216",
   "metadata": {
    "tags": []
   },
   "outputs": [],
   "source": [
    "#set(df.organ)"
   ]
  },
  {
   "cell_type": "code",
   "execution_count": null,
   "id": "302aff15-668c-49c1-862a-970314d900b4",
   "metadata": {
    "tags": []
   },
   "outputs": [],
   "source": [
    "organ = 'spleen'\n",
    "SCALE = 3\n",
    "# dst = Path(f'input/extra/hpa/cuts_{SCALE}/')\n",
    "\n",
    "dst = Path(f'input/preprocessed/cuts_{SCALE}/')\n",
    "\n",
    "# dst = Path(f'input/extra/gtex/cuts_{SCALE}/')\n",
    "dst = dst / organ\n",
    "        \n",
    "# ff = Path(f'input/extra/gtex/images/{organ}/').glob('*.svs')\n",
    "\n",
    "# ff = Path(f'input/extra/hpa/images/').glob(f'{organ}*.jpg')\n",
    "\n",
    "df = pd.read_csv('input/hmib/train.csv')\n",
    "idxs = df[df.organ==organ].index\n",
    "ff = [Path('input/hmib/train_images/') / f'{df.iloc[idx].id}.tiff' for idx in idxs]\n",
    "\n",
    "ff = sorted(list(ff))#[:100]\n",
    "len(ff)"
   ]
  },
  {
   "cell_type": "code",
   "execution_count": null,
   "id": "d69c0724-729d-4141-9fff-ca818bf64c60",
   "metadata": {},
   "outputs": [],
   "source": []
  },
  {
   "cell_type": "code",
   "execution_count": null,
   "id": "6abf1d4f-04f2-4cc6-9725-0eb9f2a8e8db",
   "metadata": {
    "tags": []
   },
   "outputs": [],
   "source": [
    "for image_path in tqdm(ff):\n",
    "    image = read_tiff(image_path, SCALE)\n",
    "    # image = read_jpeg(image_path, SCALE)\n",
    "    # image, _, _, _ = read_svs(str(image_path), targetscale=.4, scale=SCALE)\n",
    "    # print(image.shape, image_path)\n",
    "    CH, CW = 512, 512\n",
    "    g = splitter(image, CH, CW, overlap=0)\n",
    "    H,W,C = image.shape\n",
    "    \n",
    "    dst.mkdir(exist_ok=True)\n",
    "    \n",
    "    for img, y,x,h,w in g:\n",
    "        if img.mean()<230:\n",
    "            s = cv2.cvtColor(img, cv2.COLOR_RGB2BGR)\n",
    "            name = f\"{image_path.stem}_{y:4}_{x:4}.png\"\n",
    "            cv2.imwrite(str(dst / name), s)"
   ]
  },
  {
   "cell_type": "code",
   "execution_count": null,
   "id": "ecec2b4f-da1f-4a05-93e2-3159eeeffa7c",
   "metadata": {
    "tags": []
   },
   "outputs": [],
   "source": [
    "# image_path = next(ff)\n",
    "# image, scaley, scalex, resolution = read_svs(str(image_path), targetscale=.4)\n",
    "# image, scaley, scalex, resolution = read_svs(str(image_path), targetscale=.4)\n",
    "image = read_tiff(image_path)"
   ]
  },
  {
   "cell_type": "code",
   "execution_count": null,
   "id": "c42278bb-de40-4f11-a506-4e692f940260",
   "metadata": {
    "tags": []
   },
   "outputs": [],
   "source": [
    "CH, CW = 512, 512\n",
    "g = splitter(image, CH, CW, overlap=0)\n",
    "H,W,C = image.shape\n",
    "H,W,C"
   ]
  },
  {
   "cell_type": "code",
   "execution_count": null,
   "id": "e0ef0f37-1706-4950-bce3-90dbb769866d",
   "metadata": {
    "tags": []
   },
   "outputs": [],
   "source": [
    "dst = Path('input/extra/gtex/cuts/')\n",
    "dst = dst / image_path.parent.name\n",
    "# dst.mkdir(exist_ok=True)\n",
    "dst.mkdir(exist_ok=True)"
   ]
  },
  {
   "cell_type": "code",
   "execution_count": null,
   "id": "39bd35c3-b8a5-48e6-815f-dfc890a4f738",
   "metadata": {
    "tags": []
   },
   "outputs": [],
   "source": [
    "for img, y,x,h,w in tqdm(g, total=H*W//CH//CW):\n",
    "    # cy, cx = y//100, x//100\n",
    "    # cy = min(t.shape[0], cy-1)\n",
    "    # cx = min(t.shape[1], cx-1)\n",
    "    \n",
    "    if img.mean()<230:\n",
    "        s = cv2.cvtColor(img, cv2.COLOR_RGB2BGR)\n",
    "        name = f\"{image_path.stem}_{y:4}_{x:4}.png\"\n",
    "        cv2.imwrite(str(dst / name), s)\n",
    "        #break\n",
    "    # break"
   ]
  },
  {
   "cell_type": "code",
   "execution_count": null,
   "id": "ff829414-3026-4678-934c-62018952ba5d",
   "metadata": {
    "tags": []
   },
   "outputs": [],
   "source": [
    "Image.open('input/preprocessed/rle1024/images/11064.png')"
   ]
  },
  {
   "cell_type": "code",
   "execution_count": null,
   "id": "cd1dd00b-eeac-4486-91a5-df9c999c94bd",
   "metadata": {
    "tags": []
   },
   "outputs": [],
   "source": [
    "Image.open('input/extra/gtex/cuts/prostate/GTEX-16NFA-1726_10240_10240.png')"
   ]
  },
  {
   "cell_type": "code",
   "execution_count": null,
   "id": "05cddf66-0d10-44af-9b85-a81d1ff2e35c",
   "metadata": {
    "tags": []
   },
   "outputs": [],
   "source": [
    "t.shape"
   ]
  },
  {
   "cell_type": "code",
   "execution_count": null,
   "id": "201aec2a-05e8-4904-b39d-8474f184bc70",
   "metadata": {
    "tags": []
   },
   "outputs": [],
   "source": [
    "plt.figure()\n",
    "plt.imshow(image[::100, ::100])"
   ]
  },
  {
   "cell_type": "code",
   "execution_count": null,
   "id": "63b1a294-22a4-486b-bb57-c6edf90b5dd5",
   "metadata": {},
   "outputs": [],
   "source": []
  },
  {
   "cell_type": "code",
   "execution_count": null,
   "id": "8b333e30-7d37-4be3-965c-24ff38f71530",
   "metadata": {},
   "outputs": [],
   "source": [
    "from torchvision import transforms"
   ]
  },
  {
   "cell_type": "code",
   "execution_count": null,
   "id": "4ff9fc3f-b0cd-4873-bdf5-75d0b4723006",
   "metadata": {
    "tags": []
   },
   "outputs": [],
   "source": [
    "n = transforms.Normalize(mean=.5, std=.5)"
   ]
  },
  {
   "cell_type": "code",
   "execution_count": null,
   "id": "5a6e1a70-5c95-457d-a61f-8f6c460b779d",
   "metadata": {},
   "outputs": [],
   "source": [
    "i = torch.rand(4,3,64,64) * 255"
   ]
  },
  {
   "cell_type": "code",
   "execution_count": null,
   "id": "a4d3afeb-ea50-4f2e-bcab-54c49f06159f",
   "metadata": {
    "tags": []
   },
   "outputs": [],
   "source": [
    "ni = n(i)"
   ]
  },
  {
   "cell_type": "code",
   "execution_count": null,
   "id": "d9f52bbf-3805-4dc6-b0f1-4824a176299d",
   "metadata": {
    "tags": []
   },
   "outputs": [],
   "source": [
    "ni.std()"
   ]
  },
  {
   "cell_type": "code",
   "execution_count": null,
   "id": "87d7818a-81a5-4e69-b0b9-ac08b1daa708",
   "metadata": {
    "tags": []
   },
   "outputs": [],
   "source": [
    "t = transforms.ToTensor()"
   ]
  },
  {
   "cell_type": "code",
   "execution_count": null,
   "id": "5361e39f-6e4e-4053-9e59-a4abf203b0fd",
   "metadata": {
    "tags": []
   },
   "outputs": [],
   "source": [
    "t(Image.open('input/preprocessed/cuts/prostate/10912_   0_1024.png'))"
   ]
  },
  {
   "cell_type": "code",
   "execution_count": null,
   "id": "7814508a-a9a5-4d00-922f-2e7a34296897",
   "metadata": {},
   "outputs": [],
   "source": []
  },
  {
   "cell_type": "code",
   "execution_count": null,
   "id": "fb6c857d-c61f-4d4d-88ed-541a7044a773",
   "metadata": {},
   "outputs": [],
   "source": [
    "splitter(img, 256, 256)"
   ]
  },
  {
   "cell_type": "code",
   "execution_count": null,
   "id": "2392fbdf-3ae5-4283-8a20-0be21f6482b1",
   "metadata": {},
   "outputs": [],
   "source": [
    "Image.open('input/hmib/test_images/10078.tiff')"
   ]
  },
  {
   "cell_type": "code",
   "execution_count": null,
   "id": "86a8886a-8913-48e1-864e-eb8ab549844a",
   "metadata": {},
   "outputs": [],
   "source": []
  },
  {
   "cell_type": "code",
   "execution_count": null,
   "id": "e53ecdf3-3fc5-4a80-afbb-e10fb32e284e",
   "metadata": {},
   "outputs": [],
   "source": []
  },
  {
   "cell_type": "code",
   "execution_count": null,
   "id": "f83c5b83-7510-49ee-ad35-b3df94b19755",
   "metadata": {
    "tags": []
   },
   "outputs": [],
   "source": [
    "from torchvision import  transforms"
   ]
  },
  {
   "cell_type": "code",
   "execution_count": null,
   "id": "f60eaa3a-6117-4a40-af6b-4fa982ee296a",
   "metadata": {},
   "outputs": [],
   "source": [
    "transforms.Resize()"
   ]
  },
  {
   "cell_type": "code",
   "execution_count": null,
   "id": "cd43bf6b-fc82-48b7-9e6a-a8b76d22b403",
   "metadata": {},
   "outputs": [],
   "source": []
  },
  {
   "cell_type": "code",
   "execution_count": null,
   "id": "b4f11b70-c4ec-4111-b147-8b0b65e4e597",
   "metadata": {},
   "outputs": [],
   "source": []
  },
  {
   "cell_type": "code",
   "execution_count": null,
   "id": "50e44ece-0431-495a-b58b-b878b009ecbd",
   "metadata": {},
   "outputs": [],
   "source": []
  },
  {
   "cell_type": "markdown",
   "id": "c1745c1a-0851-4edc-a62e-53988ad03ece",
   "metadata": {
    "tags": []
   },
   "source": [
    "# BCI"
   ]
  },
  {
   "cell_type": "code",
   "execution_count": null,
   "id": "f934ff1b-8dfb-42b1-a14c-e0fd0f040c60",
   "metadata": {
    "tags": []
   },
   "outputs": [],
   "source": [
    "a_dst = Path('input/extra/bci/train/HE/')\n",
    "a_files = a_dst.rglob('*.png')\n",
    "b_files = Path('input/extra/bci/train/IHC/').rglob('*.png')\n",
    "a_files = list(a_files)\n",
    "b_files = list(b_files)\n",
    "\n",
    "len(a_files)"
   ]
  },
  {
   "cell_type": "code",
   "execution_count": null,
   "id": "e94f7d49-a81e-4d84-8521-e8e00d35be89",
   "metadata": {},
   "outputs": [],
   "source": [
    "a_dst = Path('../../tmp/test/PAMBuH/input/CUTS/glomi_x33_1024/imgs/')\n",
    "a_files = a_dst.rglob('*.png')\n",
    "b_files = Path('../../tmp/test/PAMBuH/input/CUTS/glomi_x33_1024/masks/').rglob('*.png')\n",
    "a_files = list(a_files)\n",
    "b_files = list(b_files)\n",
    "\n",
    "len(a_files)"
   ]
  },
  {
   "cell_type": "code",
   "execution_count": null,
   "id": "cb4bfc54-30cb-41d2-a40c-abe7fc856176",
   "metadata": {
    "tags": []
   },
   "outputs": [],
   "source": [
    "import random"
   ]
  },
  {
   "cell_type": "code",
   "execution_count": null,
   "id": "ce52daf5-7233-4144-ad3e-f156b9fa72ba",
   "metadata": {
    "tags": []
   },
   "outputs": [],
   "source": [
    "ff = random.choices(b_files, k=16)\n",
    "ff"
   ]
  },
  {
   "cell_type": "code",
   "execution_count": null,
   "id": "19342985-05b7-4b0f-9bf4-9960a576b547",
   "metadata": {
    "tags": []
   },
   "outputs": [],
   "source": [
    "def load_img(p):\n",
    "    i = Image.open(p)\n",
    "    i = i.resize((256,256))\n",
    "    i = np.array(i)\n",
    "    i = torch.from_numpy(i)\n",
    "    return i"
   ]
  },
  {
   "cell_type": "code",
   "execution_count": null,
   "id": "0e2a654b-7f61-4643-9a49-664492698c08",
   "metadata": {
    "tags": []
   },
   "outputs": [],
   "source": [
    "ii = []\n",
    "for f in ff:\n",
    "    f = a_dst / f.parent.name / f.name\n",
    "    i = load_img(f)\n",
    "    ii.append(i)"
   ]
  },
  {
   "cell_type": "code",
   "execution_count": null,
   "id": "95a9bfce-f6ed-4137-aa9a-c413ccc94c5f",
   "metadata": {
    "tags": []
   },
   "outputs": [],
   "source": [
    "# ias = []\n",
    "# ibs = []\n",
    "\n",
    "\n",
    "# for i, fb in tqdm(enumerate(b_files)):\n",
    "#     fa = a_dst / fb.name\n",
    "#     i1, i2 = Image.open(fa), Image.open(fb)\n",
    "#     i1 = i1.resize((256,256))\n",
    "#     i2 = i2.resize((256,256))\n",
    "    \n",
    "#     i1 = np.array(i1)\n",
    "#     i2 = np.array(i2)\n",
    "#     ias.append(torch.from_numpy(i1))\n",
    "#     ibs.append(torch.from_numpy(i2))\n",
    "#     break"
   ]
  },
  {
   "cell_type": "code",
   "execution_count": null,
   "id": "9ceaf110-e98f-47e8-90f9-7e377bd136f9",
   "metadata": {
    "tags": []
   },
   "outputs": [],
   "source": [
    "i1 = torch.stack(ii)\n",
    "i1.shape"
   ]
  },
  {
   "cell_type": "code",
   "execution_count": null,
   "id": "9c668955-41fa-48eb-a3cb-039b53410ef6",
   "metadata": {
    "tags": []
   },
   "outputs": [],
   "source": [
    "gr = torchvision.utils.make_grid(i1.float().permute(0,3,1,2),nrow=4, normalize=True).permute(2,1,0)\n",
    "gr.shape"
   ]
  },
  {
   "cell_type": "code",
   "execution_count": null,
   "id": "dc36cdc1-58ad-4c35-a01f-765a98a92619",
   "metadata": {
    "tags": []
   },
   "outputs": [],
   "source": [
    "plt.figure()\n",
    "plt.imshow(gr)"
   ]
  },
  {
   "cell_type": "code",
   "execution_count": null,
   "id": "979b2507-ae9f-4e9b-8821-bb69e1d1324a",
   "metadata": {},
   "outputs": [],
   "source": []
  },
  {
   "cell_type": "code",
   "execution_count": null,
   "id": "7ef50b24-f5ca-45e3-a770-308b091888bc",
   "metadata": {},
   "outputs": [],
   "source": []
  },
  {
   "cell_type": "code",
   "execution_count": null,
   "id": "1cd4aa12-3de7-4c38-91a2-a5b5b5375a17",
   "metadata": {},
   "outputs": [],
   "source": []
  },
  {
   "cell_type": "code",
   "execution_count": null,
   "id": "355b1128-9e1d-4ec7-a2a1-bf0c32bfe3d4",
   "metadata": {},
   "outputs": [],
   "source": [
    "it = iter(b_files)"
   ]
  },
  {
   "cell_type": "code",
   "execution_count": null,
   "id": "df5669e6-a435-4375-9d98-daa93bb12aa4",
   "metadata": {
    "tags": []
   },
   "outputs": [],
   "source": [
    "fb = next(it)\n",
    "fa = a_dst / fb.name\n",
    "i1, i2 = Image.open(fa), Image.open(fb)\n"
   ]
  },
  {
   "cell_type": "code",
   "execution_count": null,
   "id": "3da02166-b183-48b7-b265-d95c22e2dc96",
   "metadata": {
    "tags": []
   },
   "outputs": [],
   "source": [
    "fb, fa"
   ]
  },
  {
   "cell_type": "code",
   "execution_count": null,
   "id": "618a615f-e8ff-4346-97d6-b6084e46ec08",
   "metadata": {
    "tags": []
   },
   "outputs": [],
   "source": [
    "i2.size"
   ]
  },
  {
   "cell_type": "code",
   "execution_count": null,
   "id": "ca15d0d8-4975-47b7-9e58-d653ef674c1c",
   "metadata": {
    "tags": []
   },
   "outputs": [],
   "source": [
    "i2.resize((256,256))"
   ]
  },
  {
   "cell_type": "code",
   "execution_count": null,
   "id": "8d7b88d8-a2f3-4eaf-9686-3d1c0b333917",
   "metadata": {
    "tags": []
   },
   "outputs": [],
   "source": [
    "i1.resize((256,256))"
   ]
  },
  {
   "cell_type": "code",
   "execution_count": null,
   "id": "ecdf1843-2274-498d-870a-4e64c47f1bbb",
   "metadata": {},
   "outputs": [],
   "source": []
  },
  {
   "cell_type": "code",
   "execution_count": null,
   "id": "4ad402cb-853f-4fa4-bee8-dbee9fb67f45",
   "metadata": {},
   "outputs": [],
   "source": []
  },
  {
   "cell_type": "code",
   "execution_count": null,
   "id": "b3ebe54c-283e-4598-a32c-7e7d1e72fd1c",
   "metadata": {},
   "outputs": [],
   "source": []
  },
  {
   "cell_type": "code",
   "execution_count": null,
   "id": "68b00c6a-82b8-45c8-9393-192bef02b9b7",
   "metadata": {},
   "outputs": [],
   "source": []
  },
  {
   "cell_type": "markdown",
   "id": "b01363c3-c271-46e3-b574-f281ce3ee7aa",
   "metadata": {},
   "source": [
    "# Hub old"
   ]
  },
  {
   "cell_type": "code",
   "execution_count": null,
   "id": "c9d61621-fb5b-46d9-8ca3-8289cc3a0f42",
   "metadata": {},
   "outputs": [],
   "source": [
    "@contextmanager\n",
    "def poolcontext(*args, **kwargs):\n",
    "    pool = mp.Pool(*args, **kwargs)\n",
    "    yield pool\n",
    "    pool.terminate()\n",
    "    \n",
    "def mp_func(foo, args, n):\n",
    "    args_chunks = [args[i:i + n] for i in range(0, len(args), n)]\n",
    "    with poolcontext(processes=n) as pool:\n",
    "        pool.map(foo, args_chunks)\n",
    "    \n",
    "def mp_foo(foo, args): return foo(*args)"
   ]
  },
  {
   "cell_type": "code",
   "execution_count": null,
   "id": "28d3c894-a71a-450b-9643-9e5bcb379732",
   "metadata": {},
   "outputs": [],
   "source": [
    "from shapely import geometry\n",
    "from typing import Tuple\n",
    "import numpy as np\n",
    "import rasterio\n",
    "from rasterio.windows import Window\n",
    "#from utils import jread, get_basics_rasterio, json_record_to_poly, flatten_2dlist, get_cortex_polygons, gen_pt_in_poly\n",
    "\n",
    "import os\n",
    "import math\n",
    "import json\n",
    "import random\n",
    "import argparse\n",
    "import datetime\n",
    "import itertools\n",
    "from pathlib import Path\n",
    "from functools import partial\n",
    "import multiprocessing as mp\n",
    "import multiprocessing.pool\n",
    "from contextlib import contextmanager\n",
    "from typing import Tuple, List, Dict, Callable\n",
    "\n",
    "import cv2\n",
    "import torch\n",
    "import rasterio\n",
    "import numpy as np\n",
    "from shapely import geometry\n",
    "\n",
    "\n",
    "\n",
    "def jread(path: str) -> Dict:\n",
    "    with open(str(path), 'r') as f:\n",
    "        data = json.load(f)\n",
    "    return data\n",
    "\n",
    "\n",
    "def jdump(data: Dict, path: str) -> None:\n",
    "    with open(str(path), 'w') as f:\n",
    "        json.dump(data, f, indent=4)\n",
    "\n",
    "\n",
    "def filter_ban_str_in_name(s: str, bans: List[str]): return any([(b in str(s)) for b in bans])\n",
    "\n",
    "\n",
    "def get_filenames(path: str, pattern: str, filter_out_func: Callable) -> str:\n",
    "    filenames = list(Path(path).glob(pattern))\n",
    "    assert (filenames), f'There is no matching filenames for {path}, {pattern}'\n",
    "    filenames = [fn for fn in filenames if not filter_out_func(fn)]\n",
    "    assert (filenames), f'There is no matching filenames for {filter_out_func}'\n",
    "    return filenames\n",
    "\n",
    "\n",
    "def polyg_to_mask(polyg: np.ndarray, wh: Tuple[int, int], fill_value: int) -> np.ndarray:\n",
    "    polyg = np.int32([polyg])\n",
    "    mask = np.zeros([wh[0], wh[1]], dtype=np.uint8)\n",
    "    cv2.fillPoly(mask, polyg, fill_value)\n",
    "    return mask\n",
    "\n",
    "\n",
    "def json_record_to_poly(record: Dict) -> List[geometry.Polygon]:\n",
    "    num_polygons = len(record['geometry']['coordinates'])\n",
    "    if num_polygons == 1:     # Polygon\n",
    "        list_coords = [record['geometry']['coordinates'][0]]\n",
    "    elif num_polygons > 1:    # MultiPolygon\n",
    "        list_coords = [record['geometry']['coordinates'][i][0] for i in range(num_polygons)]\n",
    "    else:\n",
    "        raise Exception(\"No polygons are found\")\n",
    "\n",
    "    try:\n",
    "        polygons = [geometry.Polygon(coords) for coords in list_coords]\n",
    "    except Exception as e:\n",
    "        print(e, list_coords)\n",
    "    return polygons\n",
    "\n",
    "def get_basics_rasterio(name):\n",
    "    file = rasterio.open(str(name))\n",
    "    return file, file.shape, file.count\n",
    "\n",
    "def get_tiff_block(ds, x, y, w, h=None, bands=3):\n",
    "    if h is None: h = w\n",
    "    return ds.read(list(range(1, bands+1)), window=rasterio.windows.Window(x, y, w, h))\n",
    "\n",
    "def save_tiff_uint8_single_band(img, path, bits=1):\n",
    "    assert img.dtype == np.uint8\n",
    "    if img.max() <= 1. : print(f\"Warning: saving tiff with max value is <= 1, {path}\")\n",
    "    h, w = img.shape\n",
    "    dst = rasterio.open(path, 'w', driver='GTiff', height=h, width=w, count=1, nbits=bits, dtype=np.uint8)\n",
    "    dst.write(img, 1)\n",
    "    dst.close()\n",
    "    del dst\n",
    "\n",
    "\n",
    "def get_cortex_polygons(anot_structs_json: Dict) -> List[geometry.Polygon]:\n",
    "    return get_polygons_by_type(anot_structs_json, 'Cortex')\n",
    "\n",
    "def get_polygons_by_type(anot_structs_json: Dict, name: str) -> List[geometry.Polygon]:\n",
    "    polygons = []\n",
    "    for record in anot_structs_json:\n",
    "        if record['properties']['classification']['name'] == name:\n",
    "            polygons += json_record_to_poly(record)\n",
    "    return polygons\n",
    "\n",
    "def flatten_2dlist(list2d: List) -> List:\n",
    "    list1d = list(itertools.chain(*list2d))\n",
    "    return list1d\n",
    "\n",
    "def tiff_merge_mask(path_tiff, path_mask, path_dst, path_mask2=None):\n",
    "    # will use shitload of mem\n",
    "    img = rasterio.open(path_tiff).read()\n",
    "    mask = rasterio.open(path_mask).read()\n",
    "    #assert mask.max() <= 1 + 1e-6\n",
    "\n",
    "    if img.shape[0] == 1:\n",
    "        img = np.repeat(img, 3, 0)\n",
    "\n",
    "\n",
    "    red = mask * 200 if mask.max() <= 1 + 1e-6 else mask\n",
    "    img[1,...] = img.mean(0)\n",
    "    img[0,...] = red\n",
    "\n",
    "    if path_mask2 is not None:\n",
    "        mask2 = rasterio.open(path_mask2).read()\n",
    "        blue = mask2 * 200 if mask2.max() <= 1 + 1e-6 else mask2\n",
    "        #assert mask2.max() <= 1 + 1e-6\n",
    "        img[2,...] = blue\n",
    "\n",
    "    _, h, w = img.shape\n",
    "    dst = rasterio.open(path_dst, 'w', driver='GTiff', height=h, width=w, count=3, dtype=np.uint8)\n",
    "    dst.write(img, [1,2,3]) # 3 bands\n",
    "    dst.close()\n",
    "    del dst\n",
    "\n",
    "\n",
    "def gen_pt_in_poly(polygon: geometry.Polygon,\n",
    "                   max_num_attempts=50) -> geometry.Point:\n",
    "    \"\"\"Generates randomly point within given polygon. If after max_num_attempts point has been not\n",
    "    found, then returns centroid of polygon.\n",
    "    \"\"\"\n",
    "\n",
    "    min_x, min_y, max_x, max_y = polygon.bounds\n",
    "\n",
    "    num_attempts = 0\n",
    "    while num_attempts < max_num_attempts:\n",
    "        random_point = geometry.Point([random.uniform(min_x, max_x), random.uniform(min_y, max_y)])\n",
    "        if random_point.within(polygon): return random_point\n",
    "        num_attempts += 1\n",
    "    return polygon.centroid\n",
    "\n",
    "\n",
    "def rgb2gray(rgb: np.ndarray) -> np.ndarray:\n",
    "    \"\"\"Gets np.ndarray (3, ...) or (..., 3) and returns gray scale np.ndarray (...).\"\"\"\n",
    "\n",
    "    first_channel = rgb.shape[0]\n",
    "    if first_channel == 3:\n",
    "        rgb = np.swapaxes(np.swapaxes(rgb, 0, 2), 0, 1) # (3, ...) -> (..., 3)\n",
    "    return np.dot(rgb[..., :3], [0.299, 0.587, 0.144])\n",
    "\n",
    "\n",
    "def save_arr_as_tiff(arr: np.ndarray, path: str, nbits: int = 8) -> None:\n",
    "    \"\"\"Gets np.ndarray (num_bands, h, w) and returns gray scale np.ndarray (h, w) in uint8.\"\"\"\n",
    "    \n",
    "    num_bands, h, w = arr.shape\n",
    "\n",
    "    dst = rasterio.open(path, 'w', driver='GTiff',\n",
    "                        height=h, width=w, count=num_bands,\n",
    "                        nbits=nbits, dtype=np.uint8)\n",
    "    dst.write(arr)\n",
    "    dst.close()\n",
    "    del dst\n",
    "\n",
    "\n",
    "class NoDaemonProcess(mp.Process):\n",
    "    # make 'daemon' attribute always return False\n",
    "    def _get_daemon(self):\n",
    "        return False\n",
    "    def _set_daemon(self, value):\n",
    "        pass\n",
    "    daemon = property(_get_daemon, _set_daemon)\n",
    "\n",
    "class NoDaemonPool(mp.pool.Pool):\n",
    "    Process = NoDaemonProcess\n",
    "\n",
    "def sigmoid(x): return 1 / (1 + np.exp(-x))\n",
    "\n",
    "\n",
    "class TFReader:\n",
    "    \"\"\"Reads tiff files.\n",
    "\n",
    "    If subdatasets are available, then use them, otherwise just handle as usual.\n",
    "    \"\"\"\n",
    "\n",
    "    def __init__(self, path_to_tiff_file: str):\n",
    "        self.ds = rasterio.open(path_to_tiff_file)\n",
    "        self.subdatasets = self.ds.subdatasets\n",
    "        self.is_subsets_avail = len(self.subdatasets) > 0\n",
    "        if self.is_subsets_avail:\n",
    "            path_to_subdatasets = self.ds.subdatasets\n",
    "            self.list_ds = [rasterio.open(path_to_subdataset)\n",
    "                            for path_to_subdataset in path_to_subdatasets]\n",
    "\n",
    "    def read(self, window: Tuple[None, Window] = None, boundless: bool=True):\n",
    "        if self.is_subsets_avail:\n",
    "            output = np.vstack([ds.read() for ds in self.list_ds]) if window is None else \\\n",
    "                np.vstack([ds.read(window=window, boundless=boundless) for ds in self.list_ds])\n",
    "        else:\n",
    "            output = self.ds.read() if window is None else \\\n",
    "                self.ds.read(window=window, boundless=boundless)\n",
    "        return output\n",
    "\n",
    "    @property\n",
    "    def shape(self):\n",
    "        return self.ds.shape\n",
    "\n",
    "    def __del__(self):\n",
    "        del self.ds\n",
    "        if self.is_subsets_avail:\n",
    "            del self.list_ds\n",
    "\n",
    "            \n",
    "\n",
    "class GdalSampler:\n",
    "    \"\"\"Iterates over img with annotation, returns tuples of img, mask\n",
    "    \"\"\"\n",
    "\n",
    "    def __init__(self, img_path: str,\n",
    "                 mask_path: str,\n",
    "                 img_polygons_path: str,\n",
    "                 img_wh: Tuple[int, int],\n",
    "                 border_path=None,\n",
    "                 rand_shift_range: Tuple[int, int] = (0, 0)) -> Tuple[np.ndarray, np.ndarray]:\n",
    "        \"\"\"If rand_shift_range ~ (0,0), then centroid of glomerulus corresponds centroid of output sample\n",
    "        \"\"\"\n",
    "        self._records_json = jread(img_polygons_path)\n",
    "        self._mask = TFReader(mask_path)\n",
    "        self._img = TFReader(img_path)\n",
    "        self._border = TFReader(border_path) if border_path is not None else None\n",
    "        self._wh = img_wh\n",
    "        self._count = -1\n",
    "        self._rand_shift_range = rand_shift_range\n",
    "        # Get 1d list of polygons\n",
    "        polygons = flatten_2dlist([json_record_to_poly(record) for record in self._records_json])\n",
    "        self._polygons_centroid = [np.round(polygon.centroid) for polygon in polygons]\n",
    "\n",
    "    def __iter__(self):\n",
    "        return self\n",
    "\n",
    "    def __len__(self):\n",
    "        return len(self._records_json)\n",
    "\n",
    "    def __next__(self):\n",
    "        self._count += 1\n",
    "        if self._count < len(self._records_json):\n",
    "            return self.__getitem__(self._count)\n",
    "        else:\n",
    "            self._count = -1\n",
    "            raise StopIteration(\"Failed to proceed to the next step\")\n",
    "\n",
    "    def __getitem__(self, idx: int) -> Tuple[np.ndarray, np.ndarray]:\n",
    "        y,x = self._polygons_centroid[idx]\n",
    "        w,h = self._wh\n",
    "        y,x = y-h//2, x-w//2 # align center of crop with poly\n",
    "        window = ((x, x+w),(y, y+h))\n",
    "        img = self._img.read(window=window, boundless=True)\n",
    "        mask = self._mask.read(window=window, boundless=True)\n",
    "        if self._border is not None:\n",
    "            return img, mask, self._border.read(window=window, boundless=True)\n",
    "\n",
    "        return img, mask\n",
    "\n",
    "    def __del__(self):\n",
    "        del self._mask\n",
    "        del self._img\n"
   ]
  },
  {
   "cell_type": "code",
   "execution_count": null,
   "id": "c71437f5-3c9f-49a9-b822-27fa729ba6f6",
   "metadata": {},
   "outputs": [],
   "source": [
    "def to_gray(i):return np.mean(i,-1,keepdims=True).repeat(3,-1)\n",
    "\n",
    "def mp_sampler(dst, i_fn, m_fn, a_fn, wh, idxs):\n",
    "    _wh, _wh_mask = wh, wh        \n",
    "    #s = sampler.GdalSampler(i_fn, m_fn, a_fn, _wh)\n",
    "    s = sampler.GdalSampler(i_fn, m_fn, a_fn, _wh)\n",
    "    SCALE = 3\n",
    "    \n",
    "    for idx in idxs:\n",
    "        #i,m,b = s[idx]  \n",
    "        i, m = s[idx]  \n",
    "        \n",
    "        #print(idx, i.shape, m.shape)\n",
    "        orig_name = (str(idx).zfill(6) + '.png')\n",
    "        \n",
    "        img_dir = dst / 'images' / i_fn.with_suffix('').name\n",
    "        os.makedirs(str(img_dir), exist_ok=True)\n",
    "        \n",
    "        mask_dir = dst / 'masks' / i_fn.with_suffix('').name\n",
    "        os.makedirs(str(mask_dir), exist_ok=True)\n",
    "        \n",
    "        img_name = img_dir / orig_name \n",
    "        mask_name = mask_dir /orig_name\n",
    "         \n",
    "        i = i.transpose(1,2,0)\n",
    "        m = m.transpose(1,2,0)\n",
    "        \n",
    "        #i = i.mean(-1, keepdims=True).astype(np.uint8)\n",
    "        #i = i.repeat(3,-1)\n",
    "        #print(i.shape, i.dtype, m.shape, m.dtype)\n",
    "        i = cv2.cvtColor(i, cv2.COLOR_BGR2RGB)\n",
    "        \n",
    "        #m = m.repeat(3,-1).astype(np.uint8)\n",
    "        m = 255 * m.repeat(3,-1).astype(np.uint8)\n",
    "        \n",
    "        \n",
    "        i = cv2.resize(i, (wh[0]//SCALE, wh[1]//SCALE), interpolation=cv2.INTER_AREA)\n",
    "        m = cv2.resize(m, (wh[0]//SCALE, wh[1]//SCALE), interpolation=cv2.INTER_AREA)\n",
    "    \n",
    "        cv2.imwrite(str(img_name), i)\n",
    "        cv2.imwrite(str(mask_name), m)\n",
    "    return\n"
   ]
  },
  {
   "cell_type": "code",
   "execution_count": null,
   "id": "7f20833b-7e97-41c0-b62c-945fab3a9150",
   "metadata": {},
   "outputs": [],
   "source": []
  },
  {
   "cell_type": "code",
   "execution_count": null,
   "id": "081cd342-49fe-4120-aabc-2d28441dce39",
   "metadata": {},
   "outputs": [],
   "source": [
    "_wh, _wh_mask = wh, wh        \n",
    "s = sampler.GdalSampler(i_fn, m_fn, a_fn, _wh)\n",
    "SCALE = 3\n",
    "\n",
    "for idx in idxs:\n",
    "    #i,m,b = s[idx]  \n",
    "    i, m = s[idx]  \n"
   ]
  },
  {
   "cell_type": "code",
   "execution_count": null,
   "id": "bf832c70-8c53-4dc0-bea7-589de56d4d3f",
   "metadata": {},
   "outputs": [],
   "source": []
  },
  {
   "cell_type": "code",
   "execution_count": null,
   "id": "f79247cb-7120-4bbc-8e07-61ba16bd4858",
   "metadata": {},
   "outputs": [],
   "source": []
  },
  {
   "cell_type": "code",
   "execution_count": null,
   "id": "d7e9844b-418e-4321-a25c-ccf48cb1462c",
   "metadata": {},
   "outputs": [],
   "source": []
  },
  {
   "cell_type": "code",
   "execution_count": null,
   "id": "844e9d59-1f0a-4df6-b75d-5daaa6300a65",
   "metadata": {},
   "outputs": [],
   "source": []
  }
 ],
 "metadata": {
  "kernelspec": {
   "display_name": "Python 3 (ipykernel)",
   "language": "python",
   "name": "python3"
  },
  "language_info": {
   "codemirror_mode": {
    "name": "ipython",
    "version": 3
   },
   "file_extension": ".py",
   "mimetype": "text/x-python",
   "name": "python",
   "nbconvert_exporter": "python",
   "pygments_lexer": "ipython3",
   "version": "3.8.10"
  }
 },
 "nbformat": 4,
 "nbformat_minor": 5
}
