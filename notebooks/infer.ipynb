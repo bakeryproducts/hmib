{
 "cells": [
  {
   "cell_type": "code",
   "execution_count": null,
   "id": "b1f2bdff-4177-4a4c-b659-ec24a9c2d429",
   "metadata": {
    "tags": []
   },
   "outputs": [],
   "source": [
    "%load_ext autoreload\n",
    "%autoreload 2"
   ]
  },
  {
   "cell_type": "code",
   "execution_count": null,
   "id": "bcd81351-06b7-4bd2-8733-3b9e89d8d1d0",
   "metadata": {
    "tags": []
   },
   "outputs": [],
   "source": [
    "# import sys\n",
    "# import os\n",
    "# os.chdir('..')\n",
    "# sys.path.append('src')"
   ]
  },
  {
   "cell_type": "code",
   "execution_count": null,
   "id": "89d5109a-6edc-4492-afb2-a03986277d68",
   "metadata": {
    "tags": []
   },
   "outputs": [],
   "source": [
    "import torch\n",
    "import timm"
   ]
  },
  {
   "cell_type": "code",
   "execution_count": null,
   "id": "a42cd19c-5377-4277-9869-428cbff94f5a",
   "metadata": {
    "tags": []
   },
   "outputs": [],
   "source": [
    "import os\n",
    "import sys\n",
    "import importlib\n",
    "\n",
    "import fire\n",
    "from pathlib import Path\n",
    "from tqdm import tqdm\n",
    "import pandas as pd\n",
    "import numpy as np\n",
    "\n",
    "from omegaconf import OmegaConf\n",
    "\n",
    "import torch\n",
    "import cv2\n",
    "from PIL import Image\n",
    "import rasterio\n",
    "from torchvision import transforms\n",
    "\n",
    "import ttach as tta\n",
    "from collections import defaultdict\n",
    "\n",
    "import matplotlib.pyplot as plt\n",
    "%matplotlib widget"
   ]
  },
  {
   "cell_type": "code",
   "execution_count": null,
   "id": "516d39b7-70fa-4530-86a7-3be3eefc3bd4",
   "metadata": {
    "tags": []
   },
   "outputs": [],
   "source": [
    "def init_data_module_from_checkpoint(root, name, file_name):\n",
    "    spec = importlib.util.spec_from_file_location(name, str(root/f'src/{file_name}'))\n",
    "    mod = importlib.util.module_from_spec(spec)\n",
    "    spec.loader.exec_module(mod)\n",
    "    return mod\n",
    "\n",
    "\n",
    "def init_modules(p, module_name='network'):\n",
    "    p = Path(p)\n",
    "    sys.path.insert(0, str(p / 'src'))\n",
    "\n",
    "    if module_name in sys.modules:\n",
    "        del sys.modules[module_name]\n",
    "        \n",
    "        \n",
    "    for m in ['buildingblocks', 'basemodels', 'segformer', 'tools_tv']:\n",
    "        try:\n",
    "            del sys.modules[m]\n",
    "        except:\n",
    "            pass\n",
    "\n",
    "    module = init_data_module_from_checkpoint(p, module_name, f'{module_name}.py')\n",
    "    sys.path.pop(0)\n",
    "    return module\n",
    "\n",
    "\n",
    "def tiff_reader(fn):\n",
    "    img = rasterio.open(fn).read().transpose(1, 2, 0)\n",
    "    img = np.array(img)\n",
    "    return img\n",
    "\n",
    "\n",
    "def get_inferer(model_path):\n",
    "    root = model_path.parent.parent.parent\n",
    "    cfg_path = root / 'src/configs/u.yaml'\n",
    "    cfg = OmegaConf.load(cfg_path)\n",
    "\n",
    "    network = init_modules(root, 'network')\n",
    "    tools_tv = init_modules(root, 'tools_tv')\n",
    "\n",
    "    m = network.model_select(cfg)()\n",
    "    weights = torch.load(model_path)['model_state']['cls']\n",
    "    weights.keys()\n",
    "    m.load_state_dict(weights)\n",
    "    m = m.cuda().eval()\n",
    "\n",
    "    def inf(x):\n",
    "        with torch.cuda.amp.autocast(enabled=True):\n",
    "            with torch.no_grad():\n",
    "                x = x.contiguous()\n",
    "                x = tools_tv.batch_quantile(x, q=.005)\n",
    "                x = (x - cfg.AUGS.MEAN[0]) / cfg.AUGS.STD[0]\n",
    "                x = x.clamp(-cfg.FEATURES.CLAMP, cfg.FEATURES.CLAMP)\n",
    "                pred = m(dict(xb=x))\n",
    "                pred = dict(yb=pred['yb'].sigmoid())\n",
    "        return pred\n",
    "    return inf, cfg\n",
    "\n",
    "\n",
    "def preocess_images(cfg, images, infer, reader, dst, scale):\n",
    "    EXT = '.png'\n",
    "    # TODO: cfg stats\n",
    "    \n",
    "    for ii, fn in enumerate(tqdm(images)):\n",
    "        img = reader(fn)\n",
    "        H, W, C = img.shape\n",
    "        x = torch.from_numpy(img).unsqueeze(0)\n",
    "        x = x.float().cuda()\n",
    "        \n",
    "        pred = infer(x)\n",
    "        pred = pred['yb']\n",
    "        pred = pred.cpu()\n",
    "        depred = pred[0].permute(1, 2, 0) * 255.\n",
    "        depred = depred.sum(-1).numpy()\n",
    "        depred = depred.astype(np.uint8)\n",
    "        cv2.imwrite(str(dst / fn.with_suffix(EXT).name), cv2.cvtColor(depred, cv2.COLOR_RGB2BGR))\n",
    "        #break\n",
    "    return #depred\n",
    "\n",
    "def inferencer(path, organ=None, images_folder=None, extension='*', atob=True, gpun=0, scale=1):\n",
    "    #os.environ['CUDA_VISIBLE_DEVICES'] = str(gpun)\n",
    "    path = Path(path)\n",
    "    \n",
    "    infer, cfg = get_inferer(path, scale)\n",
    "\n",
    "    images_root = Path('../hmib/input/hmib/')\n",
    "    df = pd.read_csv(str(images_root / 'train.csv'))\n",
    "    idxs = df[df.organ == organ].index\n",
    "    images = [images_root / 'train_images' / f'{df.iloc[idx].id}.tiff' for idx in idxs]\n",
    "    \n",
    "    dst = path.parent.parent / f'train_images_{path.with_suffix(\"\").name}'\n",
    "    dst.mkdir(exist_ok=True)\n",
    "\n",
    "    preocess_images(cfg, images, infer, reader=tiff_reader, dst=dst, scale=scale)\n",
    "\n",
    "def png_reader(p):\n",
    "    return np.array(Image.open(str(p))).transpose(2,0,1)"
   ]
  },
  {
   "cell_type": "code",
   "execution_count": null,
   "id": "aa80c129-b729-439a-b76e-6885ce396fd2",
   "metadata": {
    "tags": []
   },
   "outputs": [],
   "source": [
    "\n",
    "class EnsembleInfer:\n",
    "    def __init__(self, infers):\n",
    "        self.infers = infers\n",
    "        self.mode = 'avg'\n",
    "\n",
    "    def __call__(self, xb, **kwargs):\n",
    "        res = defaultdict(list)\n",
    "        for inf in self.infers:\n",
    "            pred = inf(xb, **kwargs)\n",
    "            for k,v in pred.items():\n",
    "                res[k].append(v)\n",
    "                #print(v)\n",
    "            #res.append(pred)\n",
    "        reduced = {}\n",
    "        for k,v in res.items():\n",
    "            v = torch.stack(v)\n",
    "            if self.mode == 'avg':v = v.mean(0)\n",
    "            elif self.mode == 'max':v = v.max(0)\n",
    "            reduced[k] = v\n",
    "\n",
    "        return reduced\n",
    "    \n",
    "\n",
    "class CTTA(torch.nn.Module):\n",
    "    def __init__(self, infer, transformers, ignore_keys=['ds', 'cls'], keys_demask=['yb'], mode='avg'):\n",
    "        super().__init__()\n",
    "        self.transformers = transformers\n",
    "        self.infer = infer\n",
    "        self.keys_demask = keys_demask\n",
    "        self.mode = mode\n",
    "        self.ignore_keys = ignore_keys\n",
    "        \n",
    "    def forward(self, xb, **kwargs):\n",
    "        res = defaultdict(list)\n",
    "        for transformer in self.transformers: # custom transforms or e.g. tta.aliases.d4_transform()\n",
    "            axb = transformer.augment_image(xb)\n",
    "            #print(transformer, axb.shape)\n",
    "            pred = self.infer(axb.contiguous(), **kwargs)\n",
    "            assert isinstance(pred, dict), type(pred)\n",
    "            for k,v in pred.items():\n",
    "                if k in self.keys_demask:\n",
    "                    v = transformer.deaugment_mask(v)\n",
    "                if k not in self.ignore_keys:\n",
    "                    res[k].append(v)\n",
    "\n",
    "        for k,v in res.items():\n",
    "            #print(k, v)\n",
    "            if self.mode == 'avg':\n",
    "                res[k] = torch.stack(v).mean(0)\n",
    "            elif self.mode == 'max':\n",
    "                res[k] = torch.stack(v).max(0)[0]\n",
    "\n",
    "        return res\n"
   ]
  },
  {
   "cell_type": "code",
   "execution_count": null,
   "id": "82ba91fb-c1db-4975-99cb-a66d56bf7956",
   "metadata": {
    "tags": []
   },
   "outputs": [],
   "source": []
  },
  {
   "cell_type": "code",
   "execution_count": null,
   "id": "244eb17f-9809-4578-96ea-e68fead7a8eb",
   "metadata": {
    "tags": []
   },
   "outputs": [],
   "source": []
  },
  {
   "cell_type": "code",
   "execution_count": null,
   "id": "7f1377fe-21ea-4044-a7a1-5767bbe68350",
   "metadata": {
    "tags": []
   },
   "outputs": [],
   "source": []
  },
  {
   "cell_type": "code",
   "execution_count": null,
   "id": "ff5ca25e-0d9a-484c-a984-459f577cc5a5",
   "metadata": {},
   "outputs": [],
   "source": []
  },
  {
   "cell_type": "markdown",
   "id": "78836d99-5aa3-4a94-99fe-17352c673114",
   "metadata": {},
   "source": [
    "information needed to split LB-public into LB-public-Hubmap and LB-public-HPA\n",
    "\n",
    "\"roughly 550 test images \"\n",
    "there are exactly 529 test images, of which Hubmap=448, HPA=81\n",
    "\n",
    "public test : 55% of the test data()\n",
    "291 --> Hubmap=210 (0.7216), HPA=81 (0.2783)\n",
    "\n",
    "private test = 45%\n",
    "238--> Hubmap= 238"
   ]
  },
  {
   "cell_type": "code",
   "execution_count": null,
   "id": "d22cb794-cf0f-4bae-901f-313b435285a4",
   "metadata": {},
   "outputs": [],
   "source": []
  },
  {
   "cell_type": "code",
   "execution_count": null,
   "id": "5775cd31-1681-44e4-a1a3-ce8303487da5",
   "metadata": {},
   "outputs": [],
   "source": []
  },
  {
   "cell_type": "code",
   "execution_count": null,
   "id": "9d916950-2143-4139-8c15-0ec48dde13ed",
   "metadata": {},
   "outputs": [],
   "source": []
  },
  {
   "cell_type": "code",
   "execution_count": null,
   "id": "32ae8b9c-640a-4a64-a43d-8f6d0d8ef299",
   "metadata": {
    "tags": []
   },
   "outputs": [],
   "source": [
    "dst = Path('../input/predict/pseudo_0/')#model_path.parent.parent / f'val_images_{model_path.with_suffix(\"\").name}'\n",
    "dst.mkdir(exist_ok=True)\n",
    "    \n",
    "    \n",
    "for split in range(4):\n",
    "    df_idx = pd.read_csv(f'../input/splits/{split}.csv', header=None)\n",
    "\n",
    "    images_root = Path('../input/hmib/')\n",
    "    df = pd.read_csv(str(images_root / 'train.csv'))\n",
    "    images = [Path('../input/preprocessed/rle1024/images') / f'{df.iloc[idx].id}.png' for idx in df_idx.values.flatten()]\n",
    "    \n",
    "#     models = {\n",
    "#         0:[\n",
    "#             Path(f'../output/08-16/12-01-22_unet_convnext_small_in22ft1k/split_0/models/e7_t100_cmax_ema_0.7507.pth'),\n",
    "#             # Path(f'../output/08-16/13-39-43_unet_dm_nfnet_f2/split_0/models/e5_t100_cmax_ema_0.7579.pth'),\n",
    "#         ],\n",
    "#         1:[\n",
    "#             Path(f'../output/08-16/12-22-15_unet_convnext_small_in22ft1k/split_1/models/e6_t100_cmax_ema_0.7964.pth'),\n",
    "#             # Path(f'../output/08-16/14-15-04_unet_dm_nfnet_f2/split_1/models/e5_t100_cmax_ema_0.8186.pth'),\n",
    "#         ],\n",
    "#         2:[\n",
    "#             Path(f'../output/08-16/12-41-59_unet_convnext_small_in22ft1k/split_2/models/e9_t100_cmax_ema_0.7961.pth'),\n",
    "#             # Path(f'../output/08-16/14-50-24_unet_dm_nfnet_f2/split_2/models/e6_t100_cmax_ema_0.8129.pth'),\n",
    "#         ],\n",
    "#         3:[\n",
    "#             Path(f'../output/08-16/13-05-05_unet_convnext_small_in22ft1k/split_3/models/e7_t100_cmax_ema_0.8172.pth'),\n",
    "#             # Path(f'../output/08-16/15-28-17_unet_dm_nfnet_f2/split_3/models/e2_t100_cmax_ema_0.8104.pth'),\n",
    "\n",
    "#         ]}\n",
    "\n",
    "    model_paths = [Path('../output/08-08/18-57-32_unet_resnet34/split_0/models/e64_t100_cmax_ema_0.7356.pth')]#models[split]\n",
    "\n",
    "    infers = []\n",
    "    for model_path in model_paths:\n",
    "        infer, cfg = get_inferer(model_path, )\n",
    "        # transforms = tta.Compose([tta.HorizontalFlip(), tta.VerticalFlip(), tta.Rotate90([90,270])])\n",
    "        # tta_infer = CTTA(infer, transforms)\n",
    "        infers.append(infer)\n",
    "\n",
    "    ensinfer = EnsembleInfer(infers)\n",
    "    infer = ensinfer#infers[1]\n",
    "\n",
    "    r = preocess_images(cfg, images, infer, png_reader, dst, 1)\n",
    "    \n",
    "    break"
   ]
  },
  {
   "cell_type": "code",
   "execution_count": null,
   "id": "042658b0-14e5-4623-b2e2-ff20945e9ef9",
   "metadata": {
    "tags": []
   },
   "outputs": [],
   "source": []
  },
  {
   "cell_type": "code",
   "execution_count": null,
   "id": "cdb79967-d89a-428d-b62a-2ff7b1b972b3",
   "metadata": {
    "tags": []
   },
   "outputs": [],
   "source": []
  },
  {
   "cell_type": "code",
   "execution_count": null,
   "id": "7dc4188e-b125-4211-a705-2f2b55bf9b46",
   "metadata": {
    "tags": []
   },
   "outputs": [],
   "source": []
  },
  {
   "cell_type": "code",
   "execution_count": null,
   "id": "04e16271-89cc-40a6-889d-2a102cf912ad",
   "metadata": {
    "tags": []
   },
   "outputs": [],
   "source": []
  },
  {
   "cell_type": "code",
   "execution_count": null,
   "id": "739b0de2-b8ce-4ffe-ac8b-e21f1858a799",
   "metadata": {
    "tags": []
   },
   "outputs": [],
   "source": [
    "# images = list(Path('../input/preprocessed/rle1024/images/').glob('*.png'))\n",
    "# len(images)\n",
    "# parti = images[:4]\n",
    "# len(parti)"
   ]
  },
  {
   "cell_type": "code",
   "execution_count": null,
   "id": "d4bfcaa0-c400-479c-901e-7c3fdea58e46",
   "metadata": {},
   "outputs": [],
   "source": []
  },
  {
   "cell_type": "code",
   "execution_count": null,
   "id": "5567674c-8048-480b-b036-d1a90e93b6fa",
   "metadata": {
    "tags": []
   },
   "outputs": [],
   "source": [
    "#Image.open('../output/08-16/14-15-04_unet_dm_nfnet_f2/split_1/val_images_e5_t100_cmax_ema_0.8186/18445.png')"
   ]
  },
  {
   "cell_type": "code",
   "execution_count": null,
   "id": "e16eb00f-e785-4b0a-9574-7ce76c91f42b",
   "metadata": {
    "tags": []
   },
   "outputs": [],
   "source": [
    "pseudos = Path('../input/predict/pseudo/')\n",
    "images = Path('../input/preprocessed/rle1024/images/')\n",
    "masks = Path('../input/preprocessed/rle1024/masks/')\n",
    "dst = Path('../input/predict/combined/')\n",
    "\n",
    "df = pd.read_csv(str(images_root / 'train.csv'))\n",
    "for i,row in tqdm(df.iterrows()):\n",
    "    idx = row.id\n",
    "    img = np.array(Image.open(images / f\"{idx}.png\"))\n",
    "    img = img.mean(2)\n",
    "    mask = np.array(Image.open(masks / f\"{idx}.png\")) * 255.\n",
    "    pseudo = np.array(Image.open(pseudos / f\"{idx}.png\"))[...,0] # rgb for some reason\n",
    "    \n",
    "    r = np.stack([mask, img, pseudo], -1).astype(np.uint8)\n",
    "    fn = dst / row.organ / f\"{idx}.png\"\n",
    "    fn.parent.mkdir(exist_ok=True)\n",
    "    cv2.imwrite(str(fn), cv2.cvtColor(r, cv2.COLOR_RGB2BGR))\n",
    "        \n",
    "    #break"
   ]
  },
  {
   "cell_type": "code",
   "execution_count": null,
   "id": "529bf675-4d0c-4200-b80b-f8c4c4050b4d",
   "metadata": {
    "tags": []
   },
   "outputs": [],
   "source": [
    "mask.max(), img.max(), pseudo.max()"
   ]
  },
  {
   "cell_type": "code",
   "execution_count": null,
   "id": "d84c63b1-6a2c-4597-94bd-166d483bdfa8",
   "metadata": {
    "tags": []
   },
   "outputs": [],
   "source": [
    "r = Image.open('../input/predict/combined/largeintestine/28791.png')"
   ]
  },
  {
   "cell_type": "code",
   "execution_count": null,
   "id": "18bb8bde-143f-4ba1-846e-7121a2eb81b2",
   "metadata": {},
   "outputs": [],
   "source": []
  },
  {
   "cell_type": "code",
   "execution_count": null,
   "id": "0703d31d-46e9-420d-bd3e-3c7699e72a36",
   "metadata": {
    "tags": []
   },
   "outputs": [],
   "source": [
    "plt.figure(figsize=(10,10))\n",
    "plt.imshow(r)"
   ]
  },
  {
   "cell_type": "code",
   "execution_count": null,
   "id": "1633b8eb-70f2-4182-9f55-91cc20ffe084",
   "metadata": {},
   "outputs": [],
   "source": []
  },
  {
   "cell_type": "code",
   "execution_count": null,
   "id": "053f6e29-7567-47e5-b734-0b59a204791b",
   "metadata": {},
   "outputs": [],
   "source": []
  },
  {
   "cell_type": "code",
   "execution_count": null,
   "id": "1d627433-3e6f-4107-8446-f3022be89894",
   "metadata": {
    "tags": []
   },
   "outputs": [],
   "source": [
    "def get_dice(x, y, eps = 1e-6):                                        \n",
    "    intersection = (x * y).sum()\n",
    "    dice = ((2. * intersection + eps) / (x.sum() + y.sum() + eps))\n",
    "    return dice"
   ]
  },
  {
   "cell_type": "code",
   "execution_count": null,
   "id": "29f778fd-e77b-4d1f-9391-b39ec251cd12",
   "metadata": {
    "tags": []
   },
   "outputs": [],
   "source": [
    "a = Image.open('../input/preprocessed/rle1024/masks/10044.png')\n",
    "b = Image.open('../input/preprocessed/rle1024/masks/10274.png')\n",
    "aa = np.array(a)\n",
    "bb = np.array(b)"
   ]
  },
  {
   "cell_type": "code",
   "execution_count": null,
   "id": "a6a7982b-b052-4227-99f0-e2dc334c184d",
   "metadata": {
    "tags": []
   },
   "outputs": [],
   "source": [
    "get_dice(bb.flatten(), bb.flatten())"
   ]
  },
  {
   "cell_type": "code",
   "execution_count": null,
   "id": "b8fcd4ba-80aa-459a-b273-26f47c1152a3",
   "metadata": {
    "tags": []
   },
   "outputs": [],
   "source": [
    "# plt.figure()\n",
    "# plt.imshow(bb)"
   ]
  },
  {
   "cell_type": "code",
   "execution_count": null,
   "id": "1a0fa2ce-f968-4fd4-a492-ba5b4fb2b9cb",
   "metadata": {
    "tags": []
   },
   "outputs": [],
   "source": [
    "# plt.figure()\n",
    "# plt.imshow(aa)"
   ]
  },
  {
   "cell_type": "code",
   "execution_count": null,
   "id": "4c9a8161-ef24-4e54-96a8-c0e231e0045e",
   "metadata": {},
   "outputs": [],
   "source": []
  },
  {
   "cell_type": "code",
   "execution_count": null,
   "id": "042ecdc6-ba87-4192-91bb-676efc990c84",
   "metadata": {},
   "outputs": [],
   "source": []
  },
  {
   "cell_type": "code",
   "execution_count": null,
   "id": "f4dd3cab-c0eb-46e4-95df-d04aeb1b8e19",
   "metadata": {},
   "outputs": [],
   "source": []
  },
  {
   "cell_type": "code",
   "execution_count": null,
   "id": "1452619b-aef8-4151-b663-36b378fba449",
   "metadata": {},
   "outputs": [],
   "source": []
  },
  {
   "cell_type": "code",
   "execution_count": null,
   "id": "9416b90c-1bb3-4b12-9cbe-7676b6f5804d",
   "metadata": {
    "tags": []
   },
   "outputs": [],
   "source": [
    "pseudos = Path('../input/predict/pseudo_0/')\n",
    "# images = Path('../input/preprocessed/rle1024/images/')\n",
    "masks = Path('../input/preprocessed/rle1024/masks/')\n",
    "# dst = Path('../input/predict/combined/')\n",
    "\n",
    "df = pd.read_csv(str(images_root / 'train.csv'))\n",
    "dices = defaultdict(list)\n",
    "\n",
    "for i,row in tqdm(df.iterrows()):\n",
    "    idx = row.id\n",
    "    try:\n",
    "        mask = np.array(Image.open(masks / f\"{idx}.png\"))\n",
    "        pseudo = np.array(Image.open(pseudos / f\"{idx}.png\"))[...,0] # rgb for some reason\n",
    "    except FileNotFoundError:\n",
    "        continue\n",
    "    mask = mask[128:-128, 128:-128]\n",
    "    pseudo = pseudo[128:-128, 128:-128]\n",
    "    x = pseudo.flatten() / 255. > .5\n",
    "    y = mask.flatten() > .5\n",
    "    \n",
    "    dice = get_dice(x, y)\n",
    "    dices[row.organ].append((dice, idx))\n",
    "    #break"
   ]
  },
  {
   "cell_type": "code",
   "execution_count": null,
   "id": "d2873fa8-33d5-4283-bcb3-fbc3e41d072e",
   "metadata": {
    "tags": []
   },
   "outputs": [],
   "source": [
    "total = 0\n",
    "cnt = 0\n",
    "for k, v in dices.items():\n",
    "    if not v:\n",
    "        continue\n",
    "    cnt += len(v)\n",
    "    dd = [i[0] for i in v]\n",
    "    idxs = [i[1] for i in v]\n",
    "    print(f\"{k:15} {np.mean(dd):.3f}, {np.std(dd):.3f}\")\n",
    "    total += np.mean(dd)\n",
    "total /= 5"
   ]
  },
  {
   "cell_type": "code",
   "execution_count": null,
   "id": "82bc5d50-8887-483c-837b-9d543d058483",
   "metadata": {
    "tags": []
   },
   "outputs": [],
   "source": [
    "cnt"
   ]
  },
  {
   "cell_type": "code",
   "execution_count": null,
   "id": "e639b70a-5f49-4f14-9048-47500b2cd07a",
   "metadata": {},
   "outputs": [],
   "source": []
  },
  {
   "cell_type": "code",
   "execution_count": null,
   "id": "13cc2975-612e-4c78-bddf-c6872d99398b",
   "metadata": {
    "tags": []
   },
   "outputs": [],
   "source": [
    "plt.figure()\n",
    "plt.imshow(np.array(Image.open('../input/preprocessed/tiff1024/images/5102.tiff'))*255)"
   ]
  },
  {
   "cell_type": "code",
   "execution_count": null,
   "id": "c405fa61-4c93-4b37-bb4b-0b8a58a19a00",
   "metadata": {
    "tags": []
   },
   "outputs": [],
   "source": [
    "Image.open('../input/preprocessed/rle1024//images/5102.png')"
   ]
  },
  {
   "cell_type": "code",
   "execution_count": null,
   "id": "411286d3-932f-451a-afaf-f822ade4bd50",
   "metadata": {
    "tags": []
   },
   "outputs": [],
   "source": [
    "Image.open('../input/predict/pseudo_single_notta/5102.png')"
   ]
  },
  {
   "cell_type": "code",
   "execution_count": null,
   "id": "2517ed62-3746-4b5c-873e-1465b23f099c",
   "metadata": {},
   "outputs": [],
   "source": []
  },
  {
   "cell_type": "code",
   "execution_count": null,
   "id": "038d35d5-10cc-4dea-836e-ee3a90ec0341",
   "metadata": {},
   "outputs": [],
   "source": []
  },
  {
   "cell_type": "markdown",
   "id": "4e8127a8-f316-4d47-a50d-890291cdd411",
   "metadata": {},
   "source": [
    "prostate        0.769, 0.205\n",
    "spleen          0.701, 0.257\n",
    "lung            0.269, 0.258\n",
    "kidney          0.916, 0.108\n",
    "largeintestine  0.880, 0.107\n",
    "\n",
    "0.7069703251310566"
   ]
  },
  {
   "cell_type": "code",
   "execution_count": null,
   "id": "abe0f936-3b7b-4f79-bd28-df72f31b5d58",
   "metadata": {
    "tags": []
   },
   "outputs": [],
   "source": [
    "total"
   ]
  },
  {
   "cell_type": "code",
   "execution_count": null,
   "id": "08b99027-143b-4ef0-95aa-fd47e4512889",
   "metadata": {},
   "outputs": [],
   "source": []
  },
  {
   "cell_type": "code",
   "execution_count": null,
   "id": "a2e4e8bd-e037-46d8-b671-9f75b6a54997",
   "metadata": {
    "tags": []
   },
   "outputs": [],
   "source": [
    "k = 'kidney'\n",
    "v = dices[k]\n",
    "dd = [i[0] for i in v]\n",
    "idxs = [i[1] for i in v]\n",
    "si = np.argsort(dd)    "
   ]
  },
  {
   "cell_type": "code",
   "execution_count": null,
   "id": "f43ba125-1a8a-4eef-9068-4dc442a8fcfc",
   "metadata": {
    "tags": []
   },
   "outputs": [],
   "source": [
    "j=2\n",
    "dd[si[j]], idxs[si[j]]"
   ]
  },
  {
   "cell_type": "code",
   "execution_count": null,
   "id": "b28acb3d-0bed-408c-b32d-5de3ba7e289a",
   "metadata": {
    "tags": []
   },
   "outputs": [],
   "source": [
    "plt.figure()\n",
    "plt.plot(dd)"
   ]
  },
  {
   "cell_type": "code",
   "execution_count": null,
   "id": "d74c4522-ff8f-415e-8844-bf9d6cc80cc3",
   "metadata": {},
   "outputs": [],
   "source": []
  },
  {
   "cell_type": "code",
   "execution_count": null,
   "id": "4cd1bbd9-d188-4344-b060-d8c83fd2a41b",
   "metadata": {},
   "outputs": [],
   "source": []
  },
  {
   "cell_type": "code",
   "execution_count": null,
   "id": "eedc06fb-cdab-430d-a04f-acf50557d0e1",
   "metadata": {},
   "outputs": [],
   "source": []
  },
  {
   "cell_type": "code",
   "execution_count": null,
   "id": "20a31ec7-7a35-4e01-a0c4-b79f7916fabc",
   "metadata": {
    "tags": []
   },
   "outputs": [],
   "source": []
  },
  {
   "cell_type": "code",
   "execution_count": null,
   "id": "6d5766c8-edcb-4a6e-a03c-43cccc25b8b0",
   "metadata": {},
   "outputs": [],
   "source": []
  },
  {
   "cell_type": "code",
   "execution_count": null,
   "id": "52464b0e-2050-441d-82a9-ecea452e91e4",
   "metadata": {},
   "outputs": [],
   "source": []
  },
  {
   "cell_type": "code",
   "execution_count": null,
   "id": "38f60ff6-eeb5-42a7-bff0-e9f7257ec54b",
   "metadata": {},
   "outputs": [],
   "source": []
  },
  {
   "cell_type": "code",
   "execution_count": null,
   "id": "a4a69eab-0993-4cfb-b48f-43d95e874846",
   "metadata": {},
   "outputs": [],
   "source": []
  }
 ],
 "metadata": {
  "kernelspec": {
   "display_name": "Python 3 (ipykernel)",
   "language": "python",
   "name": "python3"
  },
  "language_info": {
   "codemirror_mode": {
    "name": "ipython",
    "version": 3
   },
   "file_extension": ".py",
   "mimetype": "text/x-python",
   "name": "python",
   "nbconvert_exporter": "python",
   "pygments_lexer": "ipython3",
   "version": "3.8.10"
  }
 },
 "nbformat": 4,
 "nbformat_minor": 5
}
