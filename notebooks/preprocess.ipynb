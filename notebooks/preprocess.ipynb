{
 "cells": [
  {
   "cell_type": "code",
   "execution_count": null,
   "id": "fe43da2b-d43e-4097-8db0-6675b1b28a1b",
   "metadata": {},
   "outputs": [],
   "source": [
    "%load_ext autoreload\n",
    "%autoreload 2"
   ]
  },
  {
   "cell_type": "code",
   "execution_count": null,
   "id": "e2e0693c-e245-45ec-9afb-819dd1ea33e9",
   "metadata": {},
   "outputs": [],
   "source": [
    "import sys\n",
    "import os\n",
    "os.chdir('..')\n",
    "sys.path.append('src')"
   ]
  },
  {
   "cell_type": "code",
   "execution_count": null,
   "id": "d8165603-cb95-4f92-8adf-e0d7d0b95c03",
   "metadata": {},
   "outputs": [],
   "source": [
    "from rasterio.features import rasterize"
   ]
  },
  {
   "cell_type": "code",
   "execution_count": null,
   "id": "90123ce5-a899-4dab-b710-43c7691c0917",
   "metadata": {},
   "outputs": [],
   "source": [
    "import rasterio\n",
    "import torch\n",
    "import numpy as np\n",
    "from pathlib import Path\n",
    "import pandas as pd\n",
    "import torchvision\n",
    "from dataclasses import dataclass\n",
    "from omegaconf import OmegaConf\n",
    "from tqdm import tqdm\n",
    "import cv2\n",
    "from PIL import Image\n",
    "import matplotlib.pyplot as plt\n",
    "%matplotlib widget \n",
    "\n",
    "from data import read_ann, convert_ann"
   ]
  },
  {
   "cell_type": "code",
   "execution_count": null,
   "id": "0932c799-5ced-4325-b4a3-cfc1ac6ad06e",
   "metadata": {},
   "outputs": [],
   "source": [
    "def start_points(size, split_size, overlap=0):\n",
    "    points = [0]\n",
    "    stride = int(split_size * (1-overlap))\n",
    "    counter = 1\n",
    "    while True:\n",
    "        pt = stride * counter\n",
    "        if pt + split_size >= size:\n",
    "            points.append(size - split_size)\n",
    "            break\n",
    "        else:\n",
    "            points.append(pt)\n",
    "        counter += 1\n",
    "    return points\n",
    "\n",
    "\n",
    "\n",
    "def splitter(img, crop_w, crop_h):    \n",
    "    img_h, img_w, *_ = img.shape\n",
    "    X_points = start_points(img_w, crop_w, 0.5)\n",
    "    Y_points = start_points(img_h, crop_h, 0.5)\n",
    "    \n",
    "    for i in Y_points:\n",
    "        for j in X_points:\n",
    "            split = img[i:i+crop_h, j:j+crop_w]\n",
    "            #cv2.imwrite('{}_{}.{}'.format(name, count, frmt), split)\n",
    "            yield split, j, i, crop_h, crop_w"
   ]
  },
  {
   "cell_type": "code",
   "execution_count": null,
   "id": "2c17c99a-90a5-4fdd-98c9-85f51fcd7281",
   "metadata": {},
   "outputs": [],
   "source": [
    "df = pd.read_csv('input/hmib/train.csv')"
   ]
  },
  {
   "cell_type": "code",
   "execution_count": null,
   "id": "bf7da415-4718-41fd-a8d8-1e87b1fa8d65",
   "metadata": {
    "tags": []
   },
   "outputs": [],
   "source": [
    "imgs_path = Path('input/hmib/train_images/')\n",
    "ann_path = Path('input/hmib/train_annotations/')\n",
    "dst = Path('input/preprocessed/test')\n",
    "dst.mkdir()\n",
    "(dst / 'images').mkdir()\n",
    "(dst / 'masks').mkdir()"
   ]
  },
  {
   "cell_type": "code",
   "execution_count": null,
   "id": "d90410be-c492-4f66-a920-15a0bc8eb780",
   "metadata": {
    "tags": []
   },
   "outputs": [],
   "source": [
    "#tdf = df[df.organ == 'spleen']\n",
    "tdf = df"
   ]
  },
  {
   "cell_type": "code",
   "execution_count": null,
   "id": "35f0d3f5-e990-454c-9be9-5c405576a1d4",
   "metadata": {
    "tags": []
   },
   "outputs": [],
   "source": [
    "H, W = 1024, 1024\n",
    "ch, cw = 512,512\n",
    "imgs = []\n",
    "masks = []\n",
    "for i,row in tqdm(tdf.iterrows(), total=len(tdf)):\n",
    "    #if i < 10:\n",
    "    #    continue\n",
    "    #break\n",
    "    f = imgs_path / str(row['id'])\n",
    "    f = f.with_suffix('.tiff')\n",
    "    fd = rasterio.open(f)\n",
    "    a = fd.read().transpose(1,2,0)\n",
    "    fd.close()\n",
    "    h,w,c = a.shape\n",
    "    ar = cv2.resize(a, (W, H))\n",
    "    ar = ar.astype(np.uint8)\n",
    "    name = f.with_suffix('.png').name\n",
    "    \n",
    "    ss = splitter(ar, ch, cw)\n",
    "    name, ext = name.split('.')\n",
    "    for ii, (s,*_) in enumerate(ss):\n",
    "        fixname = f'{name}_{ii}.{ext}'\n",
    "        cv2.imwrite(str(dst / 'images' / fixname), s)\n",
    "    \n",
    "    #cv2.imwrite(str(dst / 'images' / name), ar)\n",
    "    \n",
    "    annf = (ann_path / f.name).with_suffix('.json')\n",
    "    data = read_ann(annf)\n",
    "    poly = convert_ann(data)\n",
    "    mask = rasterize([poly], out_shape=(h,w))\n",
    "    mask = cv2.resize(mask, (W,H))\n",
    "    \n",
    "    ss = splitter(mask, ch, cw)\n",
    "    #name, ext = name.split('.')\n",
    "    for ii,  (s,*_) in enumerate(ss):\n",
    "        fixname = f'{name}_{ii}.{ext}'\n",
    "        cv2.imwrite(str(dst / 'masks' / fixname), s)\n",
    "    \n",
    "    #cv2.imwrite(str(dst / 'masks' / name), mask)\n",
    "    \n",
    "    \n",
    "    # masks.append(mask)\n",
    "    # imgs.append(ar)\n",
    "    break"
   ]
  },
  {
   "cell_type": "code",
   "execution_count": null,
   "id": "baf16509-0b20-48a2-a8e9-64fa47e89b09",
   "metadata": {},
   "outputs": [],
   "source": []
  },
  {
   "cell_type": "code",
   "execution_count": null,
   "id": "2bad88ba-68a7-4e5c-8eb9-5a8d965f0388",
   "metadata": {},
   "outputs": [],
   "source": []
  },
  {
   "cell_type": "code",
   "execution_count": null,
   "id": "74d656f0-edc5-44d6-a23d-b1b6181e609f",
   "metadata": {},
   "outputs": [],
   "source": []
  }
 ],
 "metadata": {
  "kernelspec": {
   "display_name": "Python 3 (ipykernel)",
   "language": "python",
   "name": "python3"
  },
  "language_info": {
   "codemirror_mode": {
    "name": "ipython",
    "version": 3
   },
   "file_extension": ".py",
   "mimetype": "text/x-python",
   "name": "python",
   "nbconvert_exporter": "python",
   "pygments_lexer": "ipython3",
   "version": "3.7.11"
  }
 },
 "nbformat": 4,
 "nbformat_minor": 5
}
