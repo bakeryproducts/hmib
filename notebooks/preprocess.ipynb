{
 "cells": [
  {
   "cell_type": "code",
   "execution_count": null,
   "id": "fe43da2b-d43e-4097-8db0-6675b1b28a1b",
   "metadata": {
    "tags": []
   },
   "outputs": [],
   "source": [
    "%load_ext autoreload\n",
    "%autoreload 2"
   ]
  },
  {
   "cell_type": "code",
   "execution_count": null,
   "id": "e2e0693c-e245-45ec-9afb-819dd1ea33e9",
   "metadata": {
    "tags": []
   },
   "outputs": [],
   "source": [
    "import sys\n",
    "import os\n",
    "os.chdir('..')\n",
    "sys.path.append('src')"
   ]
  },
  {
   "cell_type": "code",
   "execution_count": null,
   "id": "d8165603-cb95-4f92-8adf-e0d7d0b95c03",
   "metadata": {
    "tags": []
   },
   "outputs": [],
   "source": [
    "from rasterio.features import rasterize"
   ]
  },
  {
   "cell_type": "code",
   "execution_count": null,
   "id": "90123ce5-a899-4dab-b710-43c7691c0917",
   "metadata": {
    "tags": []
   },
   "outputs": [],
   "source": [
    "import rasterio\n",
    "import torch\n",
    "import numpy as np\n",
    "from pathlib import Path\n",
    "import pandas as pd\n",
    "import torchvision\n",
    "from dataclasses import dataclass\n",
    "from omegaconf import OmegaConf\n",
    "from tqdm import tqdm\n",
    "import cv2\n",
    "from PIL import Image\n",
    "import matplotlib.pyplot as plt\n",
    "%matplotlib widget \n",
    "\n",
    "from data import read_ann, convert_ann"
   ]
  },
  {
   "cell_type": "code",
   "execution_count": null,
   "id": "0932c799-5ced-4325-b4a3-cfc1ac6ad06e",
   "metadata": {
    "tags": []
   },
   "outputs": [],
   "source": [
    "def start_points(size, split_size, overlap=0):\n",
    "    points = [0]\n",
    "    stride = int(split_size * (1-overlap))\n",
    "    counter = 1\n",
    "    while True:\n",
    "        pt = stride * counter\n",
    "        if pt + split_size >= size:\n",
    "            points.append(size - split_size)\n",
    "            break\n",
    "        else:\n",
    "            points.append(pt)\n",
    "        counter += 1\n",
    "    return points\n",
    "\n",
    "\n",
    "\n",
    "def splitter(img, crop_w, crop_h):    \n",
    "    img_h, img_w, *_ = img.shape\n",
    "    X_points = start_points(img_w, crop_w, 0.5)\n",
    "    Y_points = start_points(img_h, crop_h, 0.5)\n",
    "    \n",
    "    for i in Y_points:\n",
    "        for j in X_points:\n",
    "            split = img[i:i+crop_h, j:j+crop_w]\n",
    "            #cv2.imwrite('{}_{}.{}'.format(name, count, frmt), split)\n",
    "            yield split, j, i, crop_h, crop_w"
   ]
  },
  {
   "cell_type": "code",
   "execution_count": null,
   "id": "2c17c99a-90a5-4fdd-98c9-85f51fcd7281",
   "metadata": {
    "tags": []
   },
   "outputs": [],
   "source": [
    "df = pd.read_csv('input/hmib/train.csv')"
   ]
  },
  {
   "cell_type": "code",
   "execution_count": null,
   "id": "bf7da415-4718-41fd-a8d8-1e87b1fa8d65",
   "metadata": {
    "tags": []
   },
   "outputs": [],
   "source": [
    "imgs_path = Path('input/hmib/train_images/')\n",
    "ann_path = Path('input/hmib/train_annotations/')\n",
    "dst = Path('input/preprocessed/test')\n",
    "dst.mkdir()\n",
    "(dst / 'images').mkdir()\n",
    "(dst / 'masks').mkdir()"
   ]
  },
  {
   "cell_type": "code",
   "execution_count": null,
   "id": "d90410be-c492-4f66-a920-15a0bc8eb780",
   "metadata": {
    "tags": []
   },
   "outputs": [],
   "source": [
    "#tdf = df[df.organ == 'spleen']\n",
    "tdf = df"
   ]
  },
  {
   "cell_type": "code",
   "execution_count": null,
   "id": "35f0d3f5-e990-454c-9be9-5c405576a1d4",
   "metadata": {
    "tags": []
   },
   "outputs": [],
   "source": [
    "H, W = 1024, 1024\n",
    "ch, cw = 512,512\n",
    "imgs = []\n",
    "masks = []\n",
    "for i,row in tqdm(tdf.iterrows(), total=len(tdf)):\n",
    "    #if i < 10:\n",
    "    #    continue\n",
    "    #break\n",
    "    f = imgs_path / str(row['id'])\n",
    "    f = f.with_suffix('.tiff')\n",
    "    fd = rasterio.open(f)\n",
    "    a = fd.read().transpose(1,2,0)\n",
    "    fd.close()\n",
    "    h,w,c = a.shape\n",
    "    ar = cv2.resize(a, (W, H))\n",
    "    ar = ar.astype(np.uint8)\n",
    "    name = f.with_suffix('.png').name\n",
    "    \n",
    "    ss = splitter(ar, ch, cw)\n",
    "    name, ext = name.split('.')\n",
    "    for ii, (s,*_) in enumerate(ss):\n",
    "        fixname = f'{name}_{ii}.{ext}'\n",
    "        cv2.imwrite(str(dst / 'images' / fixname), s)\n",
    "    \n",
    "    #cv2.imwrite(str(dst / 'images' / name), ar)\n",
    "    \n",
    "    annf = (ann_path / f.name).with_suffix('.json')\n",
    "    data = read_ann(annf)\n",
    "    poly = convert_ann(data, fixer=fix_single_poly)\n",
    "    mask = rasterize([poly], out_shape=(h,w))\n",
    "    mask = cv2.resize(mask, (W,H))\n",
    "    \n",
    "    ss = splitter(mask, ch, cw)\n",
    "    #name, ext = name.split('.')\n",
    "    for ii,  (s,*_) in enumerate(ss):\n",
    "        fixname = f'{name}_{ii}.{ext}'\n",
    "        cv2.imwrite(str(dst / 'masks' / fixname), s)\n",
    "    \n",
    "    #cv2.imwrite(str(dst / 'masks' / name), mask)\n",
    "    \n",
    "    \n",
    "    # masks.append(mask)\n",
    "    # imgs.append(ar)\n",
    "    break"
   ]
  },
  {
   "cell_type": "code",
   "execution_count": null,
   "id": "baf16509-0b20-48a2-a8e9-64fa47e89b09",
   "metadata": {},
   "outputs": [],
   "source": []
  },
  {
   "cell_type": "code",
   "execution_count": null,
   "id": "8482723b-92db-4e28-8dd5-bdae6d60a344",
   "metadata": {},
   "outputs": [],
   "source": []
  },
  {
   "cell_type": "code",
   "execution_count": null,
   "id": "97fc17b8-2c96-4809-b8b8-b92fe78de554",
   "metadata": {
    "tags": []
   },
   "outputs": [],
   "source": [
    "\n",
    "from collections import defaultdict\n",
    "\n",
    "from shapely.geometry import Polygon, MultiPolygon"
   ]
  },
  {
   "cell_type": "code",
   "execution_count": null,
   "id": "1878f3d1-6369-47e3-a6c0-6488aca28375",
   "metadata": {
    "tags": []
   },
   "outputs": [],
   "source": [
    "tdf = df\n",
    "imgs_path = Path('input/hmib/train_images/')\n",
    "ann_path = Path('input/hmib/train_annotations/')\n"
   ]
  },
  {
   "cell_type": "code",
   "execution_count": null,
   "id": "b19ec658-7e5a-47d4-929e-da69486da781",
   "metadata": {
    "tags": []
   },
   "outputs": [],
   "source": [
    "class BadPoly(Exception):pass\n",
    "\n",
    "def fix_single_poly(d):\n",
    "    d = np.array(d)\n",
    "    dd = d.copy()\n",
    "    p = Polygon(dd)\n",
    "    try:\n",
    "        if p.area < 1:\n",
    "            return None\n",
    "    except:\n",
    "        pass\n",
    "\n",
    "    if not p.is_valid:\n",
    "        #print(f'{ii} not valid poly')\n",
    "        broken[row.organ].append(i)\n",
    "        cnt = 0\n",
    "        while not p.is_valid:\n",
    "            d = d[:-1]\n",
    "            cnt += 1\n",
    "            p = Polygon(d)#.buffer(0)\n",
    "            if cnt == 10:\n",
    "                p = p.buffer(0)\n",
    "            elif cnt > 10:\n",
    "                raise Exception\n",
    "\n",
    "            #elif cnt > 20:\n",
    "\n",
    "    if isinstance(p, MultiPolygon):\n",
    "        areas = [i.area for i in p]\n",
    "        idx = np.argmax(areas)\n",
    "        p = p[idx]\n",
    "    return p"
   ]
  },
  {
   "cell_type": "code",
   "execution_count": null,
   "id": "f12ac7ca-ecb8-4d95-a629-869ae817cc91",
   "metadata": {},
   "outputs": [],
   "source": []
  },
  {
   "cell_type": "code",
   "execution_count": null,
   "id": "730da7af-a87c-486e-bbd4-3cfb4e7a1695",
   "metadata": {
    "tags": []
   },
   "outputs": [],
   "source": [
    "broken = defaultdict(list)\n",
    "total = defaultdict(int)\n",
    "polys = defaultdict(list)\n",
    "\n",
    "for i,row in tqdm(tdf.iterrows(), total=len(tdf)):\n",
    "    # if i < 2:\n",
    "    #     continue\n",
    "    f = imgs_path / str(row['id'])\n",
    "    f = f.with_suffix('.tiff')\n",
    "    fd = rasterio.open(f)\n",
    "    h,w = fd.shape\n",
    "    fd.close()\n",
    "    \n",
    "    annf = (ann_path / f.name).with_suffix('.json')\n",
    "    data = read_ann(annf)\n",
    "    #poly = convert_ann(data, buffer=5)\n",
    "    total[row.organ] += len(data)\n",
    "    uni = None\n",
    "    buffer = 0\n",
    "    \n",
    "    for ii, d in enumerate(data):\n",
    "        # if i == 22 and ii == 17:\n",
    "        #     d = d[:-4]\n",
    "        # elif i == 23 and ii == 16:\n",
    "        #     d = d[:-1]\n",
    "        #     d = d[1:]\n",
    "        # elif i == 23 and ii == 69:\n",
    "        #     d = d[:-2]\n",
    "        #     d = d[1:]\n",
    "        # elif i == 40 and ii == 6:\n",
    "        #     d = d[:-2]\n",
    "        # elif i == 45 and ii == 12:\n",
    "        #     d = d[:-6]\n",
    "        # elif i == 45 and ii == 17:\n",
    "        #     d = d[:-5]\n",
    "        # elif i == 45 and ii == 55:\n",
    "        #     d = d[:-4]\n",
    "        #     d = d[3:]\n",
    "        # elif i == 0 and ii == 0:\n",
    "        #     d = d[:-4]\n",
    "        #     d = d[2:]\n",
    "        # elif i == 3 and ii == 0:\n",
    "        #     d = d[:-3]\n",
    "        # elif i == 7 and ii == 0:\n",
    "        #     d = d[:-3]\n",
    "        # elif i == 7 and ii == 3:\n",
    "        #     d = d[:-8]\n",
    "        # elif i == 9 and ii == 8:\n",
    "        #     d = d[:-4]\n",
    "        # elif i == 9 and ii == 40:\n",
    "        #     d = d[:-5]\n",
    "        # elif i == 10 and ii == 4:\n",
    "        #     d = d[:-7]\n",
    "        # elif i == 16 and ii == 5:\n",
    "        #     d = d[:-5]\n",
    "        # elif i == 20 and ii == 5:\n",
    "        #     d = d[:-6]\n",
    "        \n",
    "        p = fix_single_poly(d)\n",
    "        if p is None:\n",
    "            print('bad poly')\n",
    "            continue\n",
    "        assert type(p) == Polygon\n",
    "        assert p.area > 1e-3\n",
    "        polys[row.organ].append(p)\n",
    "    \n",
    "    # mask = rasterize([uni], out_shape=(h,w))\n",
    "    # break"
   ]
  },
  {
   "cell_type": "code",
   "execution_count": null,
   "id": "8cf7ec53-983e-4716-89a1-f032d9ba3d6d",
   "metadata": {
    "tags": []
   },
   "outputs": [],
   "source": [
    "i, ii"
   ]
  },
  {
   "cell_type": "code",
   "execution_count": null,
   "id": "63ccd85a-0224-4c41-ae88-762df13a16a8",
   "metadata": {
    "tags": []
   },
   "outputs": [],
   "source": [
    "# dd = d.copy()\n",
    "# dd = dd#[:-1]\n",
    "# dd = dd[0:]"
   ]
  },
  {
   "cell_type": "code",
   "execution_count": null,
   "id": "65dc5034-8d6c-42ee-a665-053f7a3cb431",
   "metadata": {
    "tags": []
   },
   "outputs": [],
   "source": [
    "pp = Polygon(dd)#.buffer(0)"
   ]
  },
  {
   "cell_type": "code",
   "execution_count": null,
   "id": "131dc29c-497d-40d8-9164-3602646ab119",
   "metadata": {
    "tags": []
   },
   "outputs": [],
   "source": [
    "pp.area > 1e-3"
   ]
  },
  {
   "cell_type": "code",
   "execution_count": null,
   "id": "5e3f0393-7487-44b5-a1b6-93e4fef9c3d0",
   "metadata": {
    "tags": []
   },
   "outputs": [],
   "source": [
    "pp#.buffer(0)"
   ]
  },
  {
   "cell_type": "code",
   "execution_count": null,
   "id": "7f6697ab-f1ba-47f7-b99f-d201f68f5b7c",
   "metadata": {
    "tags": []
   },
   "outputs": [],
   "source": []
  },
  {
   "cell_type": "code",
   "execution_count": null,
   "id": "e0ed0e2d-1f74-4288-b8c2-c93015f58e31",
   "metadata": {
    "tags": []
   },
   "outputs": [],
   "source": [
    "plt.figure()\n",
    "plt.plot(d[:,0], d[:,1])\n",
    "plt.plot(dd[:,0], dd[:,1])"
   ]
  },
  {
   "cell_type": "code",
   "execution_count": null,
   "id": "a83de245-8c84-400f-b15f-01c9a3e760ae",
   "metadata": {},
   "outputs": [],
   "source": []
  },
  {
   "cell_type": "code",
   "execution_count": null,
   "id": "16110221-479a-4030-b625-0a952b566121",
   "metadata": {
    "tags": []
   },
   "outputs": [],
   "source": []
  },
  {
   "cell_type": "code",
   "execution_count": null,
   "id": "d8506f5c-3960-4e7a-8253-4ca1dc0186f5",
   "metadata": {
    "tags": []
   },
   "outputs": [],
   "source": []
  },
  {
   "cell_type": "code",
   "execution_count": null,
   "id": "4fa04e73-257b-44ea-abe6-d82bfc02d3ef",
   "metadata": {},
   "outputs": [],
   "source": [
    "type(p)"
   ]
  },
  {
   "cell_type": "code",
   "execution_count": null,
   "id": "c6c5da4a-a148-460e-bc0d-b0156f545936",
   "metadata": {
    "tags": []
   },
   "outputs": [],
   "source": [
    "p.is_valid"
   ]
  },
  {
   "cell_type": "code",
   "execution_count": null,
   "id": "e8c04a8b-82b2-42bd-a025-a10d0ae59995",
   "metadata": {},
   "outputs": [],
   "source": [
    "p.area"
   ]
  },
  {
   "cell_type": "code",
   "execution_count": null,
   "id": "df37b1d7-6669-49e2-8427-05e887573b8d",
   "metadata": {},
   "outputs": [],
   "source": []
  },
  {
   "cell_type": "code",
   "execution_count": null,
   "id": "717b67c1-60d6-4943-ba54-a2807410b596",
   "metadata": {
    "tags": []
   },
   "outputs": [],
   "source": [
    "plt.figure()\n",
    "for k,v in polys.items():\n",
    "    print(k, len(v), total[k], len(v)/total[k])\n",
    "    pp = polys[k]\n",
    "    nums = []\n",
    "    for p in pp:\n",
    "        nums.append(len(p.exterior.xy[0]))\n",
    "    nums = np.array(nums)\n",
    "    print(f'\\t {nums.mean(), nums.std()}')\n",
    "    \n",
    "    plt.hist(nums.clip(0,800), bins=50, alpha=.5)"
   ]
  },
  {
   "cell_type": "code",
   "execution_count": null,
   "id": "7190a5c3-5c0f-4348-8d2b-ee57eff941f2",
   "metadata": {},
   "outputs": [],
   "source": []
  },
  {
   "cell_type": "code",
   "execution_count": null,
   "id": "9f4dfc07-8c16-49da-ab5d-da9a23001e2f",
   "metadata": {
    "tags": []
   },
   "outputs": [],
   "source": [
    "pp"
   ]
  },
  {
   "cell_type": "code",
   "execution_count": null,
   "id": "151e9d32-41ca-4d40-903a-26e992640bea",
   "metadata": {},
   "outputs": [],
   "source": []
  },
  {
   "cell_type": "code",
   "execution_count": null,
   "id": "07196c3b-e367-42bd-9dfe-2170acb4efa8",
   "metadata": {},
   "outputs": [],
   "source": []
  },
  {
   "cell_type": "code",
   "execution_count": null,
   "id": "3314c625-722e-41fa-919c-77c77f4eaf88",
   "metadata": {
    "tags": []
   },
   "outputs": [],
   "source": [
    "uni"
   ]
  },
  {
   "cell_type": "code",
   "execution_count": null,
   "id": "a8dbd64d-ded5-4682-b902-cce48a7250f7",
   "metadata": {
    "tags": []
   },
   "outputs": [],
   "source": [
    "rp.buffer(1).area / rp.buffer(0).area"
   ]
  },
  {
   "cell_type": "code",
   "execution_count": null,
   "id": "a5bca363-b83b-4275-9ddd-7310facbd31b",
   "metadata": {
    "tags": []
   },
   "outputs": [],
   "source": [
    "for p in poly:\n",
    "    print(p)"
   ]
  },
  {
   "cell_type": "code",
   "execution_count": null,
   "id": "8d4ab7c2-d37a-4342-8581-62a9f2304252",
   "metadata": {
    "tags": []
   },
   "outputs": [],
   "source": [
    "poly"
   ]
  },
  {
   "cell_type": "code",
   "execution_count": null,
   "id": "8ce61881-21c6-4a57-b765-0eb564fecea1",
   "metadata": {},
   "outputs": [],
   "source": []
  },
  {
   "cell_type": "code",
   "execution_count": null,
   "id": "987460ff-9a0e-4113-aefb-53c609657b49",
   "metadata": {},
   "outputs": [],
   "source": []
  },
  {
   "cell_type": "code",
   "execution_count": null,
   "id": "212127e3-be0e-42ca-97f1-2c292f44d151",
   "metadata": {},
   "outputs": [],
   "source": []
  },
  {
   "cell_type": "code",
   "execution_count": null,
   "id": "2bad88ba-68a7-4e5c-8eb9-5a8d965f0388",
   "metadata": {},
   "outputs": [],
   "source": []
  },
  {
   "cell_type": "code",
   "execution_count": null,
   "id": "74d656f0-edc5-44d6-a23d-b1b6181e609f",
   "metadata": {},
   "outputs": [],
   "source": []
  }
 ],
 "metadata": {
  "kernelspec": {
   "display_name": "Python 3 (ipykernel)",
   "language": "python",
   "name": "python3"
  },
  "language_info": {
   "codemirror_mode": {
    "name": "ipython",
    "version": 3
   },
   "file_extension": ".py",
   "mimetype": "text/x-python",
   "name": "python",
   "nbconvert_exporter": "python",
   "pygments_lexer": "ipython3",
   "version": "3.7.11"
  }
 },
 "nbformat": 4,
 "nbformat_minor": 5
}
