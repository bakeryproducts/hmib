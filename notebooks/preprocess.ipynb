{
 "cells": [
  {
   "cell_type": "code",
   "execution_count": null,
   "id": "e1402f5a-02ee-43c4-912d-93187856b844",
   "metadata": {
    "tags": []
   },
   "outputs": [],
   "source": [
    "import numpy as np\n",
    "\n",
    "import matplotlib.pyplot as plt\n",
    "%matplotlib widget \n"
   ]
  },
  {
   "cell_type": "code",
   "execution_count": null,
   "id": "6decd9d0-ada5-4e58-ac29-eeff8a82ca0e",
   "metadata": {
    "tags": []
   },
   "outputs": [],
   "source": [
    "# plt.figure()\n",
    "# plt.imshow(np.eye(3))"
   ]
  },
  {
   "cell_type": "code",
   "execution_count": null,
   "id": "fe43da2b-d43e-4097-8db0-6675b1b28a1b",
   "metadata": {
    "tags": []
   },
   "outputs": [],
   "source": [
    "%load_ext autoreload\n",
    "%autoreload 2"
   ]
  },
  {
   "cell_type": "code",
   "execution_count": null,
   "id": "e2e0693c-e245-45ec-9afb-819dd1ea33e9",
   "metadata": {
    "tags": []
   },
   "outputs": [],
   "source": [
    "import sys\n",
    "import os\n",
    "os.chdir('..')\n",
    "sys.path.append('src')"
   ]
  },
  {
   "cell_type": "code",
   "execution_count": null,
   "id": "d8165603-cb95-4f92-8adf-e0d7d0b95c03",
   "metadata": {
    "tags": []
   },
   "outputs": [],
   "source": [
    "from rasterio.features import rasterize"
   ]
  },
  {
   "cell_type": "code",
   "execution_count": null,
   "id": "90123ce5-a899-4dab-b710-43c7691c0917",
   "metadata": {
    "tags": []
   },
   "outputs": [],
   "source": [
    "import rasterio\n",
    "import torch\n",
    "import numpy as np\n",
    "from pathlib import Path\n",
    "import pandas as pd\n",
    "import torchvision\n",
    "from dataclasses import dataclass\n",
    "from omegaconf import OmegaConf\n",
    "from tqdm import tqdm\n",
    "import cv2\n",
    "from PIL import Image\n",
    "\n",
    "from collections import defaultdict\n",
    "from shapely.geometry import Polygon, MultiPolygon\n",
    "\n",
    "from data import read_ann, convert_ann"
   ]
  },
  {
   "cell_type": "code",
   "execution_count": null,
   "id": "0932c799-5ced-4325-b4a3-cfc1ac6ad06e",
   "metadata": {
    "tags": []
   },
   "outputs": [],
   "source": [
    "def start_points(size, split_size, overlap=0):\n",
    "    points = [0]\n",
    "    stride = int(split_size * (1-overlap))\n",
    "    counter = 1\n",
    "    while True:\n",
    "        pt = stride * counter\n",
    "        if pt + split_size >= size:\n",
    "            points.append(size - split_size)\n",
    "            break\n",
    "        else:\n",
    "            points.append(pt)\n",
    "        counter += 1\n",
    "    return points\n",
    "\n",
    "\n",
    "\n",
    "def splitter(img, crop_w, crop_h):    \n",
    "    img_h, img_w, *_ = img.shape\n",
    "    X_points = start_points(img_w, crop_w, 0.5)\n",
    "    Y_points = start_points(img_h, crop_h, 0.5)\n",
    "    \n",
    "    for i in Y_points:\n",
    "        for j in X_points:\n",
    "            split = img[i:i+crop_h, j:j+crop_w]\n",
    "            #cv2.imwrite('{}_{}.{}'.format(name, count, frmt), split)\n",
    "            yield split, j, i, crop_h, crop_w"
   ]
  },
  {
   "cell_type": "code",
   "execution_count": null,
   "id": "2c17c99a-90a5-4fdd-98c9-85f51fcd7281",
   "metadata": {
    "tags": []
   },
   "outputs": [],
   "source": [
    "df = pd.read_csv('input/hmib/train.csv')"
   ]
  },
  {
   "cell_type": "code",
   "execution_count": null,
   "id": "bf7da415-4718-41fd-a8d8-1e87b1fa8d65",
   "metadata": {
    "tags": []
   },
   "outputs": [],
   "source": [
    "imgs_path = Path('input/hmib/train_images/')\n",
    "ann_path = Path('input/hmib/train_annotations/')\n",
    "dst = Path('input/preprocessed/rle1024')\n",
    "# dst.mkdir()\n",
    "# (dst / 'images').mkdir()\n",
    "# (dst / 'masks').mkdir()"
   ]
  },
  {
   "cell_type": "code",
   "execution_count": null,
   "id": "d90410be-c492-4f66-a920-15a0bc8eb780",
   "metadata": {
    "tags": []
   },
   "outputs": [],
   "source": [
    "#tdf = df[df.organ == 'spleen']\n",
    "tdf = df"
   ]
  },
  {
   "cell_type": "code",
   "execution_count": null,
   "id": "35f0d3f5-e990-454c-9be9-5c405576a1d4",
   "metadata": {
    "tags": []
   },
   "outputs": [],
   "source": [
    "H, W = 1024, 1024\n",
    "ch, cw = 512,512\n",
    "imgs = []\n",
    "masks = []\n",
    "for i,row in tqdm(tdf.iterrows(), total=len(tdf)):\n",
    "    #if i < 10:\n",
    "    #    continue\n",
    "    #break\n",
    "    f = imgs_path / str(row['id'])\n",
    "    f = f.with_suffix('.tiff')\n",
    "    fd = rasterio.open(f)\n",
    "    a = fd.read().transpose(1,2,0)\n",
    "    fd.close()\n",
    "    h,w,c = a.shape\n",
    "    ar = cv2.resize(a, (W, H))\n",
    "    ar = ar.astype(np.uint8)\n",
    "    name = f.with_suffix('.png').name\n",
    "    \n",
    "    # ss = splitter(ar, ch, cw)\n",
    "    # name, ext = name.split('.')\n",
    "    # for ii, (s,*_) in enumerate(ss):\n",
    "    #     fixname = f'{name}_{ii}.{ext}'\n",
    "    #     cv2.imwrite(str(dst / 'images' / fixname), s)\n",
    "    \n",
    "    cv2.imwrite(str(dst / 'images' / name), ar)\n",
    "    \n",
    "    # annf = (ann_path / f.name).with_suffix('.json')\n",
    "    # data = read_ann(annf)\n",
    "    # poly = convert_ann(data, fixer=fix_single_poly)\n",
    "    # mask = rasterize([poly], out_shape=(h,w))\n",
    "    # mask = cv2.resize(mask, (W,H))\n",
    "    \n",
    "    mh,mw = row.img_height, row.img_width\n",
    "    rle_mask = rle_decode(row.rle, (mh,mw))\n",
    "    mask = cv2.resize(rle_mask, (H,W))#.astype(np.float32)\n",
    "    \n",
    "    \n",
    "    # ss = splitter(mask, ch, cw)\n",
    "    # for ii,  (s,*_) in enumerate(ss):\n",
    "    #     fixname = f'{name}_{ii}.{ext}'\n",
    "    #     cv2.imwrite(str(dst / 'masks' / fixname), s)\n",
    "    \n",
    "    \n",
    "    cv2.imwrite(str(dst / 'masks' / name), mask)\n",
    "    \n",
    "    \n",
    "    \n",
    "    # masks.append(mask)\n",
    "    # imgs.append(ar)\n",
    "    #break"
   ]
  },
  {
   "cell_type": "code",
   "execution_count": null,
   "id": "baf16509-0b20-48a2-a8e9-64fa47e89b09",
   "metadata": {
    "jupyter": {
     "outputs_hidden": true
    },
    "tags": []
   },
   "outputs": [],
   "source": [
    "for d in data:\n",
    "    print(len(d))"
   ]
  },
  {
   "cell_type": "code",
   "execution_count": null,
   "id": "8482723b-92db-4e28-8dd5-bdae6d60a344",
   "metadata": {},
   "outputs": [],
   "source": []
  },
  {
   "cell_type": "code",
   "execution_count": null,
   "id": "97fc17b8-2c96-4809-b8b8-b92fe78de554",
   "metadata": {
    "tags": []
   },
   "outputs": [],
   "source": []
  },
  {
   "cell_type": "code",
   "execution_count": null,
   "id": "1878f3d1-6369-47e3-a6c0-6488aca28375",
   "metadata": {
    "tags": []
   },
   "outputs": [],
   "source": [
    "tdf = df\n",
    "imgs_path = Path('input/hmib/train_images/')\n",
    "ann_path = Path('input/hmib/train_annotations/')\n"
   ]
  },
  {
   "cell_type": "code",
   "execution_count": null,
   "id": "b19ec658-7e5a-47d4-929e-da69486da781",
   "metadata": {
    "tags": []
   },
   "outputs": [],
   "source": [
    "class BadPoly(Exception):pass\n",
    "\n",
    "def fix_single_poly(d):\n",
    "    d = np.array(d)\n",
    "    dd = d.copy()\n",
    "    p = Polygon(dd)\n",
    "    try:\n",
    "        if p.area < 1:\n",
    "            return None\n",
    "    except:\n",
    "        pass\n",
    "\n",
    "    if not p.is_valid:\n",
    "        #print(f'{ii} not valid poly')\n",
    "        broken[row.organ].append(i)\n",
    "        cnt = 0\n",
    "        while not p.is_valid:\n",
    "            d = d[:-1]\n",
    "            cnt += 1\n",
    "            p = Polygon(d)#.buffer(0)\n",
    "            if cnt == 10:\n",
    "                p = p.buffer(0)\n",
    "            elif cnt > 10:\n",
    "                raise Exception\n",
    "\n",
    "            #elif cnt > 20:\n",
    "\n",
    "    if isinstance(p, MultiPolygon):\n",
    "        areas = [i.area for i in p]\n",
    "        idx = np.argmax(areas)\n",
    "        p = p[idx]\n",
    "    return p"
   ]
  },
  {
   "cell_type": "code",
   "execution_count": null,
   "id": "f12ac7ca-ecb8-4d95-a629-869ae817cc91",
   "metadata": {},
   "outputs": [],
   "source": []
  },
  {
   "cell_type": "code",
   "execution_count": null,
   "id": "730da7af-a87c-486e-bbd4-3cfb4e7a1695",
   "metadata": {
    "tags": []
   },
   "outputs": [],
   "source": [
    "broken = defaultdict(list)\n",
    "total = defaultdict(int)\n",
    "polys = defaultdict(list)\n",
    "\n",
    "for i,row in tqdm(tdf.iterrows(), total=len(tdf)):\n",
    "    # if i < 2:\n",
    "    #     continue\n",
    "    f = imgs_path / str(row['id'])\n",
    "    f = f.with_suffix('.tiff')\n",
    "    fd = rasterio.open(f)\n",
    "    h,w = fd.shape\n",
    "    fd.close()\n",
    "    \n",
    "    annf = (ann_path / f.name).with_suffix('.json')\n",
    "    data = read_ann(annf)\n",
    "    #poly = convert_ann(data, buffer=5)\n",
    "    total[row.organ] += len(data)\n",
    "    uni = None\n",
    "    buffer = 0\n",
    "    \n",
    "    for ii, d in enumerate(data):\n",
    "        # if i == 22 and ii == 17:\n",
    "        #     d = d[:-4]\n",
    "        # elif i == 23 and ii == 16:\n",
    "        #     d = d[:-1]\n",
    "        #     d = d[1:]\n",
    "        # elif i == 23 and ii == 69:\n",
    "        #     d = d[:-2]\n",
    "        #     d = d[1:]\n",
    "        # elif i == 40 and ii == 6:\n",
    "        #     d = d[:-2]\n",
    "        # elif i == 45 and ii == 12:\n",
    "        #     d = d[:-6]\n",
    "        # elif i == 45 and ii == 17:\n",
    "        #     d = d[:-5]\n",
    "        # elif i == 45 and ii == 55:\n",
    "        #     d = d[:-4]\n",
    "        #     d = d[3:]\n",
    "        # elif i == 0 and ii == 0:\n",
    "        #     d = d[:-4]\n",
    "        #     d = d[2:]\n",
    "        # elif i == 3 and ii == 0:\n",
    "        #     d = d[:-3]\n",
    "        # elif i == 7 and ii == 0:\n",
    "        #     d = d[:-3]\n",
    "        # elif i == 7 and ii == 3:\n",
    "        #     d = d[:-8]\n",
    "        # elif i == 9 and ii == 8:\n",
    "        #     d = d[:-4]\n",
    "        # elif i == 9 and ii == 40:\n",
    "        #     d = d[:-5]\n",
    "        # elif i == 10 and ii == 4:\n",
    "        #     d = d[:-7]\n",
    "        # elif i == 16 and ii == 5:\n",
    "        #     d = d[:-5]\n",
    "        # elif i == 20 and ii == 5:\n",
    "        #     d = d[:-6]\n",
    "        \n",
    "        p = fix_single_poly(d)\n",
    "        if p is None:\n",
    "            print('bad poly')\n",
    "            continue\n",
    "        assert type(p) == Polygon\n",
    "        assert p.area > 1e-3\n",
    "        polys[row.organ].append(p)\n",
    "    \n",
    "    # mask = rasterize([uni], out_shape=(h,w))\n",
    "    # break"
   ]
  },
  {
   "cell_type": "code",
   "execution_count": null,
   "id": "8cf7ec53-983e-4716-89a1-f032d9ba3d6d",
   "metadata": {
    "tags": []
   },
   "outputs": [],
   "source": [
    "i, ii"
   ]
  },
  {
   "cell_type": "code",
   "execution_count": null,
   "id": "63ccd85a-0224-4c41-ae88-762df13a16a8",
   "metadata": {
    "tags": []
   },
   "outputs": [],
   "source": [
    "# dd = d.copy()\n",
    "# dd = dd#[:-1]\n",
    "# dd = dd[0:]"
   ]
  },
  {
   "cell_type": "code",
   "execution_count": null,
   "id": "65dc5034-8d6c-42ee-a665-053f7a3cb431",
   "metadata": {
    "tags": []
   },
   "outputs": [],
   "source": [
    "pp = Polygon(dd)#.buffer(0)"
   ]
  },
  {
   "cell_type": "code",
   "execution_count": null,
   "id": "131dc29c-497d-40d8-9164-3602646ab119",
   "metadata": {
    "tags": []
   },
   "outputs": [],
   "source": [
    "pp.area > 1e-3"
   ]
  },
  {
   "cell_type": "code",
   "execution_count": null,
   "id": "5e3f0393-7487-44b5-a1b6-93e4fef9c3d0",
   "metadata": {
    "tags": []
   },
   "outputs": [],
   "source": [
    "pp#.buffer(0)"
   ]
  },
  {
   "cell_type": "code",
   "execution_count": null,
   "id": "7f6697ab-f1ba-47f7-b99f-d201f68f5b7c",
   "metadata": {
    "tags": []
   },
   "outputs": [],
   "source": []
  },
  {
   "cell_type": "code",
   "execution_count": null,
   "id": "e0ed0e2d-1f74-4288-b8c2-c93015f58e31",
   "metadata": {
    "tags": []
   },
   "outputs": [],
   "source": [
    "plt.figure()\n",
    "plt.plot(d[:,0], d[:,1])\n",
    "plt.plot(dd[:,0], dd[:,1])"
   ]
  },
  {
   "cell_type": "code",
   "execution_count": null,
   "id": "a83de245-8c84-400f-b15f-01c9a3e760ae",
   "metadata": {},
   "outputs": [],
   "source": []
  },
  {
   "cell_type": "code",
   "execution_count": null,
   "id": "16110221-479a-4030-b625-0a952b566121",
   "metadata": {
    "tags": []
   },
   "outputs": [],
   "source": []
  },
  {
   "cell_type": "code",
   "execution_count": null,
   "id": "717b67c1-60d6-4943-ba54-a2807410b596",
   "metadata": {
    "tags": []
   },
   "outputs": [],
   "source": [
    "plt.figure()\n",
    "for k,v in polys.items():\n",
    "    print(k, len(v), total[k], len(v)/total[k])\n",
    "    pp = polys[k]\n",
    "    nums = []\n",
    "    for p in pp:\n",
    "        nums.append(len(p.exterior.xy[0]))\n",
    "    nums = np.array(nums)\n",
    "    print(f'\\t {nums.mean(), nums.std()}')\n",
    "    \n",
    "    plt.hist(nums.clip(0,800), bins=50, alpha=.5)"
   ]
  },
  {
   "cell_type": "code",
   "execution_count": null,
   "id": "7190a5c3-5c0f-4348-8d2b-ee57eff941f2",
   "metadata": {},
   "outputs": [],
   "source": []
  },
  {
   "cell_type": "markdown",
   "id": "869d8489-3d8b-484d-83e9-5507d8152de0",
   "metadata": {},
   "source": [
    "# read rle"
   ]
  },
  {
   "cell_type": "code",
   "execution_count": null,
   "id": "9cd359a5-4327-4b42-900a-9b3c4f7e1917",
   "metadata": {},
   "outputs": [],
   "source": [
    "def rle_decode(rle_str, mask_shape, mask_dtype=np.uint8):\n",
    "    s = rle_str.split()\n",
    "    starts, lengths = [np.asarray(x, dtype=int) for x in (s[0:][::2], s[1:][::2])]\n",
    "    starts -= 1\n",
    "    ends = starts + lengths\n",
    "    mask = np.zeros(np.prod(mask_shape), dtype=mask_dtype)\n",
    "    for lo, hi in zip(starts, ends):\n",
    "        mask[lo:hi] = 1\n",
    "    return mask.reshape(mask_shape[::-1]).T"
   ]
  },
  {
   "cell_type": "code",
   "execution_count": null,
   "id": "cde95fe1-b061-4ff3-8800-edfcaecc7569",
   "metadata": {
    "tags": []
   },
   "outputs": [],
   "source": [
    "H,W = 3000,3000\n",
    "dst = Path('input/preprocessed/png1024/masks/')\n",
    "pdst = Path('input/hmib/train_annotations/')"
   ]
  },
  {
   "cell_type": "code",
   "execution_count": null,
   "id": "c4ededa9-9a07-4447-8761-29fcf25b8ac4",
   "metadata": {
    "tags": []
   },
   "outputs": [],
   "source": [
    "r"
   ]
  },
  {
   "cell_type": "code",
   "execution_count": null,
   "id": "bf6c2a68-6f72-4d6a-914b-fac8a040de63",
   "metadata": {
    "tags": []
   },
   "outputs": [],
   "source": [
    "#df.img_height.value_counts()"
   ]
  },
  {
   "cell_type": "code",
   "execution_count": null,
   "id": "12c03052-2539-4551-ae0f-0251d0a7baab",
   "metadata": {},
   "outputs": [],
   "source": []
  },
  {
   "cell_type": "code",
   "execution_count": null,
   "id": "274b32aa-79c1-4b36-be18-b9efb1078cd6",
   "metadata": {},
   "outputs": [],
   "source": [
    "Polygon()"
   ]
  },
  {
   "cell_type": "code",
   "execution_count": null,
   "id": "096fa86e-613b-493d-9d1e-eb81812dc099",
   "metadata": {},
   "outputs": [],
   "source": [
    "import json"
   ]
  },
  {
   "cell_type": "code",
   "execution_count": null,
   "id": "00a13478-0d9a-44f6-9bd8-521c232d9d49",
   "metadata": {
    "tags": []
   },
   "outputs": [],
   "source": [
    "diffs = []\n",
    "masks = []\n",
    "rle_masks = []\n",
    "polys = []\n",
    "for i,r in tqdm(df.iterrows()):\n",
    "    rle = r.rle\n",
    "    H,W = r.img_height, r.img_width\n",
    "    rle_mask = rle_decode(rle, (H,W))\n",
    "    rle_mask = cv2.resize(rle_mask, (1024,1024)).astype(np.float32)\n",
    "    idx = r.id\n",
    "    mask = cv2.imread(str(dst / f'{idx}.png'))#*255\n",
    "    mask = mask[...,0].astype(np.float32)\n",
    "    diff = mask-rle_mask\n",
    "    diffs.append((diff**2).sum()/1024/1024)\n",
    "    masks.append(mask)\n",
    "    rle_masks.append(rle_mask)\n",
    "    \n",
    "    with open(pdst / f\"{idx}.json\", 'r') as f:\n",
    "        pdata = json.load(f)\n",
    "    poly = [Polygon(p) for p in pdata]\n",
    "    polys.append(poly)\n",
    "    #m = m/m.max()\n",
    "    #break"
   ]
  },
  {
   "cell_type": "code",
   "execution_count": null,
   "id": "0cc1b357-b4e3-455c-b752-9606a8c1aaf0",
   "metadata": {
    "tags": []
   },
   "outputs": [],
   "source": [
    "# plt.figure()\n",
    "# plt.hist(diffs, bins=50);"
   ]
  },
  {
   "cell_type": "code",
   "execution_count": null,
   "id": "678f8741-606b-45e9-b3bc-accf0177eb65",
   "metadata": {
    "tags": []
   },
   "outputs": [],
   "source": [
    "maxidx = np.argsort(diffs)[::-1]\n",
    "maxidx[:5]"
   ]
  },
  {
   "cell_type": "code",
   "execution_count": null,
   "id": "a1cfc6d3-6d7f-4da1-99a9-a8e40e327b38",
   "metadata": {
    "tags": []
   },
   "outputs": [],
   "source": [
    "diffs[0]"
   ]
  },
  {
   "cell_type": "code",
   "execution_count": null,
   "id": "5d86a8f0-e04d-4a69-9a94-8bf531961cba",
   "metadata": {
    "tags": []
   },
   "outputs": [],
   "source": [
    "idx = maxidx[1]"
   ]
  },
  {
   "cell_type": "code",
   "execution_count": null,
   "id": "870ff164-3c16-4c8f-ab63-104a753c46f1",
   "metadata": {
    "tags": []
   },
   "outputs": [],
   "source": [
    "plt.figure()\n",
    "plt.imshow((rle_masks[idx] - masks[idx])[::-1])"
   ]
  },
  {
   "cell_type": "code",
   "execution_count": null,
   "id": "97e2c133-8b96-4c08-975e-edd7f7caf151",
   "metadata": {
    "tags": []
   },
   "outputs": [],
   "source": [
    "pp = polys[idx]"
   ]
  },
  {
   "cell_type": "code",
   "execution_count": null,
   "id": "358cec25-494a-40d0-b60d-0eb406450e0a",
   "metadata": {
    "tags": []
   },
   "outputs": [],
   "source": [
    "uni = pp[0].buffer(0)\n",
    "for p in pp:\n",
    "    try:\n",
    "        uni = uni.union(p.buffer(0))\n",
    "    except:\n",
    "        pass"
   ]
  },
  {
   "cell_type": "code",
   "execution_count": null,
   "id": "33dfbe3f-a902-45a8-a6c2-ed288a34b504",
   "metadata": {
    "tags": []
   },
   "outputs": [],
   "source": [
    "uni"
   ]
  },
  {
   "cell_type": "code",
   "execution_count": null,
   "id": "f02168dc-87a6-4cf4-82b0-c2cc65749b33",
   "metadata": {
    "tags": []
   },
   "outputs": [],
   "source": [
    "plt.figure()\n",
    "plt.imshow(masks[idx][::-1])\n",
    "plt.tight_layout()"
   ]
  },
  {
   "cell_type": "code",
   "execution_count": null,
   "id": "98bfc165-1800-4bfb-99c7-f7237f20b3ac",
   "metadata": {
    "tags": []
   },
   "outputs": [],
   "source": [
    "plt.figure()\n",
    "plt.imshow(rle_masks[idx][::-1])"
   ]
  },
  {
   "cell_type": "code",
   "execution_count": null,
   "id": "2688c3fb-03b0-4ca5-9e5c-42830f390e58",
   "metadata": {},
   "outputs": [],
   "source": []
  },
  {
   "cell_type": "code",
   "execution_count": null,
   "id": "57da3469-5533-4e84-a7ad-26ff503f342f",
   "metadata": {},
   "outputs": [],
   "source": []
  },
  {
   "cell_type": "code",
   "execution_count": null,
   "id": "a6377534-87b6-40e9-af32-4d502cd586ab",
   "metadata": {},
   "outputs": [],
   "source": []
  },
  {
   "cell_type": "code",
   "execution_count": null,
   "id": "38065a26-c15c-4e68-bc00-1ffe384adffc",
   "metadata": {
    "tags": []
   },
   "outputs": [],
   "source": [
    "plt.figure()\n",
    "plt.plot(sorted(diffs))"
   ]
  },
  {
   "cell_type": "code",
   "execution_count": null,
   "id": "ee23fa02-92dc-442f-b651-336cf8bfdae1",
   "metadata": {
    "tags": []
   },
   "outputs": [],
   "source": [
    "#plt.hist(m.flatten(), bins=50);"
   ]
  },
  {
   "cell_type": "code",
   "execution_count": null,
   "id": "ab0eee42-21b7-4295-8246-ba8c9e112fa6",
   "metadata": {
    "tags": []
   },
   "outputs": [],
   "source": [
    "plt.figure()#figsize=(10,10))\n",
    "plt.imshow(rle_mask)"
   ]
  },
  {
   "cell_type": "code",
   "execution_count": null,
   "id": "d03ae071-116d-4edc-b8f5-0e7f6c2ef602",
   "metadata": {
    "tags": []
   },
   "outputs": [],
   "source": [
    "plt.figure()\n",
    "plt.imshow(rle_mask)"
   ]
  },
  {
   "cell_type": "code",
   "execution_count": null,
   "id": "484c8a0a-db99-46bd-9f43-20e80c0ef42a",
   "metadata": {},
   "outputs": [],
   "source": []
  },
  {
   "cell_type": "code",
   "execution_count": null,
   "id": "d9f88efb-ad7b-44bf-94c4-f0bc7dd59672",
   "metadata": {},
   "outputs": [],
   "source": []
  },
  {
   "cell_type": "code",
   "execution_count": null,
   "id": "987460ff-9a0e-4113-aefb-53c609657b49",
   "metadata": {},
   "outputs": [],
   "source": []
  },
  {
   "cell_type": "code",
   "execution_count": null,
   "id": "212127e3-be0e-42ca-97f1-2c292f44d151",
   "metadata": {},
   "outputs": [],
   "source": []
  },
  {
   "cell_type": "code",
   "execution_count": null,
   "id": "2bad88ba-68a7-4e5c-8eb9-5a8d965f0388",
   "metadata": {},
   "outputs": [],
   "source": []
  },
  {
   "cell_type": "code",
   "execution_count": null,
   "id": "74d656f0-edc5-44d6-a23d-b1b6181e609f",
   "metadata": {},
   "outputs": [],
   "source": []
  }
 ],
 "metadata": {
  "kernelspec": {
   "display_name": "Python 3 (ipykernel)",
   "language": "python",
   "name": "python3"
  },
  "language_info": {
   "codemirror_mode": {
    "name": "ipython",
    "version": 3
   },
   "file_extension": ".py",
   "mimetype": "text/x-python",
   "name": "python",
   "nbconvert_exporter": "python",
   "pygments_lexer": "ipython3",
   "version": "3.8.10"
  }
 },
 "nbformat": 4,
 "nbformat_minor": 5
}
