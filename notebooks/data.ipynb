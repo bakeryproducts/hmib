{
 "cells": [
  {
   "cell_type": "code",
   "execution_count": null,
   "id": "97ab0653-3011-4421-bbb2-e76c9e46fa70",
   "metadata": {
    "tags": []
   },
   "outputs": [],
   "source": [
    "%load_ext autoreload\n",
    "%autoreload 2"
   ]
  },
  {
   "cell_type": "code",
   "execution_count": null,
   "id": "e93e6a0c-a51f-42bb-8637-3ad818bce885",
   "metadata": {
    "tags": []
   },
   "outputs": [],
   "source": [
    "import sys\n",
    "import os\n",
    "os.chdir('..')\n",
    "sys.path.append('src')"
   ]
  },
  {
   "cell_type": "code",
   "execution_count": null,
   "id": "da18bcc1-5be4-4ac5-9287-7869df274e86",
   "metadata": {
    "tags": []
   },
   "outputs": [],
   "source": [
    "import rasterio\n",
    "import torch\n",
    "import numpy as np\n",
    "from pathlib import Path\n",
    "import pandas as pd\n",
    "import torchvision\n",
    "from dataclasses import dataclass\n",
    "from omegaconf import OmegaConf\n",
    "from tqdm import tqdm\n",
    "import cv2\n",
    "from PIL import Image\n",
    "import matplotlib.pyplot as plt\n",
    "%matplotlib widget \n",
    "\n",
    "from data import DfDataset, MaskGenerator, MainDataset\n",
    "\n",
    "from build_data import DatasetsGen, init_datasets\n",
    "from augs import create_augmented"
   ]
  },
  {
   "cell_type": "code",
   "execution_count": null,
   "id": "fc44316e-3d3a-4708-a5f2-7a5848772740",
   "metadata": {
    "tags": []
   },
   "outputs": [],
   "source": [
    "df = pd.read_csv('input/hmib/train.csv')\n",
    "cfg = OmegaConf.load('src/configs/u.yaml')\n",
    "cfg.PARALLEL.LOCAL_RANK=0"
   ]
  },
  {
   "cell_type": "code",
   "execution_count": null,
   "id": "39e671f5-234e-46fc-80a1-6cd5147414f7",
   "metadata": {
    "tags": []
   },
   "outputs": [],
   "source": [
    "cfg.DATA.root='hmib/train_images/'\n",
    "cfg.DATA.ann_root='hmib/train_annotations/'"
   ]
  },
  {
   "cell_type": "code",
   "execution_count": null,
   "id": "d128de7a-0eb3-4e1a-b615-4db9c095bf6e",
   "metadata": {
    "tags": []
   },
   "outputs": [],
   "source": [
    "dg = DatasetsGen(cfg)\n",
    "ds = init_datasets(cfg, dg, ['TRAIN'])"
   ]
  },
  {
   "cell_type": "code",
   "execution_count": null,
   "id": "37d4c064-5022-4d88-a1a8-2018146a07ac",
   "metadata": {
    "tags": []
   },
   "outputs": [],
   "source": [
    "tds = ds['TRAIN']\n",
    "x,y = tds[0]['x'], tds[0]['y']\n",
    "#x.shape, x.dtype, y.shape,  x.dtype, len(tds)"
   ]
  },
  {
   "cell_type": "code",
   "execution_count": null,
   "id": "9742528e-e0f3-4ce1-8067-49609566bc82",
   "metadata": {
    "tags": []
   },
   "outputs": [],
   "source": [
    "from dali import build_daliloaders"
   ]
  },
  {
   "cell_type": "code",
   "execution_count": null,
   "id": "3b914170-1d76-4d23-85d4-8c3d58b939e3",
   "metadata": {
    "tags": []
   },
   "outputs": [],
   "source": [
    "tds[0]"
   ]
  },
  {
   "cell_type": "code",
   "execution_count": null,
   "id": "f0d4b7ad-d3cc-4f79-9de7-cf41bcf61660",
   "metadata": {
    "tags": []
   },
   "outputs": [],
   "source": [
    "dls = build_daliloaders(cfg, ds)\n",
    "tdl = dls['TRAIN']"
   ]
  },
  {
   "cell_type": "code",
   "execution_count": null,
   "id": "9d1b9b7f-cbc3-4cdb-b294-11fe4de2983e",
   "metadata": {},
   "outputs": [],
   "source": [
    "for b in tdl:\n",
    "    break"
   ]
  },
  {
   "cell_type": "code",
   "execution_count": null,
   "id": "9a3316ec-3bc0-4780-adcd-4d15fc109f7e",
   "metadata": {
    "tags": []
   },
   "outputs": [],
   "source": [
    "b[0]['y'].contiguous"
   ]
  },
  {
   "cell_type": "code",
   "execution_count": null,
   "id": "5437e41b-43f4-4409-bfb6-b378877b730c",
   "metadata": {},
   "outputs": [],
   "source": []
  },
  {
   "cell_type": "code",
   "execution_count": null,
   "id": "2e4d5e9c-99c5-48b4-ab3b-ca47cf47f470",
   "metadata": {
    "tags": []
   },
   "outputs": [],
   "source": [
    "l = tds.ds.ds.labels[0]"
   ]
  },
  {
   "cell_type": "code",
   "execution_count": null,
   "id": "9d00be5c-1121-434f-a128-bacc31d68849",
   "metadata": {},
   "outputs": [],
   "source": [
    "import dataclasses"
   ]
  },
  {
   "cell_type": "code",
   "execution_count": null,
   "id": "ad84da1d-c627-40ba-b6cc-1b3b7b1fe99e",
   "metadata": {
    "tags": []
   },
   "outputs": [],
   "source": [
    "lc = dataclasses.replace(l)"
   ]
  },
  {
   "cell_type": "code",
   "execution_count": null,
   "id": "e3dc6491-5488-4a46-a903-be8a344ce538",
   "metadata": {},
   "outputs": [],
   "source": []
  },
  {
   "cell_type": "code",
   "execution_count": null,
   "id": "ada00035-f902-44df-9906-a23ce6fdef51",
   "metadata": {},
   "outputs": [],
   "source": []
  },
  {
   "cell_type": "code",
   "execution_count": null,
   "id": "115e1be8-18a4-4370-9b2b-e2ff3af0af56",
   "metadata": {
    "tags": []
   },
   "outputs": [],
   "source": [
    "mg = MaskGenerator(192, mask_ratio=.0)"
   ]
  },
  {
   "cell_type": "code",
   "execution_count": null,
   "id": "d2532507-1376-44b5-ac91-7abd2375aa04",
   "metadata": {
    "tags": []
   },
   "outputs": [],
   "source": [
    "m = mg()"
   ]
  },
  {
   "cell_type": "code",
   "execution_count": null,
   "id": "632faa92-53d1-4df6-9825-6635f5846479",
   "metadata": {
    "tags": []
   },
   "outputs": [],
   "source": [
    "plt.figure()\n",
    "plt.imshow(m)"
   ]
  },
  {
   "cell_type": "code",
   "execution_count": null,
   "id": "77918c6e-2cc0-4d88-ab55-27b7512af43c",
   "metadata": {},
   "outputs": [],
   "source": []
  },
  {
   "cell_type": "code",
   "execution_count": null,
   "id": "7111e34c-ca20-4b56-9437-18b384cf07d3",
   "metadata": {},
   "outputs": [],
   "source": [
    "1/0"
   ]
  },
  {
   "cell_type": "code",
   "execution_count": null,
   "id": "19592ed6-3ce3-4fdb-a247-70af756afd67",
   "metadata": {
    "tags": []
   },
   "outputs": [],
   "source": [
    "ads = create_augmented(cfg, ds)\n",
    "atds = ads['TRAIN']"
   ]
  },
  {
   "cell_type": "code",
   "execution_count": null,
   "id": "6eccf531-6a1b-42c6-85e5-219244dcd1c6",
   "metadata": {
    "tags": []
   },
   "outputs": [],
   "source": [
    "i = atds[0]\n",
    "x,y = i['x'][0], i['y'][0]\n",
    "x.shape, y.shape,  len(atds)"
   ]
  },
  {
   "cell_type": "code",
   "execution_count": null,
   "id": "939275f2-940a-44d0-af2c-8dd38f530d83",
   "metadata": {
    "tags": []
   },
   "outputs": [],
   "source": [
    "plt.figure()\n",
    "plt.imshow(x.permute(1,2,0))"
   ]
  },
  {
   "cell_type": "code",
   "execution_count": null,
   "id": "5a612d8c-f45d-4313-95b3-b747c1e5b149",
   "metadata": {
    "tags": []
   },
   "outputs": [],
   "source": [
    "plt.figure()\n",
    "plt.imshow(y.permute(1,2,0))"
   ]
  },
  {
   "cell_type": "code",
   "execution_count": null,
   "id": "e7aeb091-9dfe-4e12-8fe6-7a8cd1c12570",
   "metadata": {},
   "outputs": [],
   "source": []
  },
  {
   "cell_type": "code",
   "execution_count": null,
   "id": "b69f3ac1-ac4b-4960-bb45-da4e582cc067",
   "metadata": {
    "tags": []
   },
   "outputs": [],
   "source": [
    "def batch_quantile(b, q=.01):\n",
    "    br = b.view(b.shape[0],-1)\n",
    "    rq = torch.quantile(br, dim=1, q=1-q).view(-1,1,1,1)\n",
    "    lq = torch.quantile(br, dim=1, q=  q).view(-1,1,1,1)\n",
    "    return torch.max(torch.min(b, rq), lq)\n",
    "\n",
    "def nppclip(a, p=1):\n",
    "    l, r = np.percentile(a, p), np.percentile(a, 100-p) \n",
    "    ac = np.clip(a, l, r)\n",
    "    return ac"
   ]
  },
  {
   "cell_type": "code",
   "execution_count": null,
   "id": "28e67fcf-a03c-4a42-8074-343a242795de",
   "metadata": {},
   "outputs": [],
   "source": []
  },
  {
   "cell_type": "code",
   "execution_count": null,
   "id": "d470e808-f63a-4b51-bfdc-03bbfd18fe06",
   "metadata": {
    "tags": []
   },
   "outputs": [],
   "source": [
    "t = ar#[500:2500,500:2500]\n",
    "t = nppclip(t)\n",
    "t = np.stack([t[...,2],t[...,1],t[...,0]], -1)\n",
    "t = (t - t.min()) / (t.max() - t.min())\n",
    "plt.figure(figsize=(10,10))\n",
    "plt.imshow(t)"
   ]
  },
  {
   "cell_type": "code",
   "execution_count": null,
   "id": "ad4296bb-c677-45ab-99a2-4a2c7ceef9f6",
   "metadata": {},
   "outputs": [],
   "source": []
  },
  {
   "cell_type": "code",
   "execution_count": null,
   "id": "2af2bb3b-4236-4621-8df2-b03800074b8f",
   "metadata": {
    "tags": []
   },
   "outputs": [],
   "source": [
    "imgs_path = Path('input/hmib/train_images/')\n",
    "ann_path = Path('input/hmib/train_annotations/')\n",
    "dst = Path('input/preprocessed/png1024overlap')\n",
    "dst.mkdir()"
   ]
  },
  {
   "cell_type": "code",
   "execution_count": null,
   "id": "eea39e43-78d5-4e49-bc59-10ac636918c0",
   "metadata": {
    "tags": []
   },
   "outputs": [],
   "source": [
    "#tdf = df[df.organ == 'spleen']\n",
    "tdf = df"
   ]
  },
  {
   "cell_type": "code",
   "execution_count": null,
   "id": "658eb68b-08a5-4c96-b8ad-d9230848cc8a",
   "metadata": {
    "tags": []
   },
   "outputs": [],
   "source": [
    "from data import read_ann, convert_ann\n",
    "from rasterio.features import rasterize"
   ]
  },
  {
   "cell_type": "code",
   "execution_count": null,
   "id": "30a9c7c2-7f8b-46e7-b48f-0792b9473f9c",
   "metadata": {
    "tags": []
   },
   "outputs": [],
   "source": [
    "H, W = 1024, 1024\n",
    "ch, cw = 512,512\n",
    "imgs = []\n",
    "masks = []\n",
    "for i,row in tqdm(tdf.iterrows(), total=len(tdf)):\n",
    "    #if i < 10:\n",
    "    #    continue\n",
    "    #break\n",
    "    f = imgs_path / str(row['id'])\n",
    "    f = f.with_suffix('.tiff')\n",
    "    fd = rasterio.open(f)\n",
    "    a = fd.read().transpose(1,2,0)\n",
    "    fd.close()\n",
    "    h,w,c = a.shape\n",
    "    ar = cv2.resize(a, (W, H))\n",
    "    ar = ar.astype(np.uint8)\n",
    "    name = f.with_suffix('.png').name\n",
    "    \n",
    "    ss = splitter(ar, ch, cw)\n",
    "    name, ext = name.split('.')\n",
    "    for ii, (s,*_) in enumerate(ss):\n",
    "        fixname = f'{name}_{ii}.{ext}'\n",
    "        cv2.imwrite(str(dst / 'images' / fixname), s)\n",
    "    \n",
    "    #cv2.imwrite(str(dst / 'images' / name), ar)\n",
    "    \n",
    "    annf = (ann_path / f.name).with_suffix('.json')\n",
    "    data = read_ann(annf)\n",
    "    poly = convert_ann(data)\n",
    "    mask = rasterize([poly], out_shape=(h,w))\n",
    "    mask = cv2.resize(mask, (W,H))\n",
    "    \n",
    "    ss = splitter(mask, ch, cw)\n",
    "    #name, ext = name.split('.')\n",
    "    for ii,  (s,*_) in enumerate(ss):\n",
    "        fixname = f'{name}_{ii}.{ext}'\n",
    "        cv2.imwrite(str(dst / 'masks' / fixname), s)\n",
    "    \n",
    "    #cv2.imwrite(str(dst / 'masks' / name), mask)\n",
    "    \n",
    "    \n",
    "    # masks.append(mask)\n",
    "    # imgs.append(ar)\n",
    "    #break"
   ]
  },
  {
   "cell_type": "code",
   "execution_count": null,
   "id": "7795ca04-ea21-4dfa-9c8b-d863a2aa29f1",
   "metadata": {},
   "outputs": [],
   "source": []
  },
  {
   "cell_type": "code",
   "execution_count": null,
   "id": "d61069fd-78fc-479d-8245-19f100184edf",
   "metadata": {},
   "outputs": [],
   "source": []
  },
  {
   "cell_type": "code",
   "execution_count": null,
   "id": "d6bcb2cc-ed64-40a1-add4-6d0d4f6f6a5e",
   "metadata": {
    "tags": []
   },
   "outputs": [],
   "source": [
    "cv2.imread('input/preprocessed/png1024/masks/10044.png', cv2.IMREAD_UNCHANGED).shape"
   ]
  },
  {
   "cell_type": "code",
   "execution_count": null,
   "id": "6c6f8cac-48ab-4bbe-b195-de1f085e4bb0",
   "metadata": {},
   "outputs": [],
   "source": []
  },
  {
   "cell_type": "code",
   "execution_count": null,
   "id": "3725f005-b069-4326-a567-7764134d5571",
   "metadata": {
    "tags": []
   },
   "outputs": [],
   "source": [
    "imgs = [torch.from_numpy(a) for a in imgs]\n",
    "masks = [torch.from_numpy(a) for a in masks]\n",
    "imgs = torch.stack(imgs)\n",
    "masks = torch.stack(masks)\n",
    "masks = masks.unsqueeze(-1)\n",
    "imgs.shape, masks.shape"
   ]
  },
  {
   "cell_type": "code",
   "execution_count": null,
   "id": "7dd1063b-1ac6-45bd-9bc3-755a0eee77a6",
   "metadata": {
    "tags": []
   },
   "outputs": [],
   "source": [
    "organs = list(set(df.organ))\n",
    "organs"
   ]
  },
  {
   "cell_type": "code",
   "execution_count": null,
   "id": "8e087556-eca6-4475-ba79-9c5b15fea43d",
   "metadata": {
    "tags": []
   },
   "outputs": [],
   "source": [
    "organ = organs[0]\n",
    "idxs = df[df.organ==organ].index"
   ]
  },
  {
   "cell_type": "code",
   "execution_count": null,
   "id": "2af0aadd-3847-413d-a555-221c5f6e9346",
   "metadata": {},
   "outputs": [],
   "source": [
    "idxs = range(64)"
   ]
  },
  {
   "cell_type": "code",
   "execution_count": null,
   "id": "67d4ddc7-3c73-478c-8210-4527ef2221be",
   "metadata": {
    "tags": []
   },
   "outputs": [],
   "source": [
    "i,m = imgs[idxs], masks[idxs]"
   ]
  },
  {
   "cell_type": "code",
   "execution_count": null,
   "id": "0bcc773d-cd07-4be6-bb0e-be195f020778",
   "metadata": {
    "tags": []
   },
   "outputs": [],
   "source": [
    "m.shape"
   ]
  },
  {
   "cell_type": "code",
   "execution_count": null,
   "id": "bebacf2c-57e7-4a70-a636-6c7808376625",
   "metadata": {
    "tags": []
   },
   "outputs": [],
   "source": [
    "s=0\n",
    "gr = torchvision.utils.make_grid(m.float().permute(0,3,1,2)[s:s+100], normalize=True).permute(2,1,0)\n",
    "gr.shape"
   ]
  },
  {
   "cell_type": "code",
   "execution_count": null,
   "id": "c2dc0cd4-ee5e-445f-9c48-6fe364d250a9",
   "metadata": {
    "tags": []
   },
   "outputs": [],
   "source": [
    "plt.hist(t.flatten().numpy(), bins=30);"
   ]
  },
  {
   "cell_type": "code",
   "execution_count": null,
   "id": "11f21d79-aafb-4a85-87e9-fc160caeee60",
   "metadata": {
    "tags": []
   },
   "outputs": [],
   "source": [
    "plt.figure(figsize=(20,10))\n",
    "plt.imshow(gr)"
   ]
  },
  {
   "cell_type": "code",
   "execution_count": null,
   "id": "287e9f5a-7a53-4d3d-ba6a-0eb2e79735f4",
   "metadata": {},
   "outputs": [],
   "source": []
  },
  {
   "cell_type": "code",
   "execution_count": null,
   "id": "e811706a-0dfb-4003-8f21-98dfd63d23af",
   "metadata": {
    "tags": []
   },
   "outputs": [],
   "source": [
    "import cv2\n",
    "\n",
    "\n",
    "def start_points(size, split_size, overlap=0):\n",
    "    points = [0]\n",
    "    stride = int(split_size * (1-overlap))\n",
    "    counter = 1\n",
    "    while True:\n",
    "        pt = stride * counter\n",
    "        if pt + split_size >= size:\n",
    "            points.append(size - split_size)\n",
    "            break\n",
    "        else:\n",
    "            points.append(pt)\n",
    "        counter += 1\n",
    "    return points\n",
    "\n",
    "\n",
    "\n",
    "def splitter(img, crop_w, crop_h):    \n",
    "    img_h, img_w, *_ = img.shape\n",
    "    X_points = start_points(img_w, crop_w, 0.5)\n",
    "    Y_points = start_points(img_h, crop_h, 0.5)\n",
    "    \n",
    "    for i in Y_points:\n",
    "        for j in X_points:\n",
    "            split = img[i:i+crop_h, j:j+crop_w]\n",
    "            #cv2.imwrite('{}_{}.{}'.format(name, count, frmt), split)\n",
    "            yield split, j, i, crop_h, crop_w"
   ]
  },
  {
   "cell_type": "code",
   "execution_count": null,
   "id": "4902876c-b1de-476e-87e3-d6d2b9fd08c5",
   "metadata": {
    "tags": []
   },
   "outputs": [],
   "source": [
    "ar.shape"
   ]
  },
  {
   "cell_type": "code",
   "execution_count": null,
   "id": "19d227c9-add7-4b9c-af43-b7157e5651f0",
   "metadata": {
    "tags": []
   },
   "outputs": [],
   "source": [
    "ss = splitter(mask, 512, 512)"
   ]
  },
  {
   "cell_type": "code",
   "execution_count": null,
   "id": "63bb16bb-fc8c-4370-8f7c-d7b4e6ca0c21",
   "metadata": {
    "tags": []
   },
   "outputs": [],
   "source": [
    "t = []\n",
    "for s, y,x,h,w in ss:\n",
    "    print(s.shape, y,x,h,w)\n",
    "    t.append(torch.from_numpy(s).unsqueeze(-1))\n",
    "t = torch.stack(t)"
   ]
  },
  {
   "cell_type": "code",
   "execution_count": null,
   "id": "b5f7d115-c85f-4b8b-9d7c-bde04f868f4a",
   "metadata": {
    "tags": []
   },
   "outputs": [],
   "source": [
    "t.shape"
   ]
  },
  {
   "cell_type": "code",
   "execution_count": null,
   "id": "e77161b8-6448-4029-9391-396213d38e5e",
   "metadata": {
    "tags": []
   },
   "outputs": [],
   "source": [
    "gr = torchvision.utils.make_grid(t.permute(0,3,1,2), nrow=3).permute(1,2,0)\n",
    "gr.shape"
   ]
  },
  {
   "cell_type": "code",
   "execution_count": null,
   "id": "2ed8ad08-ffe9-4e15-af74-09a056c0bcb0",
   "metadata": {
    "tags": []
   },
   "outputs": [],
   "source": [
    "plt.figure()\n",
    "plt.imshow(gr*255)"
   ]
  },
  {
   "cell_type": "code",
   "execution_count": null,
   "id": "6ed63f58-b142-4b86-a689-463f6c5b11ec",
   "metadata": {},
   "outputs": [],
   "source": []
  },
  {
   "cell_type": "code",
   "execution_count": null,
   "id": "64ff77b4-91bb-4055-bd6e-83bd88344647",
   "metadata": {},
   "outputs": [],
   "source": []
  },
  {
   "cell_type": "code",
   "execution_count": null,
   "id": "523f4ff4-4693-4b06-a0bd-172b41533019",
   "metadata": {},
   "outputs": [],
   "source": []
  },
  {
   "cell_type": "code",
   "execution_count": null,
   "id": "ec139ca8-17d0-4ebc-9e60-ad0c242af3ce",
   "metadata": {},
   "outputs": [],
   "source": []
  },
  {
   "cell_type": "code",
   "execution_count": null,
   "id": "ae3c1ef0-b2da-436f-bf5d-24fcefff862d",
   "metadata": {
    "tags": []
   },
   "outputs": [],
   "source": [
    "\n",
    "def generate_block_coords(H, W, block_size):\n",
    "    h,w = block_size\n",
    "    nYBlocks = (int)((H + h - 1) / h)\n",
    "    nXBlocks = (int)((W + w - 1) / w)\n",
    "    \n",
    "    for X in range(nXBlocks):\n",
    "        cx = X * h\n",
    "        for Y in range(nYBlocks):\n",
    "            cy = Y * w\n",
    "            yield cy, cx, h, w"
   ]
  },
  {
   "cell_type": "code",
   "execution_count": null,
   "id": "15163e00-91ee-4acc-843a-3fd22c57b763",
   "metadata": {
    "tags": []
   },
   "outputs": [],
   "source": [
    "g = generate_block_coords(1024, 1024, (256,256))"
   ]
  },
  {
   "cell_type": "code",
   "execution_count": null,
   "id": "5e2fb44e-2986-4b09-b417-0462d98cc645",
   "metadata": {},
   "outputs": [],
   "source": []
  },
  {
   "cell_type": "code",
   "execution_count": null,
   "id": "351f1bb0-e334-4b41-ad7a-4750bd29c45a",
   "metadata": {},
   "outputs": [],
   "source": [
    "for i, r in df.iterrows():\n",
    "    break"
   ]
  },
  {
   "cell_type": "code",
   "execution_count": null,
   "id": "85c66b02-7725-4152-8349-ea6a73c42447",
   "metadata": {},
   "outputs": [],
   "source": [
    "r"
   ]
  },
  {
   "cell_type": "code",
   "execution_count": null,
   "id": "595a0eb3-61ae-4944-a728-5fdd47734838",
   "metadata": {
    "tags": []
   },
   "outputs": [],
   "source": []
  },
  {
   "cell_type": "code",
   "execution_count": null,
   "id": "7588fb33-2319-44e8-8481-79caca10b2c3",
   "metadata": {
    "tags": []
   },
   "outputs": [],
   "source": [
    "imgs = TiffImages('input/hmib/train_images/')\n",
    "anns = JsonAnnotations('input/hmib/train_annotations/')\n",
    "data = DataPair(imgs, anns)"
   ]
  },
  {
   "cell_type": "code",
   "execution_count": null,
   "id": "cd4d3c07-2bcb-4608-92b8-37594097f8a1",
   "metadata": {
    "tags": []
   },
   "outputs": [],
   "source": [
    "labels = read_meta(df)\n",
    "len(labels)"
   ]
  },
  {
   "cell_type": "code",
   "execution_count": null,
   "id": "2f416a6b-41e1-47ac-8ee5-3020999f27d5",
   "metadata": {
    "tags": []
   },
   "outputs": [],
   "source": [
    "r = data(labels[0])"
   ]
  },
  {
   "cell_type": "code",
   "execution_count": null,
   "id": "69838644-7bd2-498b-aaf3-276d97938f92",
   "metadata": {
    "tags": []
   },
   "outputs": [],
   "source": []
  },
  {
   "cell_type": "code",
   "execution_count": null,
   "id": "96a6b386-c2a1-41f3-8d2f-b6df21dd5d7a",
   "metadata": {
    "tags": []
   },
   "outputs": [],
   "source": []
  },
  {
   "cell_type": "code",
   "execution_count": null,
   "id": "607fd88d-a685-4764-8699-b284d3b564ca",
   "metadata": {
    "tags": []
   },
   "outputs": [],
   "source": [
    "ds = MainDataset(cfg,\n",
    "                 'input/hmib/train_images/',\n",
    "                 'input/hmib/train_annotations/',\n",
    "                 'input/hmib/train.csv',\n",
    "                 [Path('input/splits/0.csv'),],\n",
    "                 train=True,\n",
    "                 BaseLoader=DfDataset,\n",
    "                 rate=1\n",
    "                )"
   ]
  },
  {
   "cell_type": "code",
   "execution_count": null,
   "id": "99b0ffa4-7a4c-4591-9931-285e5930c82f",
   "metadata": {
    "tags": []
   },
   "outputs": [],
   "source": [
    "ds[2]"
   ]
  },
  {
   "cell_type": "code",
   "execution_count": null,
   "id": "9ea6586f-7473-4dc4-9e9a-ea987b3bbe95",
   "metadata": {
    "tags": []
   },
   "outputs": [],
   "source": []
  },
  {
   "cell_type": "code",
   "execution_count": null,
   "id": "aed06d5a-2e2b-469b-bc7f-bbd9edc997ea",
   "metadata": {
    "tags": []
   },
   "outputs": [],
   "source": [
    "inddf = pd.read_csv('input/splits/0.csv', header=None, index_col=None)#.values()"
   ]
  },
  {
   "cell_type": "code",
   "execution_count": null,
   "id": "3b68b6af-9fb4-4ade-8690-399f3e8f640f",
   "metadata": {
    "tags": []
   },
   "outputs": [],
   "source": []
  },
  {
   "cell_type": "code",
   "execution_count": null,
   "id": "b4d3c256-21cf-4b9c-a073-51b46a79f924",
   "metadata": {
    "tags": []
   },
   "outputs": [],
   "source": [
    "ds = DfDataset(data, df, inddf)\n",
    "len(ds)"
   ]
  },
  {
   "cell_type": "code",
   "execution_count": null,
   "id": "081b69b4-17f6-4cf1-889c-c01dc0c89699",
   "metadata": {
    "tags": []
   },
   "outputs": [],
   "source": [
    "dl = torch.utils.data.DataLoader(ds, batch_size=4)"
   ]
  },
  {
   "cell_type": "code",
   "execution_count": null,
   "id": "be14de1a-22dd-48ab-96c8-a27813c84798",
   "metadata": {
    "tags": []
   },
   "outputs": [],
   "source": [
    "for b in dl:\n",
    "    break"
   ]
  },
  {
   "cell_type": "code",
   "execution_count": null,
   "id": "c1af13b7-e2a4-413d-bd58-3318552b51c2",
   "metadata": {
    "tags": []
   },
   "outputs": [],
   "source": [
    "b['y'].shape"
   ]
  },
  {
   "cell_type": "code",
   "execution_count": null,
   "id": "eaa02d7c-4cef-4194-99dc-6f14b402e770",
   "metadata": {},
   "outputs": [],
   "source": []
  },
  {
   "cell_type": "code",
   "execution_count": null,
   "id": "d4155597-8c5f-4208-864d-42d09142b81a",
   "metadata": {},
   "outputs": [],
   "source": []
  },
  {
   "cell_type": "code",
   "execution_count": null,
   "id": "f1bd49fb-39a2-456b-b038-bac7d18b897a",
   "metadata": {},
   "outputs": [],
   "source": []
  },
  {
   "cell_type": "code",
   "execution_count": null,
   "id": "eabf9850-78b2-4349-b004-eb271e977332",
   "metadata": {},
   "outputs": [],
   "source": []
  },
  {
   "cell_type": "code",
   "execution_count": null,
   "id": "8fe780fc-29d3-404d-855e-ca31d7d4b83e",
   "metadata": {},
   "outputs": [],
   "source": []
  },
  {
   "cell_type": "code",
   "execution_count": null,
   "id": "393234a9-3067-4ea3-bea5-e84d2668b525",
   "metadata": {},
   "outputs": [],
   "source": []
  },
  {
   "cell_type": "code",
   "execution_count": null,
   "id": "5fb27324-5344-449e-85f4-172e7b13be14",
   "metadata": {
    "tags": []
   },
   "outputs": [],
   "source": [
    "df = pd.read_csv('input/hmib/train.csv')"
   ]
  },
  {
   "cell_type": "code",
   "execution_count": null,
   "id": "1582aa07-28d9-4992-a215-821dc1061c8d",
   "metadata": {
    "tags": []
   },
   "outputs": [],
   "source": [
    "from sklearn.model_selection import StratifiedKFold, KFold\n"
   ]
  },
  {
   "cell_type": "code",
   "execution_count": null,
   "id": "03e4d551-c4e9-4ee3-a333-73b41aeb3310",
   "metadata": {
    "tags": []
   },
   "outputs": [],
   "source": [
    "skf = KFold(n_splits=4, random_state=42, shuffle=True)\n",
    "# skf = KFold(n_splits=4, )"
   ]
  },
  {
   "cell_type": "code",
   "execution_count": null,
   "id": "bc65bfbf-931a-4c08-83a2-4791c2227195",
   "metadata": {
    "tags": []
   },
   "outputs": [],
   "source": [
    "folds = []\n",
    "for i, (_, fold) in enumerate(skf.split(df, df['organ'])):\n",
    "    folds.append(fold)\n",
    "    pd.Series(fold).to_csv(f'input/splits/{i}.csv', index=None, header=None)"
   ]
  },
  {
   "cell_type": "code",
   "execution_count": null,
   "id": "23be6192-352e-4b77-a72f-834e85a0afff",
   "metadata": {
    "tags": []
   },
   "outputs": [],
   "source": [
    "[len(f) for f in folds]"
   ]
  },
  {
   "cell_type": "code",
   "execution_count": null,
   "id": "0b4b4017-523b-475c-b3f4-0abfbd055df2",
   "metadata": {
    "tags": []
   },
   "outputs": [],
   "source": [
    "df.organ.value_counts()"
   ]
  },
  {
   "cell_type": "code",
   "execution_count": null,
   "id": "c89ac9d0-8dfd-4019-a204-328bc7f9bb74",
   "metadata": {
    "tags": []
   },
   "outputs": [],
   "source": [
    "df.iloc[fold].organ.value_counts()"
   ]
  },
  {
   "cell_type": "code",
   "execution_count": null,
   "id": "eba581c2-4e6d-432d-90a4-2da9f90d76fa",
   "metadata": {},
   "outputs": [],
   "source": []
  },
  {
   "cell_type": "code",
   "execution_count": null,
   "id": "1d397d1c-d654-4168-ab88-addc6bedcc1f",
   "metadata": {},
   "outputs": [],
   "source": []
  },
  {
   "cell_type": "code",
   "execution_count": null,
   "id": "6052d926-43f5-438e-98eb-deeb66333a8a",
   "metadata": {},
   "outputs": [],
   "source": []
  },
  {
   "cell_type": "code",
   "execution_count": null,
   "id": "0c017e57-4e5e-4021-8535-5c6510caf481",
   "metadata": {},
   "outputs": [],
   "source": []
  },
  {
   "cell_type": "code",
   "execution_count": null,
   "id": "521b01db-3688-484a-b3c5-d2a4b1008621",
   "metadata": {},
   "outputs": [],
   "source": [
    "import torch\n",
    "vits16 = torch.hub.load('facebookresearch/dino:main', 'dino_vits16')\n"
   ]
  },
  {
   "cell_type": "code",
   "execution_count": null,
   "id": "e744e9bf-52b0-4f33-bd50-d58b9e021005",
   "metadata": {
    "tags": []
   },
   "outputs": [],
   "source": [
    "inp = torch.zeros(4,3,192,224)"
   ]
  },
  {
   "cell_type": "code",
   "execution_count": null,
   "id": "f4841f05-4617-4733-b967-4fe6fc3cc7c2",
   "metadata": {
    "tags": []
   },
   "outputs": [],
   "source": [
    "r = vits16(inp)\n",
    "r.shape"
   ]
  },
  {
   "cell_type": "code",
   "execution_count": null,
   "id": "f06c4a54-0d27-4ae2-b849-3b2aaee48764",
   "metadata": {},
   "outputs": [],
   "source": [
    "vits16.blocks[0].norm1"
   ]
  },
  {
   "cell_type": "code",
   "execution_count": null,
   "id": "1388c833-f8b1-4d4b-8077-9f957b21ae00",
   "metadata": {
    "tags": []
   },
   "outputs": [],
   "source": [
    "for k,v in vits16.named_parameters():\n",
    "    print(k, v.shape)"
   ]
  },
  {
   "cell_type": "code",
   "execution_count": null,
   "id": "609ef1b8-9017-4e8a-a6d5-e3477de3acfe",
   "metadata": {},
   "outputs": [],
   "source": []
  },
  {
   "cell_type": "code",
   "execution_count": null,
   "id": "83420259-ce9d-4ef1-bd08-33533e003996",
   "metadata": {},
   "outputs": [],
   "source": []
  },
  {
   "cell_type": "code",
   "execution_count": null,
   "id": "f239c7a6-9249-47f4-a867-4ee48fd55784",
   "metadata": {},
   "outputs": [],
   "source": []
  }
 ],
 "metadata": {
  "kernelspec": {
   "display_name": "Python 3 (ipykernel)",
   "language": "python",
   "name": "python3"
  },
  "language_info": {
   "codemirror_mode": {
    "name": "ipython",
    "version": 3
   },
   "file_extension": ".py",
   "mimetype": "text/x-python",
   "name": "python",
   "nbconvert_exporter": "python",
   "pygments_lexer": "ipython3",
   "version": "3.7.11"
  }
 },
 "nbformat": 4,
 "nbformat_minor": 5
}
